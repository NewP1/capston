{
 "cells": [
  {
   "cell_type": "code",
   "execution_count": 27,
   "id": "5bfd0c49",
   "metadata": {},
   "outputs": [],
   "source": [
    "from glob import glob\n",
    "import os\n",
    "import random\n",
    "import shutil\n",
    "from tqdm import tqdm\n",
    "import time"
   ]
  },
  {
   "cell_type": "code",
   "execution_count": 28,
   "id": "db7aae7c",
   "metadata": {},
   "outputs": [],
   "source": [
    "def makedirs(path): \n",
    "   try: \n",
    "        os.makedirs(path) \n",
    "   except OSError: \n",
    "       if not os.path.isdir(path): \n",
    "           raise"
   ]
  },
  {
   "cell_type": "code",
   "execution_count": 41,
   "id": "0edc24ab",
   "metadata": {},
   "outputs": [
    {
     "name": "stdout",
     "output_type": "stream",
     "text": [
      "['C:\\\\Users\\\\jaehy\\\\Desktop\\\\test_images\\\\punch\\\\1_frame0.png', 'C:\\\\Users\\\\jaehy\\\\Desktop\\\\test_images\\\\punch\\\\1_frame105.png', 'C:\\\\Users\\\\jaehy\\\\Desktop\\\\test_images\\\\punch\\\\1_frame107.png', 'C:\\\\Users\\\\jaehy\\\\Desktop\\\\test_images\\\\punch\\\\1_frame111.png', 'C:\\\\Users\\\\jaehy\\\\Desktop\\\\test_images\\\\punch\\\\1_frame127.png']\n"
     ]
    }
   ],
   "source": [
    "path = r'C:\\Users\\jaehy\\Desktop\\test_images\\punch/'\n",
    "# des = r'C:\\Users\\jaehy\\Desktop\\for_test_punch/'\n",
    "makedirs(des)\n",
    "\n",
    "file_list = glob(path + '*.png')\n",
    "print(file_list[:5])"
   ]
  },
  {
   "cell_type": "markdown",
   "id": "e6cce7aa",
   "metadata": {},
   "source": [
    "# txt파일 만들기"
   ]
  },
  {
   "cell_type": "code",
   "execution_count": 53,
   "id": "619a7353",
   "metadata": {},
   "outputs": [],
   "source": [
    "# non_path = r'C:\\Users\\jaehy\\Desktop\\for_test_non\\png/'\n",
    "\n",
    "# non_list = glob(non_path + '*.png')\n",
    "# for file in non_list:\n",
    "#     f = open(file[:-4]+'.txt','w')\n",
    "#     f.close()\n",
    "        "
   ]
  },
  {
   "cell_type": "markdown",
   "id": "855cc6c1",
   "metadata": {},
   "source": [
    "---"
   ]
  },
  {
   "cell_type": "code",
   "execution_count": 42,
   "id": "50e6fdb8",
   "metadata": {},
   "outputs": [
    {
     "name": "stdout",
     "output_type": "stream",
     "text": [
      "{1025, 1541, 1037, 533, 1046, 29, 554, 44, 1074, 51, 1589, 1592, 568, 63, 68, 582, 70, 585, 74, 1609, 1102, 83, 1120, 1122, 613, 616, 1132, 1133, 622, 113, 1143, 1148, 645, 1161, 1162, 1175, 688, 691, 189, 190, 1222, 715, 718, 219, 731, 1248, 736, 1249, 752, 1265, 1268, 259, 772, 775, 268, 269, 1293, 282, 283, 798, 1311, 288, 306, 822, 1336, 312, 314, 325, 347, 1377, 871, 1388, 878, 1394, 1398, 898, 387, 1416, 1417, 410, 1435, 926, 1440, 931, 419, 423, 935, 1463, 445, 1473, 962, 1478, 456, 973, 473, 474, 1506, 1519, 1012, 1013}\n"
     ]
    }
   ],
   "source": [
    "get_index = set()\n",
    "\n",
    "while len(get_index) != len(file_list) * .2:\n",
    "    get_index.add(random.randint(0, len(file_list) - 1))\n",
    "print(get_index)"
   ]
  },
  {
   "cell_type": "code",
   "execution_count": null,
   "id": "e8fb16b8",
   "metadata": {},
   "outputs": [],
   "source": []
  },
  {
   "cell_type": "markdown",
   "id": "4aa85ccd",
   "metadata": {},
   "source": [
    "# non"
   ]
  },
  {
   "cell_type": "code",
   "execution_count": 43,
   "id": "2475110e",
   "metadata": {},
   "outputs": [],
   "source": [
    "# for index in tqdm(get_index):\n",
    "#     tmp = file_list[index][len(path):-4]\n",
    "# #     print(tmp)\n",
    "#     change_list = [os.path.join(path, tmp + '.jpg'), os.path.join(path, tmp + '.txt')]\n",
    "#     des_list = [os.path.join(des, tmp + '.jpg'), os.path.join(des, tmp + '.txt')]\n",
    "#     shutil.copyfile(change_list[0], des_list[0])\n",
    "# #             shutil.move(change_list[1], des_list[1])\n",
    "            "
   ]
  },
  {
   "cell_type": "markdown",
   "id": "0b908807",
   "metadata": {},
   "source": [
    "# kick, punch"
   ]
  },
  {
   "cell_type": "code",
   "execution_count": 44,
   "id": "c629050f",
   "metadata": {},
   "outputs": [
    {
     "name": "stderr",
     "output_type": "stream",
     "text": [
      "100%|███████████████████████████████████████████████████████████████████████████████| 100/100 [00:00<00:00, 247.71it/s]\n"
     ]
    }
   ],
   "source": [
    "for index in tqdm(get_index):\n",
    "    tmp = file_list[index][len(path):-4]\n",
    "#     print(tmp)\n",
    "    change_list = [os.path.join(path, tmp + '.png'), os.path.join(path, tmp + '.txt')]\n",
    "    des_list = [os.path.join(des, tmp + '.png'), os.path.join(des, tmp + '.txt')]\n",
    "    shutil.copyfile(change_list[0], des_list[0])\n",
    "    shutil.copyfile(change_list[1], des_list[1])\n",
    "            "
   ]
  },
  {
   "cell_type": "code",
   "execution_count": null,
   "id": "5e4fc126",
   "metadata": {},
   "outputs": [],
   "source": []
  }
 ],
 "metadata": {
  "kernelspec": {
   "display_name": "Python 3 (ipykernel)",
   "language": "python",
   "name": "python3"
  },
  "language_info": {
   "codemirror_mode": {
    "name": "ipython",
    "version": 3
   },
   "file_extension": ".py",
   "mimetype": "text/x-python",
   "name": "python",
   "nbconvert_exporter": "python",
   "pygments_lexer": "ipython3",
   "version": "3.9.7"
  }
 },
 "nbformat": 4,
 "nbformat_minor": 5
}
