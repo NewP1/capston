{
 "cells": [
  {
   "cell_type": "code",
   "execution_count": null,
   "id": "222b4578",
   "metadata": {},
   "outputs": [],
   "source": [
    "# 흑백,반전,회전,블러처리,\n",
    "\n",
    "import cv2\n",
    "import sys\n",
    "import glob\n",
    "import numpy as np\n",
    "\n",
    "img_files = glob.glob('.//class_1//*.JPG')\n",
    "\n",
    "if not img_files :\n",
    "    print(\"There are no jpg files\")\n",
    "    sys.exit()\n",
    "\n",
    "cnt = len(img_files)\n",
    "idx = 0\n",
    "\n",
    "\n",
    "while True :\n",
    "    img = cv2.imread(img_files[idx])\n",
    "    \n",
    "    img_flip = cv2.flip(img,1)\n",
    "    \n",
    "    cp = (img.shape[1]/2,img.shape[0]/2)\n",
    "    random_angle = np.random.randint(0,90)\n",
    "    rot = cv2.getRotationMatrix2D(cp,random_angle,0.7)\n",
    "    img_rotate = cv2.warpAffine(img,rot,(0,0))\n",
    "\n",
    "    img_blur = cv2.GaussianBlur(img,(0,0),5)\n",
    "\n",
    "\n",
    "    cv2.imwrite(\".//total//noback_img_flip_{}.jpg\".format(idx),img_flip)\n",
    "    cv2.imwrite(\".//total// noback_img_blur{}.jpg\".format(idx),img_blur)\n",
    "    cv2.imwrite(\".//total// noback_img_rotate{}.jpg\".format(idx),img_rotate)\n",
    "\n",
    "    idx += 1\n",
    "    if idx >= cnt:\n",
    "        break\n"
   ]
  }
 ],
 "metadata": {
  "kernelspec": {
   "display_name": "Python 3 (ipykernel)",
   "language": "python",
   "name": "python3"
  },
  "language_info": {
   "codemirror_mode": {
    "name": "ipython",
    "version": 3
   },
   "file_extension": ".py",
   "mimetype": "text/x-python",
   "name": "python",
   "nbconvert_exporter": "python",
   "pygments_lexer": "ipython3",
   "version": "3.9.13"
  }
 },
 "nbformat": 4,
 "nbformat_minor": 5
}
