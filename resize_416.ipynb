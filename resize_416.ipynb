{
 "cells": [
  {
   "cell_type": "code",
   "execution_count": 1,
   "id": "79773f40",
   "metadata": {},
   "outputs": [],
   "source": [
    "from glob import glob\n",
    "import cv2\n",
    "import os\n",
    "from PIL import Image, ImageEnhance, ImageChops\n",
    "import numpy as np\n",
    "import time\n",
    "from tqdm import tqdm\n"
   ]
  },
  {
   "cell_type": "code",
   "execution_count": 2,
   "id": "624c7847",
   "metadata": {},
   "outputs": [],
   "source": [
    "def makedirs(path): \n",
    "   try: \n",
    "        os.makedirs(path) \n",
    "   except OSError: \n",
    "       if not os.path.isdir(path): \n",
    "           raise"
   ]
  },
  {
   "cell_type": "code",
   "execution_count": 19,
   "id": "d8e0e85f",
   "metadata": {},
   "outputs": [],
   "source": [
    "path = r'C:\\Users\\jaehy\\Desktop\\5\\violence2/'\n",
    "des = r'C:\\Users\\jaehy\\Desktop\\5\\violence2_416/'\n",
    "makedirs(des)"
   ]
  },
  {
   "cell_type": "code",
   "execution_count": 20,
   "id": "9f0a133c",
   "metadata": {
    "scrolled": true
   },
   "outputs": [
    {
     "name": "stdout",
     "output_type": "stream",
     "text": [
      "['C:\\\\Users\\\\jaehy\\\\Desktop\\\\5\\\\violence2\\\\violence2_0.png', 'C:\\\\Users\\\\jaehy\\\\Desktop\\\\5\\\\violence2\\\\violence2_1.png', 'C:\\\\Users\\\\jaehy\\\\Desktop\\\\5\\\\violence2\\\\violence2_10.png', 'C:\\\\Users\\\\jaehy\\\\Desktop\\\\5\\\\violence2\\\\violence2_100.png', 'C:\\\\Users\\\\jaehy\\\\Desktop\\\\5\\\\violence2\\\\violence2_101.png', 'C:\\\\Users\\\\jaehy\\\\Desktop\\\\5\\\\violence2\\\\violence2_102.png', 'C:\\\\Users\\\\jaehy\\\\Desktop\\\\5\\\\violence2\\\\violence2_103.png', 'C:\\\\Users\\\\jaehy\\\\Desktop\\\\5\\\\violence2\\\\violence2_104.png', 'C:\\\\Users\\\\jaehy\\\\Desktop\\\\5\\\\violence2\\\\violence2_105.png', 'C:\\\\Users\\\\jaehy\\\\Desktop\\\\5\\\\violence2\\\\violence2_106.png', 'C:\\\\Users\\\\jaehy\\\\Desktop\\\\5\\\\violence2\\\\violence2_107.png', 'C:\\\\Users\\\\jaehy\\\\Desktop\\\\5\\\\violence2\\\\violence2_108.png', 'C:\\\\Users\\\\jaehy\\\\Desktop\\\\5\\\\violence2\\\\violence2_109.png', 'C:\\\\Users\\\\jaehy\\\\Desktop\\\\5\\\\violence2\\\\violence2_11.png', 'C:\\\\Users\\\\jaehy\\\\Desktop\\\\5\\\\violence2\\\\violence2_110.png', 'C:\\\\Users\\\\jaehy\\\\Desktop\\\\5\\\\violence2\\\\violence2_111.png', 'C:\\\\Users\\\\jaehy\\\\Desktop\\\\5\\\\violence2\\\\violence2_112.png', 'C:\\\\Users\\\\jaehy\\\\Desktop\\\\5\\\\violence2\\\\violence2_113.png', 'C:\\\\Users\\\\jaehy\\\\Desktop\\\\5\\\\violence2\\\\violence2_114.png', 'C:\\\\Users\\\\jaehy\\\\Desktop\\\\5\\\\violence2\\\\violence2_115.png', 'C:\\\\Users\\\\jaehy\\\\Desktop\\\\5\\\\violence2\\\\violence2_116.png', 'C:\\\\Users\\\\jaehy\\\\Desktop\\\\5\\\\violence2\\\\violence2_117.png', 'C:\\\\Users\\\\jaehy\\\\Desktop\\\\5\\\\violence2\\\\violence2_118.png', 'C:\\\\Users\\\\jaehy\\\\Desktop\\\\5\\\\violence2\\\\violence2_119.png', 'C:\\\\Users\\\\jaehy\\\\Desktop\\\\5\\\\violence2\\\\violence2_12.png', 'C:\\\\Users\\\\jaehy\\\\Desktop\\\\5\\\\violence2\\\\violence2_120.png', 'C:\\\\Users\\\\jaehy\\\\Desktop\\\\5\\\\violence2\\\\violence2_121.png', 'C:\\\\Users\\\\jaehy\\\\Desktop\\\\5\\\\violence2\\\\violence2_122.png', 'C:\\\\Users\\\\jaehy\\\\Desktop\\\\5\\\\violence2\\\\violence2_123.png', 'C:\\\\Users\\\\jaehy\\\\Desktop\\\\5\\\\violence2\\\\violence2_124.png', 'C:\\\\Users\\\\jaehy\\\\Desktop\\\\5\\\\violence2\\\\violence2_125.png', 'C:\\\\Users\\\\jaehy\\\\Desktop\\\\5\\\\violence2\\\\violence2_126.png', 'C:\\\\Users\\\\jaehy\\\\Desktop\\\\5\\\\violence2\\\\violence2_127.png', 'C:\\\\Users\\\\jaehy\\\\Desktop\\\\5\\\\violence2\\\\violence2_128.png', 'C:\\\\Users\\\\jaehy\\\\Desktop\\\\5\\\\violence2\\\\violence2_129.png', 'C:\\\\Users\\\\jaehy\\\\Desktop\\\\5\\\\violence2\\\\violence2_13.png', 'C:\\\\Users\\\\jaehy\\\\Desktop\\\\5\\\\violence2\\\\violence2_130.png', 'C:\\\\Users\\\\jaehy\\\\Desktop\\\\5\\\\violence2\\\\violence2_131.png', 'C:\\\\Users\\\\jaehy\\\\Desktop\\\\5\\\\violence2\\\\violence2_132.png', 'C:\\\\Users\\\\jaehy\\\\Desktop\\\\5\\\\violence2\\\\violence2_133.png', 'C:\\\\Users\\\\jaehy\\\\Desktop\\\\5\\\\violence2\\\\violence2_134.png', 'C:\\\\Users\\\\jaehy\\\\Desktop\\\\5\\\\violence2\\\\violence2_135.png', 'C:\\\\Users\\\\jaehy\\\\Desktop\\\\5\\\\violence2\\\\violence2_136.png', 'C:\\\\Users\\\\jaehy\\\\Desktop\\\\5\\\\violence2\\\\violence2_137.png', 'C:\\\\Users\\\\jaehy\\\\Desktop\\\\5\\\\violence2\\\\violence2_138.png', 'C:\\\\Users\\\\jaehy\\\\Desktop\\\\5\\\\violence2\\\\violence2_139.png', 'C:\\\\Users\\\\jaehy\\\\Desktop\\\\5\\\\violence2\\\\violence2_14.png', 'C:\\\\Users\\\\jaehy\\\\Desktop\\\\5\\\\violence2\\\\violence2_140.png', 'C:\\\\Users\\\\jaehy\\\\Desktop\\\\5\\\\violence2\\\\violence2_141.png', 'C:\\\\Users\\\\jaehy\\\\Desktop\\\\5\\\\violence2\\\\violence2_142.png', 'C:\\\\Users\\\\jaehy\\\\Desktop\\\\5\\\\violence2\\\\violence2_143.png', 'C:\\\\Users\\\\jaehy\\\\Desktop\\\\5\\\\violence2\\\\violence2_144.png', 'C:\\\\Users\\\\jaehy\\\\Desktop\\\\5\\\\violence2\\\\violence2_145.png', 'C:\\\\Users\\\\jaehy\\\\Desktop\\\\5\\\\violence2\\\\violence2_146.png', 'C:\\\\Users\\\\jaehy\\\\Desktop\\\\5\\\\violence2\\\\violence2_147.png', 'C:\\\\Users\\\\jaehy\\\\Desktop\\\\5\\\\violence2\\\\violence2_148.png', 'C:\\\\Users\\\\jaehy\\\\Desktop\\\\5\\\\violence2\\\\violence2_149.png', 'C:\\\\Users\\\\jaehy\\\\Desktop\\\\5\\\\violence2\\\\violence2_15.png', 'C:\\\\Users\\\\jaehy\\\\Desktop\\\\5\\\\violence2\\\\violence2_150.png', 'C:\\\\Users\\\\jaehy\\\\Desktop\\\\5\\\\violence2\\\\violence2_151.png', 'C:\\\\Users\\\\jaehy\\\\Desktop\\\\5\\\\violence2\\\\violence2_152.png', 'C:\\\\Users\\\\jaehy\\\\Desktop\\\\5\\\\violence2\\\\violence2_153.png', 'C:\\\\Users\\\\jaehy\\\\Desktop\\\\5\\\\violence2\\\\violence2_154.png', 'C:\\\\Users\\\\jaehy\\\\Desktop\\\\5\\\\violence2\\\\violence2_155.png', 'C:\\\\Users\\\\jaehy\\\\Desktop\\\\5\\\\violence2\\\\violence2_156.png', 'C:\\\\Users\\\\jaehy\\\\Desktop\\\\5\\\\violence2\\\\violence2_157.png', 'C:\\\\Users\\\\jaehy\\\\Desktop\\\\5\\\\violence2\\\\violence2_158.png', 'C:\\\\Users\\\\jaehy\\\\Desktop\\\\5\\\\violence2\\\\violence2_159.png', 'C:\\\\Users\\\\jaehy\\\\Desktop\\\\5\\\\violence2\\\\violence2_16.png', 'C:\\\\Users\\\\jaehy\\\\Desktop\\\\5\\\\violence2\\\\violence2_160.png', 'C:\\\\Users\\\\jaehy\\\\Desktop\\\\5\\\\violence2\\\\violence2_161.png', 'C:\\\\Users\\\\jaehy\\\\Desktop\\\\5\\\\violence2\\\\violence2_162.png', 'C:\\\\Users\\\\jaehy\\\\Desktop\\\\5\\\\violence2\\\\violence2_163.png', 'C:\\\\Users\\\\jaehy\\\\Desktop\\\\5\\\\violence2\\\\violence2_164.png', 'C:\\\\Users\\\\jaehy\\\\Desktop\\\\5\\\\violence2\\\\violence2_165.png', 'C:\\\\Users\\\\jaehy\\\\Desktop\\\\5\\\\violence2\\\\violence2_166.png', 'C:\\\\Users\\\\jaehy\\\\Desktop\\\\5\\\\violence2\\\\violence2_167.png', 'C:\\\\Users\\\\jaehy\\\\Desktop\\\\5\\\\violence2\\\\violence2_168.png', 'C:\\\\Users\\\\jaehy\\\\Desktop\\\\5\\\\violence2\\\\violence2_169.png', 'C:\\\\Users\\\\jaehy\\\\Desktop\\\\5\\\\violence2\\\\violence2_17.png', 'C:\\\\Users\\\\jaehy\\\\Desktop\\\\5\\\\violence2\\\\violence2_170.png', 'C:\\\\Users\\\\jaehy\\\\Desktop\\\\5\\\\violence2\\\\violence2_171.png', 'C:\\\\Users\\\\jaehy\\\\Desktop\\\\5\\\\violence2\\\\violence2_172.png', 'C:\\\\Users\\\\jaehy\\\\Desktop\\\\5\\\\violence2\\\\violence2_173.png', 'C:\\\\Users\\\\jaehy\\\\Desktop\\\\5\\\\violence2\\\\violence2_174.png', 'C:\\\\Users\\\\jaehy\\\\Desktop\\\\5\\\\violence2\\\\violence2_175.png', 'C:\\\\Users\\\\jaehy\\\\Desktop\\\\5\\\\violence2\\\\violence2_176.png', 'C:\\\\Users\\\\jaehy\\\\Desktop\\\\5\\\\violence2\\\\violence2_177.png', 'C:\\\\Users\\\\jaehy\\\\Desktop\\\\5\\\\violence2\\\\violence2_178.png', 'C:\\\\Users\\\\jaehy\\\\Desktop\\\\5\\\\violence2\\\\violence2_179.png', 'C:\\\\Users\\\\jaehy\\\\Desktop\\\\5\\\\violence2\\\\violence2_18.png', 'C:\\\\Users\\\\jaehy\\\\Desktop\\\\5\\\\violence2\\\\violence2_180.png', 'C:\\\\Users\\\\jaehy\\\\Desktop\\\\5\\\\violence2\\\\violence2_181.png', 'C:\\\\Users\\\\jaehy\\\\Desktop\\\\5\\\\violence2\\\\violence2_182.png', 'C:\\\\Users\\\\jaehy\\\\Desktop\\\\5\\\\violence2\\\\violence2_183.png', 'C:\\\\Users\\\\jaehy\\\\Desktop\\\\5\\\\violence2\\\\violence2_184.png', 'C:\\\\Users\\\\jaehy\\\\Desktop\\\\5\\\\violence2\\\\violence2_185.png', 'C:\\\\Users\\\\jaehy\\\\Desktop\\\\5\\\\violence2\\\\violence2_186.png', 'C:\\\\Users\\\\jaehy\\\\Desktop\\\\5\\\\violence2\\\\violence2_187.png', 'C:\\\\Users\\\\jaehy\\\\Desktop\\\\5\\\\violence2\\\\violence2_188.png', 'C:\\\\Users\\\\jaehy\\\\Desktop\\\\5\\\\violence2\\\\violence2_189.png', 'C:\\\\Users\\\\jaehy\\\\Desktop\\\\5\\\\violence2\\\\violence2_19.png', 'C:\\\\Users\\\\jaehy\\\\Desktop\\\\5\\\\violence2\\\\violence2_190.png', 'C:\\\\Users\\\\jaehy\\\\Desktop\\\\5\\\\violence2\\\\violence2_191.png', 'C:\\\\Users\\\\jaehy\\\\Desktop\\\\5\\\\violence2\\\\violence2_192.png', 'C:\\\\Users\\\\jaehy\\\\Desktop\\\\5\\\\violence2\\\\violence2_193.png', 'C:\\\\Users\\\\jaehy\\\\Desktop\\\\5\\\\violence2\\\\violence2_194.png', 'C:\\\\Users\\\\jaehy\\\\Desktop\\\\5\\\\violence2\\\\violence2_195.png', 'C:\\\\Users\\\\jaehy\\\\Desktop\\\\5\\\\violence2\\\\violence2_196.png', 'C:\\\\Users\\\\jaehy\\\\Desktop\\\\5\\\\violence2\\\\violence2_197.png', 'C:\\\\Users\\\\jaehy\\\\Desktop\\\\5\\\\violence2\\\\violence2_198.png', 'C:\\\\Users\\\\jaehy\\\\Desktop\\\\5\\\\violence2\\\\violence2_199.png', 'C:\\\\Users\\\\jaehy\\\\Desktop\\\\5\\\\violence2\\\\violence2_2.png', 'C:\\\\Users\\\\jaehy\\\\Desktop\\\\5\\\\violence2\\\\violence2_20.png', 'C:\\\\Users\\\\jaehy\\\\Desktop\\\\5\\\\violence2\\\\violence2_21.png', 'C:\\\\Users\\\\jaehy\\\\Desktop\\\\5\\\\violence2\\\\violence2_22.png', 'C:\\\\Users\\\\jaehy\\\\Desktop\\\\5\\\\violence2\\\\violence2_23.png', 'C:\\\\Users\\\\jaehy\\\\Desktop\\\\5\\\\violence2\\\\violence2_24.png', 'C:\\\\Users\\\\jaehy\\\\Desktop\\\\5\\\\violence2\\\\violence2_25.png', 'C:\\\\Users\\\\jaehy\\\\Desktop\\\\5\\\\violence2\\\\violence2_26.png', 'C:\\\\Users\\\\jaehy\\\\Desktop\\\\5\\\\violence2\\\\violence2_27.png', 'C:\\\\Users\\\\jaehy\\\\Desktop\\\\5\\\\violence2\\\\violence2_28.png', 'C:\\\\Users\\\\jaehy\\\\Desktop\\\\5\\\\violence2\\\\violence2_29.png', 'C:\\\\Users\\\\jaehy\\\\Desktop\\\\5\\\\violence2\\\\violence2_3.png', 'C:\\\\Users\\\\jaehy\\\\Desktop\\\\5\\\\violence2\\\\violence2_30.png', 'C:\\\\Users\\\\jaehy\\\\Desktop\\\\5\\\\violence2\\\\violence2_31.png', 'C:\\\\Users\\\\jaehy\\\\Desktop\\\\5\\\\violence2\\\\violence2_32.png', 'C:\\\\Users\\\\jaehy\\\\Desktop\\\\5\\\\violence2\\\\violence2_33.png', 'C:\\\\Users\\\\jaehy\\\\Desktop\\\\5\\\\violence2\\\\violence2_34.png', 'C:\\\\Users\\\\jaehy\\\\Desktop\\\\5\\\\violence2\\\\violence2_35.png', 'C:\\\\Users\\\\jaehy\\\\Desktop\\\\5\\\\violence2\\\\violence2_36.png', 'C:\\\\Users\\\\jaehy\\\\Desktop\\\\5\\\\violence2\\\\violence2_37.png', 'C:\\\\Users\\\\jaehy\\\\Desktop\\\\5\\\\violence2\\\\violence2_38.png', 'C:\\\\Users\\\\jaehy\\\\Desktop\\\\5\\\\violence2\\\\violence2_39.png', 'C:\\\\Users\\\\jaehy\\\\Desktop\\\\5\\\\violence2\\\\violence2_4.png', 'C:\\\\Users\\\\jaehy\\\\Desktop\\\\5\\\\violence2\\\\violence2_40.png', 'C:\\\\Users\\\\jaehy\\\\Desktop\\\\5\\\\violence2\\\\violence2_41.png', 'C:\\\\Users\\\\jaehy\\\\Desktop\\\\5\\\\violence2\\\\violence2_42.png', 'C:\\\\Users\\\\jaehy\\\\Desktop\\\\5\\\\violence2\\\\violence2_43.png', 'C:\\\\Users\\\\jaehy\\\\Desktop\\\\5\\\\violence2\\\\violence2_44.png', 'C:\\\\Users\\\\jaehy\\\\Desktop\\\\5\\\\violence2\\\\violence2_45.png', 'C:\\\\Users\\\\jaehy\\\\Desktop\\\\5\\\\violence2\\\\violence2_46.png', 'C:\\\\Users\\\\jaehy\\\\Desktop\\\\5\\\\violence2\\\\violence2_47.png', 'C:\\\\Users\\\\jaehy\\\\Desktop\\\\5\\\\violence2\\\\violence2_48.png', 'C:\\\\Users\\\\jaehy\\\\Desktop\\\\5\\\\violence2\\\\violence2_49.png', 'C:\\\\Users\\\\jaehy\\\\Desktop\\\\5\\\\violence2\\\\violence2_5.png', 'C:\\\\Users\\\\jaehy\\\\Desktop\\\\5\\\\violence2\\\\violence2_50.png', 'C:\\\\Users\\\\jaehy\\\\Desktop\\\\5\\\\violence2\\\\violence2_51.png', 'C:\\\\Users\\\\jaehy\\\\Desktop\\\\5\\\\violence2\\\\violence2_52.png', 'C:\\\\Users\\\\jaehy\\\\Desktop\\\\5\\\\violence2\\\\violence2_53.png', 'C:\\\\Users\\\\jaehy\\\\Desktop\\\\5\\\\violence2\\\\violence2_54.png', 'C:\\\\Users\\\\jaehy\\\\Desktop\\\\5\\\\violence2\\\\violence2_55.png', 'C:\\\\Users\\\\jaehy\\\\Desktop\\\\5\\\\violence2\\\\violence2_56.png', 'C:\\\\Users\\\\jaehy\\\\Desktop\\\\5\\\\violence2\\\\violence2_57.png', 'C:\\\\Users\\\\jaehy\\\\Desktop\\\\5\\\\violence2\\\\violence2_58.png', 'C:\\\\Users\\\\jaehy\\\\Desktop\\\\5\\\\violence2\\\\violence2_59.png', 'C:\\\\Users\\\\jaehy\\\\Desktop\\\\5\\\\violence2\\\\violence2_6.png', 'C:\\\\Users\\\\jaehy\\\\Desktop\\\\5\\\\violence2\\\\violence2_60.png', 'C:\\\\Users\\\\jaehy\\\\Desktop\\\\5\\\\violence2\\\\violence2_61.png', 'C:\\\\Users\\\\jaehy\\\\Desktop\\\\5\\\\violence2\\\\violence2_62.png', 'C:\\\\Users\\\\jaehy\\\\Desktop\\\\5\\\\violence2\\\\violence2_63.png', 'C:\\\\Users\\\\jaehy\\\\Desktop\\\\5\\\\violence2\\\\violence2_64.png', 'C:\\\\Users\\\\jaehy\\\\Desktop\\\\5\\\\violence2\\\\violence2_65.png', 'C:\\\\Users\\\\jaehy\\\\Desktop\\\\5\\\\violence2\\\\violence2_66.png', 'C:\\\\Users\\\\jaehy\\\\Desktop\\\\5\\\\violence2\\\\violence2_67.png', 'C:\\\\Users\\\\jaehy\\\\Desktop\\\\5\\\\violence2\\\\violence2_68.png', 'C:\\\\Users\\\\jaehy\\\\Desktop\\\\5\\\\violence2\\\\violence2_69.png', 'C:\\\\Users\\\\jaehy\\\\Desktop\\\\5\\\\violence2\\\\violence2_7.png', 'C:\\\\Users\\\\jaehy\\\\Desktop\\\\5\\\\violence2\\\\violence2_70.png', 'C:\\\\Users\\\\jaehy\\\\Desktop\\\\5\\\\violence2\\\\violence2_71.png', 'C:\\\\Users\\\\jaehy\\\\Desktop\\\\5\\\\violence2\\\\violence2_72.png', 'C:\\\\Users\\\\jaehy\\\\Desktop\\\\5\\\\violence2\\\\violence2_73.png', 'C:\\\\Users\\\\jaehy\\\\Desktop\\\\5\\\\violence2\\\\violence2_74.png', 'C:\\\\Users\\\\jaehy\\\\Desktop\\\\5\\\\violence2\\\\violence2_75.png', 'C:\\\\Users\\\\jaehy\\\\Desktop\\\\5\\\\violence2\\\\violence2_76.png', 'C:\\\\Users\\\\jaehy\\\\Desktop\\\\5\\\\violence2\\\\violence2_77.png', 'C:\\\\Users\\\\jaehy\\\\Desktop\\\\5\\\\violence2\\\\violence2_78.png', 'C:\\\\Users\\\\jaehy\\\\Desktop\\\\5\\\\violence2\\\\violence2_79.png', 'C:\\\\Users\\\\jaehy\\\\Desktop\\\\5\\\\violence2\\\\violence2_8.png', 'C:\\\\Users\\\\jaehy\\\\Desktop\\\\5\\\\violence2\\\\violence2_80.png', 'C:\\\\Users\\\\jaehy\\\\Desktop\\\\5\\\\violence2\\\\violence2_81.png', 'C:\\\\Users\\\\jaehy\\\\Desktop\\\\5\\\\violence2\\\\violence2_82.png', 'C:\\\\Users\\\\jaehy\\\\Desktop\\\\5\\\\violence2\\\\violence2_83.png', 'C:\\\\Users\\\\jaehy\\\\Desktop\\\\5\\\\violence2\\\\violence2_84.png', 'C:\\\\Users\\\\jaehy\\\\Desktop\\\\5\\\\violence2\\\\violence2_85.png', 'C:\\\\Users\\\\jaehy\\\\Desktop\\\\5\\\\violence2\\\\violence2_86.png', 'C:\\\\Users\\\\jaehy\\\\Desktop\\\\5\\\\violence2\\\\violence2_87.png', 'C:\\\\Users\\\\jaehy\\\\Desktop\\\\5\\\\violence2\\\\violence2_88.png', 'C:\\\\Users\\\\jaehy\\\\Desktop\\\\5\\\\violence2\\\\violence2_89.png', 'C:\\\\Users\\\\jaehy\\\\Desktop\\\\5\\\\violence2\\\\violence2_9.png', 'C:\\\\Users\\\\jaehy\\\\Desktop\\\\5\\\\violence2\\\\violence2_90.png', 'C:\\\\Users\\\\jaehy\\\\Desktop\\\\5\\\\violence2\\\\violence2_91.png', 'C:\\\\Users\\\\jaehy\\\\Desktop\\\\5\\\\violence2\\\\violence2_92.png', 'C:\\\\Users\\\\jaehy\\\\Desktop\\\\5\\\\violence2\\\\violence2_93.png', 'C:\\\\Users\\\\jaehy\\\\Desktop\\\\5\\\\violence2\\\\violence2_94.png', 'C:\\\\Users\\\\jaehy\\\\Desktop\\\\5\\\\violence2\\\\violence2_95.png', 'C:\\\\Users\\\\jaehy\\\\Desktop\\\\5\\\\violence2\\\\violence2_96.png', 'C:\\\\Users\\\\jaehy\\\\Desktop\\\\5\\\\violence2\\\\violence2_97.png', 'C:\\\\Users\\\\jaehy\\\\Desktop\\\\5\\\\violence2\\\\violence2_98.png', 'C:\\\\Users\\\\jaehy\\\\Desktop\\\\5\\\\violence2\\\\violence2_99.png']\n"
     ]
    }
   ],
   "source": [
    "file_list = glob(path + '*.png')\n",
    "\n",
    "print(file_list)"
   ]
  },
  {
   "cell_type": "code",
   "execution_count": 21,
   "id": "e6bde3eb",
   "metadata": {},
   "outputs": [
    {
     "name": "stderr",
     "output_type": "stream",
     "text": [
      "100%|████████████████████████████████████████████████████████████████████████████████| 200/200 [00:14<00:00, 14.10it/s]\n"
     ]
    }
   ],
   "source": [
    "for file in tqdm(file_list):\n",
    "    tmp = file[len(path):-4]\n",
    "    \n",
    "#     print(tmp)\n",
    "\n",
    "#     change_list = [os.path.join(path, tmp + '.png'), os.path.join(path, tmp + '.txt')]\n",
    "#     print(change_list)\n",
    "#     with open(change_list[1], 'r') as f:\n",
    "#         lines = f.readlines()\n",
    "    change =path + tmp + '.png'\n",
    "    image = Image.open(file)\n",
    "    image = image.convert('RGB') #'L': greyscale, '1': 이진화, 'RGB' , 'RGBA', 'CMYK'\n",
    "    image = image.resize((416, 416))\n",
    "    \n",
    "    re_image = des + tmp + '.png'\n",
    "    image.save(re_image)\n",
    "    \n",
    " \n"
   ]
  },
  {
   "cell_type": "code",
   "execution_count": null,
   "id": "68d5a0c2",
   "metadata": {},
   "outputs": [],
   "source": []
  }
 ],
 "metadata": {
  "kernelspec": {
   "display_name": "Python 3 (ipykernel)",
   "language": "python",
   "name": "python3"
  },
  "language_info": {
   "codemirror_mode": {
    "name": "ipython",
    "version": 3
   },
   "file_extension": ".py",
   "mimetype": "text/x-python",
   "name": "python",
   "nbconvert_exporter": "python",
   "pygments_lexer": "ipython3",
   "version": "3.9.13"
  }
 },
 "nbformat": 4,
 "nbformat_minor": 5
}
