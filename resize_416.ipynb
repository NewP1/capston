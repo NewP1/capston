{
 "cells": [
  {
   "cell_type": "code",
   "execution_count": 8,
   "id": "79773f40",
   "metadata": {},
   "outputs": [],
   "source": [
    "from glob import glob\n",
    "import cv2\n",
    "import os\n",
    "from PIL import Image, ImageEnhance, ImageChops\n",
    "import numpy as np\n",
    "import time\n",
    "from tqdm import tqdm\n"
   ]
  },
  {
   "cell_type": "code",
   "execution_count": 9,
   "id": "624c7847",
   "metadata": {},
   "outputs": [],
   "source": [
    "def makedirs(path): \n",
    "   try: \n",
    "        os.makedirs(path) \n",
    "   except OSError: \n",
    "       if not os.path.isdir(path): \n",
    "           raise"
   ]
  },
  {
   "cell_type": "code",
   "execution_count": 10,
   "id": "d8e0e85f",
   "metadata": {},
   "outputs": [],
   "source": [
    "path = r'D:\\version_6\\falldetection.v1i.darknet\\train/'\n",
    "des = r'D:\\version_6\\falldown/'\n",
    "makedirs(des)"
   ]
  },
  {
   "cell_type": "code",
   "execution_count": 11,
   "id": "9f0a133c",
   "metadata": {
    "scrolled": true
   },
   "outputs": [
    {
     "name": "stdout",
     "output_type": "stream",
     "text": [
      "['D:\\\\version_6\\\\falldetection.v1i.darknet\\\\train\\\\100_jpg.rf.0a30bdde80b2dbebd6d1fdde469dcea7.jpg', 'D:\\\\version_6\\\\falldetection.v1i.darknet\\\\train\\\\13_jpg.rf.7dd24f401e62566318bbaedb9ea148cb.jpg', 'D:\\\\version_6\\\\falldetection.v1i.darknet\\\\train\\\\14_jpg.rf.018b680151523a71cccf510660ce7dde.jpg', 'D:\\\\version_6\\\\falldetection.v1i.darknet\\\\train\\\\1_jpg.rf.46ece56bdef28926611ac0f5faa2ac67.jpg', 'D:\\\\version_6\\\\falldetection.v1i.darknet\\\\train\\\\20_jpg.rf.d11ca02598a43a3fbdab443be92f27f2.jpg', 'D:\\\\version_6\\\\falldetection.v1i.darknet\\\\train\\\\23_jpg.rf.0ccb2e6851c42fe7f8626e56a039b78a.jpg', 'D:\\\\version_6\\\\falldetection.v1i.darknet\\\\train\\\\28_jpg.rf.37db7c412a4368d76d38dc356cd85054.jpg', 'D:\\\\version_6\\\\falldetection.v1i.darknet\\\\train\\\\29_jpg.rf.381cce456247a8fee6e3bc7a04af7990.jpg', 'D:\\\\version_6\\\\falldetection.v1i.darknet\\\\train\\\\32_jpg.rf.1a23fa861309e2719de8ba70ec01db55.jpg', 'D:\\\\version_6\\\\falldetection.v1i.darknet\\\\train\\\\33_jpg.rf.724b2344782687f6850acc055df17005.jpg', 'D:\\\\version_6\\\\falldetection.v1i.darknet\\\\train\\\\3_jpg.rf.a102483e3cac7c0a5127995afbe71705.jpg', 'D:\\\\version_6\\\\falldetection.v1i.darknet\\\\train\\\\44_jpg.rf.aff9ec03d5a50dedc1c45073377b7f75.jpg', 'D:\\\\version_6\\\\falldetection.v1i.darknet\\\\train\\\\46_jpg.rf.feb2b03da2d6a83af6604bd89e1fd069.jpg', 'D:\\\\version_6\\\\falldetection.v1i.darknet\\\\train\\\\49_jpg.rf.5ec5c9ea19ac334d245c218f26122210.jpg', 'D:\\\\version_6\\\\falldetection.v1i.darknet\\\\train\\\\4_jpg.rf.1a9cf52c635b657567a68fc4369e52ec.jpg', 'D:\\\\version_6\\\\falldetection.v1i.darknet\\\\train\\\\50_jpg.rf.804b639c318956c04e3963334bb043be.jpg', 'D:\\\\version_6\\\\falldetection.v1i.darknet\\\\train\\\\52_jpg.rf.162b82908e30d0ca055d6b31f8e9cd04.jpg', 'D:\\\\version_6\\\\falldetection.v1i.darknet\\\\train\\\\5c89433b113a5018ae39fcd1_jpeg.rf.ec2fa19ed320805506d8fadb6ffff915.jpg', 'D:\\\\version_6\\\\falldetection.v1i.darknet\\\\train\\\\5_jpg.rf.a949b7d14e05795070b4a983b4c1b234.jpg', 'D:\\\\version_6\\\\falldetection.v1i.darknet\\\\train\\\\63_jpg.rf.b778b9e01c4b166bfe5621207627fd24.jpg', 'D:\\\\version_6\\\\falldetection.v1i.darknet\\\\train\\\\68_jpg.rf.4616d747fddb4dcc856232ada93cc673.jpg', 'D:\\\\version_6\\\\falldetection.v1i.darknet\\\\train\\\\76_jpg.rf.58d971a3de27c7d8f703ede1b9952170.jpg', 'D:\\\\version_6\\\\falldetection.v1i.darknet\\\\train\\\\77_jpg.rf.328a546d31eec92adfb8024d5297efa4.jpg', 'D:\\\\version_6\\\\falldetection.v1i.darknet\\\\train\\\\78_jpg.rf.e7bc296aba9e4527160ca60b37157c68.jpg', 'D:\\\\version_6\\\\falldetection.v1i.darknet\\\\train\\\\80_jpg.rf.90277dbdeb5ee341130890f99be1b966.jpg', 'D:\\\\version_6\\\\falldetection.v1i.darknet\\\\train\\\\81_jpg.rf.a7e3c4b6394252ec0382e12a6891fd51.jpg', 'D:\\\\version_6\\\\falldetection.v1i.darknet\\\\train\\\\82_jpg.rf.de2e5c702f03ddb07b87085b55b28606.jpg', 'D:\\\\version_6\\\\falldetection.v1i.darknet\\\\train\\\\83_jpg.rf.96abc6c9bf3fa79dcf58d0c459bf286b.jpg', 'D:\\\\version_6\\\\falldetection.v1i.darknet\\\\train\\\\87_jpg.rf.704c30a4e35d05ad39c4de49d433f113.jpg', 'D:\\\\version_6\\\\falldetection.v1i.darknet\\\\train\\\\96_jpg.rf.33e54f7553c3ecccb6af9cb7a3fb9268.jpg', 'D:\\\\version_6\\\\falldetection.v1i.darknet\\\\train\\\\97_jpg.rf.82f5a3809e078acd0e5234522b98b9ab.jpg', 'D:\\\\version_6\\\\falldetection.v1i.darknet\\\\train\\\\9_jpg.rf.7c513c2a16ae55ef8e2ccdc3fb3c8b39.jpg', 'D:\\\\version_6\\\\falldetection.v1i.darknet\\\\train\\\\download--1-_jpeg.rf.51621d509d474c48bfa9d5af7b69c07e.jpg', 'D:\\\\version_6\\\\falldetection.v1i.darknet\\\\train\\\\download_jpeg.rf.39f4daefb6f68f0bcefde90992931b33.jpg', 'D:\\\\version_6\\\\falldetection.v1i.darknet\\\\train\\\\fall-01-cam0-rgb-116_png.rf.b9c0c09f7afd2d03b5c438fda5ed13f4.jpg', 'D:\\\\version_6\\\\falldetection.v1i.darknet\\\\train\\\\fall-01-cam1-rgb-125_png.rf.4194d15d26a45a97a47a52bd9625e890.jpg', 'D:\\\\version_6\\\\falldetection.v1i.darknet\\\\train\\\\fall-02-cam0-rgb-073_png.rf.17b89e5ac436d1a37f1e6470053eda59.jpg', 'D:\\\\version_6\\\\falldetection.v1i.darknet\\\\train\\\\fall-02-cam1-rgb-073_png.rf.5beac3f39b1bf394f41ee9045bcb22bd.jpg', 'D:\\\\version_6\\\\falldetection.v1i.darknet\\\\train\\\\fall-02-cam1-rgb-083_png.rf.4c15c3e94aadb98b4b55df9f64ec1933.jpg', 'D:\\\\version_6\\\\falldetection.v1i.darknet\\\\train\\\\fall-03-cam0-rgb-213_png.rf.b0c95bace67d6ec1ab1762ef05ad808c.jpg', 'D:\\\\version_6\\\\falldetection.v1i.darknet\\\\train\\\\fall-03-cam1-rgb-185_png.rf.232259d48cbd34e29990e0dec8a1d71e.jpg', 'D:\\\\version_6\\\\falldetection.v1i.darknet\\\\train\\\\fall-04-cam0-rgb-053_png.rf.9df13e6f323ae90fb44180d919abb2a1.jpg', 'D:\\\\version_6\\\\falldetection.v1i.darknet\\\\train\\\\fall-04-cam1-rgb-056_png.rf.cb87b2c9321a3ce13fa334e055e98b27.jpg', 'D:\\\\version_6\\\\falldetection.v1i.darknet\\\\train\\\\fall-06-cam1-rgb-056_png.rf.4675f1ef4f90d1db611139dd7b1ddcbe.jpg', 'D:\\\\version_6\\\\falldetection.v1i.darknet\\\\train\\\\fall-07-cam1-rgb-115_png.rf.5ced2916df6eb41fe048b7c4fec65730.jpg', 'D:\\\\version_6\\\\falldetection.v1i.darknet\\\\train\\\\fall-07-cam1-rgb-132_png.rf.79fd4786be046fea558c5eded24af956.jpg', 'D:\\\\version_6\\\\falldetection.v1i.darknet\\\\train\\\\fall-08-cam0-rgb-084_png.rf.54885bc42a1a34d61c8fc9fcdd8eae47.jpg', 'D:\\\\version_6\\\\falldetection.v1i.darknet\\\\train\\\\fall-09-cam1-rgb-148_png.rf.e1047e3182cb46ad212adde54693a6c6.jpg', 'D:\\\\version_6\\\\falldetection.v1i.darknet\\\\train\\\\fall-12-cam0-rgb-059_png.rf.39ea5aa91c3976396158dbde1825b8ce.jpg', 'D:\\\\version_6\\\\falldetection.v1i.darknet\\\\train\\\\fall-14-cam0-rgb-061_png.rf.27fb29d059c8d3339e7dc5850068d26f.jpg', 'D:\\\\version_6\\\\falldetection.v1i.darknet\\\\train\\\\fall-14-cam1-rgb-049_png.rf.795d970455442ab384379e674e4aa164.jpg', 'D:\\\\version_6\\\\falldetection.v1i.darknet\\\\train\\\\fall-18-cam1-rgb-043_png.rf.ed18d4f393011a769fbae3b3a9c68d4a.jpg', 'D:\\\\version_6\\\\falldetection.v1i.darknet\\\\train\\\\fall-26-cam1-rgb-040_png.rf.44888b151fbe0bfbb7fbfd90edf398d9.jpg', 'D:\\\\version_6\\\\falldetection.v1i.darknet\\\\train\\\\fallen-man-ladder-unconcious-elderly-lying-ground-having-fell-31442045_jpg.rf.b15c04e5bad608bf6bee644eccd41b9d.jpg', 'D:\\\\version_6\\\\falldetection.v1i.darknet\\\\train\\\\full-length-young-businessman-fallen-260nw-183268364_jpg.rf.5deaf4ec81de61d2cf560e5967ee5dae.jpg', 'D:\\\\version_6\\\\falldetection.v1i.darknet\\\\train\\\\gettyimages-1183001771-612x612_jpg.rf.6d76e6e18ad1d18dadd02a4c97679e56.jpg', 'D:\\\\version_6\\\\falldetection.v1i.darknet\\\\train\\\\gettyimages-138341313-612x612_jpg.rf.0268525bd8936afad9fb52c372d8c209.jpg', 'D:\\\\version_6\\\\falldetection.v1i.darknet\\\\train\\\\images--10-_jpeg.rf.4910f96cde4db1bd6b8d3067310f8d4a.jpg', 'D:\\\\version_6\\\\falldetection.v1i.darknet\\\\train\\\\images--11-_jpeg.rf.f271ebd52beb5275540114314f4eb2d7.jpg', 'D:\\\\version_6\\\\falldetection.v1i.darknet\\\\train\\\\images--12-_jpeg.rf.7f3cccad052772407ebe958e5dc84eb2.jpg', 'D:\\\\version_6\\\\falldetection.v1i.darknet\\\\train\\\\images--13-_jpeg.rf.cc22e7c59367dd58a331b17f3d915c8a.jpg', 'D:\\\\version_6\\\\falldetection.v1i.darknet\\\\train\\\\images--14-_jpeg.rf.83e7b5e8fa52224c8c16073c240b2b66.jpg', 'D:\\\\version_6\\\\falldetection.v1i.darknet\\\\train\\\\images--20-_jpeg.rf.4bfe1e6d4a1e4a40a47855da93fc0078.jpg', 'D:\\\\version_6\\\\falldetection.v1i.darknet\\\\train\\\\images--21-_jpeg.rf.482580bddf4a968c3372c0790fb14b27.jpg', 'D:\\\\version_6\\\\falldetection.v1i.darknet\\\\train\\\\images--26-_jpeg.rf.418e814e19bc32c8870ebe9ee36bd806.jpg', 'D:\\\\version_6\\\\falldetection.v1i.darknet\\\\train\\\\images--27-_jpeg.rf.97a838503bb422fdc6d5726d0b46f60c.jpg', 'D:\\\\version_6\\\\falldetection.v1i.darknet\\\\train\\\\images--28-_jpeg.rf.07e5a17f96c74d5b6714c6f39319455a.jpg', 'D:\\\\version_6\\\\falldetection.v1i.darknet\\\\train\\\\images--30-_jpeg.rf.942c960912d38dbf5a6e5e9c2d776b6b.jpg', 'D:\\\\version_6\\\\falldetection.v1i.darknet\\\\train\\\\images--32-_jpeg.rf.bf3ca5b826e582818ab77264e346600e.jpg', 'D:\\\\version_6\\\\falldetection.v1i.darknet\\\\train\\\\images--33-_jpeg.rf.e51ff72184e95cd1bcda5d7774d286c2.jpg', 'D:\\\\version_6\\\\falldetection.v1i.darknet\\\\train\\\\images--9-_jpeg.rf.f84a3a3a104637feae2e042c6a5eb9d1.jpg', 'D:\\\\version_6\\\\falldetection.v1i.darknet\\\\train\\\\istockphoto-173556820-612x612_jpg.rf.91d3b5b9de7cd73371719411c10b07d9.jpg', 'D:\\\\version_6\\\\falldetection.v1i.darknet\\\\train\\\\man-fallen-on-floor-having-260nw-1480983821_jpg.rf.156104eae7fbadf768df2b6a0b1b0757.jpg', 'D:\\\\version_6\\\\falldetection.v1i.darknet\\\\train\\\\man-with-a-walker-falling-down-in-the-stock-photo_csp4654232_jpg.rf.52fa24af8822a768f7f2ea4628b47d77.jpg', 'D:\\\\version_6\\\\falldetection.v1i.darknet\\\\train\\\\repairman-fallen-from-ladder-X13YEJ_jpg.rf.08343f3a318c6dfa2e2ca0037b209c7c.jpg', 'D:\\\\version_6\\\\falldetection.v1i.darknet\\\\train\\\\split10_184_png.rf.c40c6574f946b7d08bf775d5ebd70ec9.jpg', 'D:\\\\version_6\\\\falldetection.v1i.darknet\\\\train\\\\split11_001_png.rf.6104c284c69424091c5644cf4480140a.jpg', 'D:\\\\version_6\\\\falldetection.v1i.darknet\\\\train\\\\split11_009_png.rf.80699cbd604960da9bd7453ff48c2023.jpg', 'D:\\\\version_6\\\\falldetection.v1i.darknet\\\\train\\\\split11_022_png.rf.c2398b34f56be2cb33eae1482d242a64.jpg', 'D:\\\\version_6\\\\falldetection.v1i.darknet\\\\train\\\\split11_030_png.rf.9395b4d270e3033f3878a97d5e0a6f58.jpg', 'D:\\\\version_6\\\\falldetection.v1i.darknet\\\\train\\\\split11_093_png.rf.ba5c05eb47a8a90be8af13a7e66748a1.jpg', 'D:\\\\version_6\\\\falldetection.v1i.darknet\\\\train\\\\split11_1004_png.rf.ef41b58bc9c94665f997a273cb2c3221.jpg', 'D:\\\\version_6\\\\falldetection.v1i.darknet\\\\train\\\\split11_1029_png.rf.ccb1110f933dcdd8e1f91fd15570d229.jpg', 'D:\\\\version_6\\\\falldetection.v1i.darknet\\\\train\\\\split11_1038_png.rf.d644a43d0f983cad3722a15afd9efc8f.jpg', 'D:\\\\version_6\\\\falldetection.v1i.darknet\\\\train\\\\split11_1064_png.rf.eda1fc911fc32420aa5bf537219816fe.jpg', 'D:\\\\version_6\\\\falldetection.v1i.darknet\\\\train\\\\split11_1203_png.rf.e8d8c271eede832c329cf2fc6e6e8864.jpg', 'D:\\\\version_6\\\\falldetection.v1i.darknet\\\\train\\\\split11_1696_png.rf.84814827cfb6fb04ea94da330f572f41.jpg', 'D:\\\\version_6\\\\falldetection.v1i.darknet\\\\train\\\\split11_175_png.rf.d73506d085f0785f4208649db5c249db.jpg', 'D:\\\\version_6\\\\falldetection.v1i.darknet\\\\train\\\\split11_2080_png.rf.80bd5f9456ec8dfa5cbcf5df5c7dfda1.jpg', 'D:\\\\version_6\\\\falldetection.v1i.darknet\\\\train\\\\split11_2082_png.rf.3d689435b9606d1b4e67b99b68aed02c.jpg', 'D:\\\\version_6\\\\falldetection.v1i.darknet\\\\train\\\\split11_530_png.rf.9a0bfe729dfd828811e8209b9db4e7fa.jpg', 'D:\\\\version_6\\\\falldetection.v1i.darknet\\\\train\\\\split11_682_png.rf.21566bd7578de19524cb0242e687b1c9.jpg', 'D:\\\\version_6\\\\falldetection.v1i.darknet\\\\train\\\\split11_959_png.rf.98bb64532526c68a71b35e333196d6fe.jpg', 'D:\\\\version_6\\\\falldetection.v1i.darknet\\\\train\\\\split11_993_png.rf.91612a4f7fbb099bb6a7a5e19b8c16f5.jpg', 'D:\\\\version_6\\\\falldetection.v1i.darknet\\\\train\\\\split2_019_png.rf.7477a1abdd5dbc0c92901bdb1554df80.jpg', 'D:\\\\version_6\\\\falldetection.v1i.darknet\\\\train\\\\young-man-dress-nightclothes-sleeping-260nw-90510538_jpg.rf.345cec0a8832c9af45a10d22f5d588b4.jpg']\n"
     ]
    }
   ],
   "source": [
    "file_list = glob(path + '*.jpg')\n",
    "\n",
    "print(file_list)"
   ]
  },
  {
   "cell_type": "code",
   "execution_count": 12,
   "id": "e6bde3eb",
   "metadata": {},
   "outputs": [
    {
     "name": "stderr",
     "output_type": "stream",
     "text": [
      "100%|██████████████████████████████████████████████████████████████████████████████████| 96/96 [00:04<00:00, 19.38it/s]\n"
     ]
    }
   ],
   "source": [
    "for file in tqdm(file_list):\n",
    "    tmp = file[len(path):-4]\n",
    "    \n",
    "#     print(tmp)\n",
    "\n",
    "#     change_list = [os.path.join(path, tmp + '.png'), os.path.join(path, tmp + '.txt')]\n",
    "#     print(change_list)\n",
    "#     with open(change_list[1], 'r') as f:\n",
    "#         lines = f.readlines()\n",
    "    change =path + tmp + '.png'\n",
    "    image = Image.open(file)\n",
    "    image = image.convert('RGB') #'L': greyscale, '1': 이진화, 'RGB' , 'RGBA', 'CMYK'\n",
    "    image = image.resize((416, 416))\n",
    "    \n",
    "    re_image = des + tmp + '.png'\n",
    "    image.save(re_image,'png')\n",
    "    \n",
    " \n"
   ]
  },
  {
   "cell_type": "code",
   "execution_count": null,
   "id": "68d5a0c2",
   "metadata": {},
   "outputs": [],
   "source": []
  },
  {
   "cell_type": "code",
   "execution_count": null,
   "id": "4449965e",
   "metadata": {},
   "outputs": [],
   "source": []
  }
 ],
 "metadata": {
  "kernelspec": {
   "display_name": "Python 3 (ipykernel)",
   "language": "python",
   "name": "python3"
  },
  "language_info": {
   "codemirror_mode": {
    "name": "ipython",
    "version": 3
   },
   "file_extension": ".py",
   "mimetype": "text/x-python",
   "name": "python",
   "nbconvert_exporter": "python",
   "pygments_lexer": "ipython3",
   "version": "3.9.7"
  }
 },
 "nbformat": 4,
 "nbformat_minor": 5
}
