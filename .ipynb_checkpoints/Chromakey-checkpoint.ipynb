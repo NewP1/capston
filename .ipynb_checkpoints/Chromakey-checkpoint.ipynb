{
 "cells": [
  {
   "cell_type": "code",
   "execution_count": null,
   "id": "b60f5bd0",
   "metadata": {},
   "outputs": [],
   "source": [
    "import cv2\n",
    "import sys\n",
    "import glob\n",
    "\n",
    "#크로마키 이용한 데이터 증식 코드\n",
    "img_files = glob.glob('.//class1//*.jpg')\n",
    "bg_files = glob.glob('.//background//*.jpg')\n",
    "\n",
    "if not img_files or not bg_files :\n",
    "    print(\"There are no jpg files\")\n",
    "    sys.exit()  \n",
    "\n",
    "cnt = len(img_files)\n",
    "bg_cnt = len(bg_files)\n",
    "idx = 0\n",
    "count = 0\n",
    "\n",
    "while True:\n",
    "    img = cv2.imread(img_files[idx])\n",
    "    h,w = img.shape[:2]\n",
    "\n",
    "    if img is None:\n",
    "        print('Image load failed')\n",
    "        break\n",
    "    \n",
    "    hsv = cv2.cvtColor(img,cv2.COLOR_BGR2HSV)\n",
    "    mask = cv2.inRange(hsv,(30,150,0),(90,255,255))\n",
    "\n",
    "    for i in range(bg_cnt):\n",
    "        back = cv2.imread(bg_files[i])\n",
    "        back = cv2.resize(back, dsize=(w, h), interpolation=cv2.INTER_AREA)\n",
    "        cv2.copyTo(back,mask,img)\n",
    "\n",
    "        cv2.imshow(\"img\",img)\n",
    "        cv2.imwrite(\".//output// {}.jpg\".format(count),img)\n",
    "        cv2.waitKey(1)\n",
    "        count += 1\n",
    "        \n",
    "\n",
    "    idx += 1\n",
    "    if idx >= cnt:\n",
    "        break\n",
    "\n",
    "cv2.destroyAllWindows()"
   ]
  }
 ],
 "metadata": {
  "kernelspec": {
   "display_name": "Python 3 (ipykernel)",
   "language": "python",
   "name": "python3"
  },
  "language_info": {
   "codemirror_mode": {
    "name": "ipython",
    "version": 3
   },
   "file_extension": ".py",
   "mimetype": "text/x-python",
   "name": "python",
   "nbconvert_exporter": "python",
   "pygments_lexer": "ipython3",
   "version": "3.9.7"
  }
 },
 "nbformat": 4,
 "nbformat_minor": 5
}
