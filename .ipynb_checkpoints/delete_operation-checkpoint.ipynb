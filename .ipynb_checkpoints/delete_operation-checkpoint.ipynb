{
 "cells": [
  {
   "cell_type": "code",
   "execution_count": 1,
   "id": "46d04a9e",
   "metadata": {},
   "outputs": [
    {
     "name": "stdout",
     "output_type": "stream",
     "text": [
      "['D:\\\\4\\\\real\\\\vio_200\\\\violence1\\\\reallife_1_V_103.mp4_frame109.txt', 'D:\\\\4\\\\real\\\\vio_200\\\\violence1\\\\reallife_1_V_103.mp4_frame112.txt', 'D:\\\\4\\\\real\\\\vio_200\\\\violence1\\\\reallife_1_V_119.mp4_frame371.txt', 'D:\\\\4\\\\real\\\\vio_200\\\\violence1\\\\reallife_1_V_119.mp4_frame383.txt', 'D:\\\\4\\\\real\\\\vio_200\\\\violence1\\\\reallife_1_V_125.mp4_frame487.txt', 'D:\\\\4\\\\real\\\\vio_200\\\\violence1\\\\reallife_1_V_145.mp4_frame868.txt', 'D:\\\\4\\\\real\\\\vio_200\\\\violence1\\\\reallife_1_V_157.mp4_frame1084.txt', 'D:\\\\4\\\\real\\\\vio_200\\\\violence1\\\\reallife_1_V_184.mp4_frame1530.txt', 'D:\\\\4\\\\real\\\\vio_200\\\\violence1\\\\reallife_1_V_184.mp4_frame1531.txt', 'D:\\\\4\\\\real\\\\vio_200\\\\violence1\\\\reallife_1_V_185.mp4_frame1548.txt', 'D:\\\\4\\\\real\\\\vio_200\\\\violence1\\\\reallife_1_V_19.mp4_frame1633.txt', 'D:\\\\4\\\\real\\\\vio_200\\\\violence1\\\\reallife_1_V_203.mp4_frame1901.txt', 'D:\\\\4\\\\real\\\\vio_200\\\\violence1\\\\reallife_1_V_204.mp4_frame1916.txt', 'D:\\\\4\\\\real\\\\vio_200\\\\violence1\\\\reallife_1_V_21.mp4_frame2016.txt', 'D:\\\\4\\\\real\\\\vio_200\\\\violence1\\\\reallife_1_V_210.mp4_frame2036.txt', 'D:\\\\4\\\\real\\\\vio_200\\\\violence1\\\\reallife_1_V_213.mp4_frame2076.txt', 'D:\\\\4\\\\real\\\\vio_200\\\\violence1\\\\reallife_1_V_223.mp4_frame2244.txt', 'D:\\\\4\\\\real\\\\vio_200\\\\violence1\\\\reallife_1_V_228.mp4_frame2327.txt', 'D:\\\\4\\\\real\\\\vio_200\\\\violence1\\\\reallife_1_V_229.mp4_frame2336.txt', 'D:\\\\4\\\\real\\\\vio_200\\\\violence1\\\\reallife_1_V_229.mp4_frame2345.txt', 'D:\\\\4\\\\real\\\\vio_200\\\\violence1\\\\reallife_1_V_232.mp4_frame2402.txt', 'D:\\\\4\\\\real\\\\vio_200\\\\violence1\\\\reallife_1_V_234.mp4_frame2420.txt', 'D:\\\\4\\\\real\\\\vio_200\\\\violence1\\\\reallife_1_V_234.mp4_frame2426.txt', 'D:\\\\4\\\\real\\\\vio_200\\\\violence1\\\\reallife_1_V_235.mp4_frame2437.txt', 'D:\\\\4\\\\real\\\\vio_200\\\\violence1\\\\reallife_1_V_241.mp4_frame2560.txt', 'D:\\\\4\\\\real\\\\vio_200\\\\violence1\\\\reallife_1_V_249.mp4_frame2637.txt', 'D:\\\\4\\\\real\\\\vio_200\\\\violence1\\\\reallife_1_V_250.mp4_frame2666.txt', 'D:\\\\4\\\\real\\\\vio_200\\\\violence1\\\\reallife_1_V_252.mp4_frame2687.txt', 'D:\\\\4\\\\real\\\\vio_200\\\\violence1\\\\reallife_1_V_283.mp4_frame3196.txt', 'D:\\\\4\\\\real\\\\vio_200\\\\violence1\\\\reallife_1_V_289.mp4_frame3297.txt', 'D:\\\\4\\\\real\\\\vio_200\\\\violence1\\\\reallife_1_V_302.mp4_frame3561.txt', 'D:\\\\4\\\\real\\\\vio_200\\\\violence1\\\\reallife_1_V_303.mp4_frame3575.txt', 'D:\\\\4\\\\real\\\\vio_200\\\\violence1\\\\reallife_1_V_309.mp4_frame3669.txt', 'D:\\\\4\\\\real\\\\vio_200\\\\violence1\\\\reallife_1_V_319.mp4_frame3852.txt', 'D:\\\\4\\\\real\\\\vio_200\\\\violence1\\\\reallife_1_V_32.mp4_frame3863.txt', 'D:\\\\4\\\\real\\\\vio_200\\\\violence1\\\\reallife_1_V_334.mp4_frame4123.txt', 'D:\\\\4\\\\real\\\\vio_200\\\\violence1\\\\reallife_1_V_365.mp4_frame4694.txt', 'D:\\\\4\\\\real\\\\vio_200\\\\violence1\\\\reallife_1_V_366.mp4_frame4713.txt', 'D:\\\\4\\\\real\\\\vio_200\\\\violence1\\\\reallife_1_V_370.mp4_frame4788.txt', 'D:\\\\4\\\\real\\\\vio_200\\\\violence1\\\\reallife_1_V_377.mp4_frame4927.txt', 'D:\\\\4\\\\real\\\\vio_200\\\\violence1\\\\reallife_1_V_384.mp4_frame5039.txt', 'D:\\\\4\\\\real\\\\vio_200\\\\violence1\\\\reallife_1_V_384.mp4_frame5040.txt', 'D:\\\\4\\\\real\\\\vio_200\\\\violence1\\\\reallife_1_V_384.mp4_frame5043.txt', 'D:\\\\4\\\\real\\\\vio_200\\\\violence1\\\\reallife_1_V_385.mp4_frame5055.txt', 'D:\\\\4\\\\real\\\\vio_200\\\\violence1\\\\reallife_1_V_389.mp4_frame5116.txt', 'D:\\\\4\\\\real\\\\vio_200\\\\violence1\\\\reallife_1_V_390.mp4_frame5152.txt', 'D:\\\\4\\\\real\\\\vio_200\\\\violence1\\\\reallife_1_V_398.mp4_frame5397.txt', 'D:\\\\4\\\\real\\\\vio_200\\\\violence1\\\\reallife_1_V_398.mp4_frame5404.txt', 'D:\\\\4\\\\real\\\\vio_200\\\\violence1\\\\reallife_1_V_398.mp4_frame5405.txt', 'D:\\\\4\\\\real\\\\vio_200\\\\violence1\\\\reallife_1_V_398.mp4_frame5413.txt', 'D:\\\\4\\\\real\\\\vio_200\\\\violence1\\\\reallife_1_V_401.mp4_frame5744.txt', 'D:\\\\4\\\\real\\\\vio_200\\\\violence1\\\\reallife_1_V_401.mp4_frame5745.txt', 'D:\\\\4\\\\real\\\\vio_200\\\\violence1\\\\reallife_1_V_406.mp4_frame5803.txt', 'D:\\\\4\\\\real\\\\vio_200\\\\violence1\\\\reallife_1_V_406.mp4_frame5804.txt', 'D:\\\\4\\\\real\\\\vio_200\\\\violence1\\\\reallife_1_V_407.mp4_frame5815.txt', 'D:\\\\4\\\\real\\\\vio_200\\\\violence1\\\\reallife_1_V_407.mp4_frame5819.txt', 'D:\\\\4\\\\real\\\\vio_200\\\\violence1\\\\reallife_1_V_407.mp4_frame5820.txt', 'D:\\\\4\\\\real\\\\vio_200\\\\violence1\\\\reallife_1_V_410.mp4_frame5876.txt', 'D:\\\\4\\\\real\\\\vio_200\\\\violence1\\\\reallife_1_V_412.mp4_frame5899.txt', 'D:\\\\4\\\\real\\\\vio_200\\\\violence1\\\\reallife_1_V_413.mp4_frame5912.txt', 'D:\\\\4\\\\real\\\\vio_200\\\\violence1\\\\reallife_1_V_413.mp4_frame5913.txt', 'D:\\\\4\\\\real\\\\vio_200\\\\violence1\\\\reallife_1_V_420.mp4_frame6007.txt', 'D:\\\\4\\\\real\\\\vio_200\\\\violence1\\\\reallife_1_V_422.mp4_frame6035.txt', 'D:\\\\4\\\\real\\\\vio_200\\\\violence1\\\\reallife_1_V_422.mp4_frame6036.txt', 'D:\\\\4\\\\real\\\\vio_200\\\\violence1\\\\reallife_1_V_422.mp4_frame6038.txt', 'D:\\\\4\\\\real\\\\vio_200\\\\violence1\\\\reallife_1_V_430.mp4_frame6164.txt', 'D:\\\\4\\\\real\\\\vio_200\\\\violence1\\\\reallife_1_V_430.mp4_frame6165.txt', 'D:\\\\4\\\\real\\\\vio_200\\\\violence1\\\\reallife_1_V_430.mp4_frame6166.txt', 'D:\\\\4\\\\real\\\\vio_200\\\\violence1\\\\reallife_1_V_430.mp4_frame6167.txt', 'D:\\\\4\\\\real\\\\vio_200\\\\violence1\\\\reallife_1_V_433.mp4_frame6199.txt', 'D:\\\\4\\\\real\\\\vio_200\\\\violence1\\\\reallife_1_V_446.mp4_frame6383.txt', 'D:\\\\4\\\\real\\\\vio_200\\\\violence1\\\\reallife_1_V_448.mp4_frame6401.txt', 'D:\\\\4\\\\real\\\\vio_200\\\\violence1\\\\reallife_1_V_451.mp4_frame6450.txt', 'D:\\\\4\\\\real\\\\vio_200\\\\violence1\\\\reallife_1_V_452.mp4_frame6466.txt', 'D:\\\\4\\\\real\\\\vio_200\\\\violence1\\\\reallife_1_V_452.mp4_frame6470.txt', 'D:\\\\4\\\\real\\\\vio_200\\\\violence1\\\\reallife_1_V_452.mp4_frame6472.txt', 'D:\\\\4\\\\real\\\\vio_200\\\\violence1\\\\reallife_1_V_454.mp4_frame6490.txt', 'D:\\\\4\\\\real\\\\vio_200\\\\violence1\\\\reallife_1_V_454.mp4_frame6495.txt', 'D:\\\\4\\\\real\\\\vio_200\\\\violence1\\\\reallife_1_V_464.mp4_frame6651.txt', 'D:\\\\4\\\\real\\\\vio_200\\\\violence1\\\\reallife_1_V_464.mp4_frame6661.txt', 'D:\\\\4\\\\real\\\\vio_200\\\\violence1\\\\reallife_1_V_464.mp4_frame6662.txt', 'D:\\\\4\\\\real\\\\vio_200\\\\violence1\\\\reallife_1_V_465.mp4_frame6670.txt', 'D:\\\\4\\\\real\\\\vio_200\\\\violence1\\\\reallife_1_V_483.mp4_frame6967.txt', 'D:\\\\4\\\\real\\\\vio_200\\\\violence1\\\\reallife_1_V_487.mp4_frame7027.txt', 'D:\\\\4\\\\real\\\\vio_200\\\\violence1\\\\reallife_1_V_487.mp4_frame7036.txt', 'D:\\\\4\\\\real\\\\vio_200\\\\violence1\\\\reallife_1_V_496.mp4_frame7172.txt', 'D:\\\\4\\\\real\\\\vio_200\\\\violence1\\\\reallife_1_V_507.mp4_frame7371.txt', 'D:\\\\4\\\\real\\\\vio_200\\\\violence1\\\\reallife_1_V_508.mp4_frame7387.txt', 'D:\\\\4\\\\real\\\\vio_200\\\\violence1\\\\reallife_1_V_509.mp4_frame7400.txt', 'D:\\\\4\\\\real\\\\vio_200\\\\violence1\\\\reallife_1_V_509.mp4_frame7401.txt', 'D:\\\\4\\\\real\\\\vio_200\\\\violence1\\\\reallife_1_V_509.mp4_frame7402.txt', 'D:\\\\4\\\\real\\\\vio_200\\\\violence1\\\\reallife_1_V_509.mp4_frame7406.txt', 'D:\\\\4\\\\real\\\\vio_200\\\\violence1\\\\reallife_1_V_510.mp4_frame7426.txt', 'D:\\\\4\\\\real\\\\vio_200\\\\violence1\\\\reallife_1_V_510.mp4_frame7434.txt', 'D:\\\\4\\\\real\\\\vio_200\\\\violence1\\\\reallife_1_V_516.mp4_frame7523.txt', 'D:\\\\4\\\\real\\\\vio_200\\\\violence1\\\\reallife_1_V_518.mp4_frame7551.txt', 'D:\\\\4\\\\real\\\\vio_200\\\\violence1\\\\reallife_1_V_520.mp4_frame7599.txt', 'D:\\\\4\\\\real\\\\vio_200\\\\violence1\\\\reallife_1_V_520.mp4_frame7600.txt', 'D:\\\\4\\\\real\\\\vio_200\\\\violence1\\\\reallife_1_V_529.mp4_frame7723.txt', 'D:\\\\4\\\\real\\\\vio_200\\\\violence1\\\\reallife_1_V_529.mp4_frame7724.txt', 'D:\\\\4\\\\real\\\\vio_200\\\\violence1\\\\reallife_1_V_529.mp4_frame7725.txt', 'D:\\\\4\\\\real\\\\vio_200\\\\violence1\\\\reallife_1_V_529.mp4_frame7728.txt', 'D:\\\\4\\\\real\\\\vio_200\\\\violence1\\\\reallife_1_V_530.mp4_frame7758.txt', 'D:\\\\4\\\\real\\\\vio_200\\\\violence1\\\\reallife_1_V_537.mp4_frame7862.txt', 'D:\\\\4\\\\real\\\\vio_200\\\\violence1\\\\reallife_1_V_538.mp4_frame7879.txt', 'D:\\\\4\\\\real\\\\vio_200\\\\violence1\\\\reallife_1_V_540.mp4_frame7925.txt', 'D:\\\\4\\\\real\\\\vio_200\\\\violence1\\\\reallife_1_V_542.mp4_frame7944.txt', 'D:\\\\4\\\\real\\\\vio_200\\\\violence1\\\\reallife_1_V_542.mp4_frame7956.txt', 'D:\\\\4\\\\real\\\\vio_200\\\\violence1\\\\reallife_1_V_552.mp4_frame8111.txt', 'D:\\\\4\\\\real\\\\vio_200\\\\violence1\\\\reallife_1_V_552.mp4_frame8113.txt', 'D:\\\\4\\\\real\\\\vio_200\\\\violence1\\\\reallife_1_V_560.mp4_frame8252.txt', 'D:\\\\4\\\\real\\\\vio_200\\\\violence1\\\\reallife_1_V_562.mp4_frame8276.txt', 'D:\\\\4\\\\real\\\\vio_200\\\\violence1\\\\reallife_1_V_571.mp4_frame8418.txt', 'D:\\\\4\\\\real\\\\vio_200\\\\violence1\\\\reallife_1_V_576.mp4_frame8492.txt', 'D:\\\\4\\\\real\\\\vio_200\\\\violence1\\\\reallife_1_V_581.mp4_frame8579.txt', 'D:\\\\4\\\\real\\\\vio_200\\\\violence1\\\\reallife_1_V_584.mp4_frame8631.txt', 'D:\\\\4\\\\real\\\\vio_200\\\\violence1\\\\reallife_1_V_588.mp4_frame8684.txt', 'D:\\\\4\\\\real\\\\vio_200\\\\violence1\\\\reallife_1_V_588.mp4_frame8685.txt', 'D:\\\\4\\\\real\\\\vio_200\\\\violence1\\\\reallife_1_V_595.mp4_frame8808.txt', 'D:\\\\4\\\\real\\\\vio_200\\\\violence1\\\\reallife_1_V_595.mp4_frame8809.txt', 'D:\\\\4\\\\real\\\\vio_200\\\\violence1\\\\reallife_1_V_595.mp4_frame8810.txt', 'D:\\\\4\\\\real\\\\vio_200\\\\violence1\\\\reallife_1_V_602.mp4_frame8934.txt', 'D:\\\\4\\\\real\\\\vio_200\\\\violence1\\\\reallife_1_V_602.mp4_frame8939.txt', 'D:\\\\4\\\\real\\\\vio_200\\\\violence1\\\\reallife_1_V_603.mp4_frame8957.txt', 'D:\\\\4\\\\real\\\\vio_200\\\\violence1\\\\reallife_1_V_610.mp4_frame9066.txt', 'D:\\\\4\\\\real\\\\vio_200\\\\violence1\\\\reallife_1_V_618.mp4_frame9198.txt', 'D:\\\\4\\\\real\\\\vio_200\\\\violence1\\\\reallife_1_V_619.mp4_frame9211.txt', 'D:\\\\4\\\\real\\\\vio_200\\\\violence1\\\\reallife_1_V_620.mp4_frame9235.txt', 'D:\\\\4\\\\real\\\\vio_200\\\\violence1\\\\reallife_1_V_620.mp4_frame9239.txt', 'D:\\\\4\\\\real\\\\vio_200\\\\violence1\\\\reallife_1_V_630.mp4_frame9397.txt', 'D:\\\\4\\\\real\\\\vio_200\\\\violence1\\\\reallife_1_V_630.mp4_frame9398.txt', 'D:\\\\4\\\\real\\\\vio_200\\\\violence1\\\\reallife_1_V_630.mp4_frame9401.txt', 'D:\\\\4\\\\real\\\\vio_200\\\\violence1\\\\reallife_1_V_634.mp4_frame9460.txt', 'D:\\\\4\\\\real\\\\vio_200\\\\violence1\\\\reallife_1_V_635.mp4_frame9476.txt', 'D:\\\\4\\\\real\\\\vio_200\\\\violence1\\\\reallife_1_V_635.mp4_frame9480.txt', 'D:\\\\4\\\\real\\\\vio_200\\\\violence1\\\\reallife_1_V_636.mp4_frame9487.txt', 'D:\\\\4\\\\real\\\\vio_200\\\\violence1\\\\reallife_1_V_638.mp4_frame9524.txt', 'D:\\\\4\\\\real\\\\vio_200\\\\violence1\\\\reallife_1_V_638.mp4_frame9527.txt', 'D:\\\\4\\\\real\\\\vio_200\\\\violence1\\\\reallife_1_V_638.mp4_frame9528.txt', 'D:\\\\4\\\\real\\\\vio_200\\\\violence1\\\\reallife_1_V_690.mp4_frame10366.txt', 'D:\\\\4\\\\real\\\\vio_200\\\\violence1\\\\reallife_1_V_720.mp4_frame10878.txt', 'D:\\\\4\\\\real\\\\vio_200\\\\violence1\\\\reallife_1_V_720.mp4_frame10882.txt', 'D:\\\\4\\\\real\\\\vio_200\\\\violence1\\\\reallife_1_V_722.mp4_frame10913.txt', 'D:\\\\4\\\\real\\\\vio_200\\\\violence1\\\\reallife_1_V_722.mp4_frame10918.txt', 'D:\\\\4\\\\real\\\\vio_200\\\\violence1\\\\reallife_1_V_723.mp4_frame10926.txt', 'D:\\\\4\\\\real\\\\vio_200\\\\violence1\\\\reallife_1_V_723.mp4_frame10934.txt', 'D:\\\\4\\\\real\\\\vio_200\\\\violence1\\\\reallife_1_V_723.mp4_frame10935.txt', 'D:\\\\4\\\\real\\\\vio_200\\\\violence1\\\\reallife_1_V_724.mp4_frame10946.txt', 'D:\\\\4\\\\real\\\\vio_200\\\\violence1\\\\reallife_1_V_725.mp4_frame10957.txt', 'D:\\\\4\\\\real\\\\vio_200\\\\violence1\\\\reallife_1_V_725.mp4_frame10958.txt', 'D:\\\\4\\\\real\\\\vio_200\\\\violence1\\\\reallife_1_V_728.mp4_frame11004.txt', 'D:\\\\4\\\\real\\\\vio_200\\\\violence1\\\\reallife_1_V_728.mp4_frame11015.txt', 'D:\\\\4\\\\real\\\\vio_200\\\\violence1\\\\reallife_1_V_729.mp4_frame11028.txt', 'D:\\\\4\\\\real\\\\vio_200\\\\violence1\\\\reallife_1_V_731.mp4_frame11068.txt', 'D:\\\\4\\\\real\\\\vio_200\\\\violence1\\\\reallife_1_V_732.mp4_frame11083.txt', 'D:\\\\4\\\\real\\\\vio_200\\\\violence1\\\\reallife_1_V_732.mp4_frame11085.txt', 'D:\\\\4\\\\real\\\\vio_200\\\\violence1\\\\reallife_1_V_733.mp4_frame11106.txt', 'D:\\\\4\\\\real\\\\vio_200\\\\violence1\\\\reallife_1_V_736.mp4_frame11150.txt', 'D:\\\\4\\\\real\\\\vio_200\\\\violence1\\\\reallife_1_V_739.mp4_frame11195.txt', 'D:\\\\4\\\\real\\\\vio_200\\\\violence1\\\\reallife_1_V_740.mp4_frame11229.txt', 'D:\\\\4\\\\real\\\\vio_200\\\\violence1\\\\reallife_1_V_740.mp4_frame11231.txt', 'D:\\\\4\\\\real\\\\vio_200\\\\violence1\\\\reallife_1_V_740.mp4_frame11233.txt', 'D:\\\\4\\\\real\\\\vio_200\\\\violence1\\\\reallife_1_V_740.mp4_frame11235.txt', 'D:\\\\4\\\\real\\\\vio_200\\\\violence1\\\\reallife_1_V_749.mp4_frame11373.txt', 'D:\\\\4\\\\real\\\\vio_200\\\\violence1\\\\reallife_1_V_751.mp4_frame11420.txt', 'D:\\\\4\\\\real\\\\vio_200\\\\violence1\\\\reallife_1_V_751.mp4_frame11421.txt', 'D:\\\\4\\\\real\\\\vio_200\\\\violence1\\\\reallife_1_V_751.mp4_frame11423.txt', 'D:\\\\4\\\\real\\\\vio_200\\\\violence1\\\\reallife_1_V_751.mp4_frame11424.txt', 'D:\\\\4\\\\real\\\\vio_200\\\\violence1\\\\reallife_1_V_751.mp4_frame11425.txt', 'D:\\\\4\\\\real\\\\vio_200\\\\violence1\\\\reallife_1_V_751.mp4_frame11426.txt', 'D:\\\\4\\\\real\\\\vio_200\\\\violence1\\\\reallife_1_V_751.mp4_frame11430.txt', 'D:\\\\4\\\\real\\\\vio_200\\\\violence1\\\\reallife_1_V_754.mp4_frame11465.txt', 'D:\\\\4\\\\real\\\\vio_200\\\\violence1\\\\reallife_1_V_754.mp4_frame11467.txt', 'D:\\\\4\\\\real\\\\vio_200\\\\violence1\\\\reallife_1_V_755.mp4_frame11478.txt', 'D:\\\\4\\\\real\\\\vio_200\\\\violence1\\\\reallife_1_V_756.mp4_frame11494.txt', 'D:\\\\4\\\\real\\\\vio_200\\\\violence1\\\\reallife_1_V_757.mp4_frame11505.txt', 'D:\\\\4\\\\real\\\\vio_200\\\\violence1\\\\reallife_1_V_758.mp4_frame11518.txt', 'D:\\\\4\\\\real\\\\vio_200\\\\violence1\\\\reallife_1_V_759.mp4_frame11532.txt', 'D:\\\\4\\\\real\\\\vio_200\\\\violence1\\\\reallife_1_V_761.mp4_frame11577.txt', 'D:\\\\4\\\\real\\\\vio_200\\\\violence1\\\\reallife_1_V_764.mp4_frame11615.txt', 'D:\\\\4\\\\real\\\\vio_200\\\\violence1\\\\reallife_1_V_765.mp4_frame11631.txt', 'D:\\\\4\\\\real\\\\vio_200\\\\violence1\\\\reallife_1_V_766.mp4_frame11640.txt', 'D:\\\\4\\\\real\\\\vio_200\\\\violence1\\\\reallife_1_V_766.mp4_frame11643.txt', 'D:\\\\4\\\\real\\\\vio_200\\\\violence1\\\\reallife_1_V_766.mp4_frame11644.txt', 'D:\\\\4\\\\real\\\\vio_200\\\\violence1\\\\reallife_1_V_766.mp4_frame11648.txt', 'D:\\\\4\\\\real\\\\vio_200\\\\violence1\\\\reallife_1_V_766.mp4_frame11651.txt', 'D:\\\\4\\\\real\\\\vio_200\\\\violence1\\\\reallife_1_V_766.mp4_frame11652.txt', 'D:\\\\4\\\\real\\\\vio_200\\\\violence1\\\\reallife_1_V_767.mp4_frame11659.txt', 'D:\\\\4\\\\real\\\\vio_200\\\\violence1\\\\reallife_1_V_767.mp4_frame11660.txt', 'D:\\\\4\\\\real\\\\vio_200\\\\violence1\\\\reallife_1_V_767.mp4_frame11663.txt', 'D:\\\\4\\\\real\\\\vio_200\\\\violence1\\\\reallife_1_V_772.mp4_frame11754.txt', 'D:\\\\4\\\\real\\\\vio_200\\\\violence1\\\\reallife_1_V_774.mp4_frame11774.txt', 'D:\\\\4\\\\real\\\\vio_200\\\\violence1\\\\reallife_1_V_784.mp4_frame11930.txt', 'D:\\\\4\\\\real\\\\vio_200\\\\violence1\\\\reallife_1_V_789.mp4_frame12150.txt', 'D:\\\\4\\\\real\\\\vio_200\\\\violence1\\\\reallife_1_V_789.mp4_frame12808.txt', 'D:\\\\4\\\\real\\\\vio_200\\\\violence1\\\\reallife_1_V_789.mp4_frame12913.txt', 'D:\\\\4\\\\real\\\\vio_200\\\\violence1\\\\reallife_1_V_789.mp4_frame12933.txt', 'D:\\\\4\\\\real\\\\vio_200\\\\violence1\\\\reallife_1_V_790.mp4_frame13147.txt', 'D:\\\\4\\\\real\\\\vio_200\\\\violence1\\\\reallife_1_V_790.mp4_frame13148.txt', 'D:\\\\4\\\\real\\\\vio_200\\\\violence1\\\\reallife_1_V_792.mp4_frame13179.txt', 'D:\\\\4\\\\real\\\\vio_200\\\\violence1\\\\reallife_1_V_793.mp4_frame13187.txt', 'D:\\\\4\\\\real\\\\vio_200\\\\violence1\\\\reallife_1_V_811.mp4_frame13511.txt', 'D:\\\\4\\\\real\\\\vio_200\\\\violence1\\\\reallife_1_V_811.mp4_frame13512.txt', 'D:\\\\4\\\\real\\\\vio_200\\\\violence1\\\\reallife_1_V_814.mp4_frame13551.txt', 'D:\\\\4\\\\real\\\\vio_200\\\\violence1\\\\reallife_1_V_818.mp4_frame13614.txt', 'D:\\\\4\\\\real\\\\vio_200\\\\violence1\\\\reallife_1_V_819.mp4_frame13621.txt', 'D:\\\\4\\\\real\\\\vio_200\\\\violence1\\\\reallife_1_V_819.mp4_frame13623.txt', 'D:\\\\4\\\\real\\\\vio_200\\\\violence1\\\\reallife_1_V_819.mp4_frame13631.txt', 'D:\\\\4\\\\real\\\\vio_200\\\\violence1\\\\reallife_1_V_823.mp4_frame13695.txt', 'D:\\\\4\\\\real\\\\vio_200\\\\violence1\\\\reallife_1_V_823.mp4_frame13696.txt', 'D:\\\\4\\\\real\\\\vio_200\\\\violence1\\\\reallife_1_V_823.mp4_frame13699.txt', 'D:\\\\4\\\\real\\\\vio_200\\\\violence1\\\\reallife_1_V_824.mp4_frame13709.txt', 'D:\\\\4\\\\real\\\\vio_200\\\\violence1\\\\reallife_1_V_831.mp4_frame13837.txt', 'D:\\\\4\\\\real\\\\vio_200\\\\violence1\\\\reallife_1_V_832.mp4_frame13853.txt', 'D:\\\\4\\\\real\\\\vio_200\\\\violence1\\\\reallife_1_V_832.mp4_frame13855.txt', 'D:\\\\4\\\\real\\\\vio_200\\\\violence1\\\\reallife_1_V_833.mp4_frame13859.txt', 'D:\\\\4\\\\real\\\\vio_200\\\\violence1\\\\reallife_1_V_836.mp4_frame13905.txt', 'D:\\\\4\\\\real\\\\vio_200\\\\violence1\\\\reallife_1_V_836.mp4_frame13909.txt', 'D:\\\\4\\\\real\\\\vio_200\\\\violence1\\\\reallife_1_V_836.mp4_frame13911.txt', 'D:\\\\4\\\\real\\\\vio_200\\\\violence1\\\\reallife_1_V_837.mp4_frame13924.txt', 'D:\\\\4\\\\real\\\\vio_200\\\\violence1\\\\reallife_1_V_844.mp4_frame14044.txt', 'D:\\\\4\\\\real\\\\vio_200\\\\violence1\\\\reallife_1_V_844.mp4_frame14045.txt', 'D:\\\\4\\\\real\\\\vio_200\\\\violence1\\\\reallife_1_V_844.mp4_frame14046.txt', 'D:\\\\4\\\\real\\\\vio_200\\\\violence1\\\\reallife_1_V_845.mp4_frame14047.txt', 'D:\\\\4\\\\real\\\\vio_200\\\\violence1\\\\reallife_1_V_845.mp4_frame14053.txt', 'D:\\\\4\\\\real\\\\vio_200\\\\violence1\\\\reallife_1_V_845.mp4_frame14054.txt', 'D:\\\\4\\\\real\\\\vio_200\\\\violence1\\\\reallife_1_V_845.mp4_frame14060.txt', 'D:\\\\4\\\\real\\\\vio_200\\\\violence1\\\\reallife_1_V_850.mp4_frame14137.txt', 'D:\\\\4\\\\real\\\\vio_200\\\\violence1\\\\reallife_1_V_853.mp4_frame14182.txt', 'D:\\\\4\\\\real\\\\vio_200\\\\violence1\\\\reallife_1_V_853.mp4_frame14183.txt', 'D:\\\\4\\\\real\\\\vio_200\\\\violence1\\\\reallife_1_V_854.mp4_frame14187.txt', 'D:\\\\4\\\\real\\\\vio_200\\\\violence1\\\\reallife_1_V_858.mp4_frame14241.txt', 'D:\\\\4\\\\real\\\\vio_200\\\\violence1\\\\reallife_1_V_861.mp4_frame14290.txt', 'D:\\\\4\\\\real\\\\vio_200\\\\violence1\\\\reallife_1_V_862.mp4_frame14304.txt', 'D:\\\\4\\\\real\\\\vio_200\\\\violence1\\\\reallife_1_V_862.mp4_frame14305.txt', 'D:\\\\4\\\\real\\\\vio_200\\\\violence1\\\\reallife_1_V_865.mp4_frame14343.txt', 'D:\\\\4\\\\real\\\\vio_200\\\\violence1\\\\reallife_1_V_866.mp4_frame14349.txt', 'D:\\\\4\\\\real\\\\vio_200\\\\violence1\\\\reallife_1_V_866.mp4_frame14351.txt', 'D:\\\\4\\\\real\\\\vio_200\\\\violence1\\\\reallife_1_V_870.mp4_frame14409.txt', 'D:\\\\4\\\\real\\\\vio_200\\\\violence1\\\\reallife_1_V_904.mp4_frame14977.txt', 'D:\\\\4\\\\real\\\\vio_200\\\\violence1\\\\reallife_1_V_904.mp4_frame14986.txt', 'D:\\\\4\\\\real\\\\vio_200\\\\violence1\\\\reallife_1_V_917.mp4_frame15179.txt', 'D:\\\\4\\\\real\\\\vio_200\\\\violence1\\\\reallife_1_V_917.mp4_frame15183.txt', 'D:\\\\4\\\\real\\\\vio_200\\\\violence1\\\\reallife_1_V_918.mp4_frame15193.txt', 'D:\\\\4\\\\real\\\\vio_200\\\\violence1\\\\reallife_1_V_923.mp4_frame15282.txt', 'D:\\\\4\\\\real\\\\vio_200\\\\violence1\\\\reallife_1_V_924.mp4_frame15293.txt', 'D:\\\\4\\\\real\\\\vio_200\\\\violence1\\\\reallife_1_V_924.mp4_frame15294.txt', 'D:\\\\4\\\\real\\\\vio_200\\\\violence1\\\\reallife_1_V_925.mp4_frame15303.txt', 'D:\\\\4\\\\real\\\\vio_200\\\\violence1\\\\reallife_1_V_926.mp4_frame15322.txt', 'D:\\\\4\\\\real\\\\vio_200\\\\violence1\\\\reallife_1_V_926.mp4_frame15329.txt', 'D:\\\\4\\\\real\\\\vio_200\\\\violence1\\\\reallife_1_V_930.mp4_frame15399.txt', 'D:\\\\4\\\\real\\\\vio_200\\\\violence1\\\\reallife_1_V_930.mp4_frame15400.txt', 'D:\\\\4\\\\real\\\\vio_200\\\\violence1\\\\reallife_1_V_939.mp4_frame15538.txt', 'D:\\\\4\\\\real\\\\vio_200\\\\violence1\\\\reallife_1_V_957.mp4_frame15827.txt', 'D:\\\\4\\\\real\\\\vio_200\\\\violence1\\\\reallife_1_V_957.mp4_frame15831.txt', 'D:\\\\4\\\\real\\\\vio_200\\\\violence1\\\\reallife_1_V_977.mp4_frame16150.txt', 'D:\\\\4\\\\real\\\\vio_200\\\\violence1\\\\reallife_1_V_977.mp4_frame16152.txt', 'D:\\\\4\\\\real\\\\vio_200\\\\violence1\\\\reallife_1_V_977.mp4_frame16155.txt', 'D:\\\\4\\\\real\\\\vio_200\\\\violence1\\\\reallife_2_V102.mp4_frame117.txt', 'D:\\\\4\\\\real\\\\vio_200\\\\violence1\\\\reallife_2_V102.mp4_frame118.txt', 'D:\\\\4\\\\real\\\\vio_200\\\\violence1\\\\reallife_2_V102.mp4_frame121.txt', 'D:\\\\4\\\\real\\\\vio_200\\\\violence1\\\\reallife_2_V108.mp4_frame310.txt', 'D:\\\\4\\\\real\\\\vio_200\\\\violence1\\\\reallife_2_V11.mp4_frame366.txt', 'D:\\\\4\\\\real\\\\vio_200\\\\violence1\\\\reallife_2_V13.mp4_frame502.txt', 'D:\\\\4\\\\real\\\\vio_200\\\\violence1\\\\reallife_2_V20.mp4_frame724.txt', 'D:\\\\4\\\\real\\\\vio_200\\\\violence1\\\\reallife_2_V20.mp4_frame725.txt', 'D:\\\\4\\\\real\\\\vio_200\\\\violence1\\\\reallife_2_V21.mp4_frame740.txt', 'D:\\\\4\\\\real\\\\vio_200\\\\violence1\\\\reallife_2_V27.mp4_frame927.txt', 'D:\\\\4\\\\real\\\\vio_200\\\\violence1\\\\reallife_2_V27.mp4_frame929.txt', 'D:\\\\4\\\\real\\\\vio_200\\\\violence1\\\\reallife_2_V30.mp4_frame1042.txt', 'D:\\\\4\\\\real\\\\vio_200\\\\violence1\\\\reallife_2_V30.mp4_frame1043.txt', 'D:\\\\4\\\\real\\\\vio_200\\\\violence1\\\\reallife_2_V31.mp4_frame1075.txt', 'D:\\\\4\\\\real\\\\vio_200\\\\violence1\\\\reallife_2_V32.mp4_frame1103.txt', 'D:\\\\4\\\\real\\\\vio_200\\\\violence1\\\\reallife_2_V32.mp4_frame1104.txt', 'D:\\\\4\\\\real\\\\vio_200\\\\violence1\\\\reallife_2_V4.mp4_frame1325.txt', 'D:\\\\4\\\\real\\\\vio_200\\\\violence1\\\\reallife_2_V4.mp4_frame1327.txt', 'D:\\\\4\\\\real\\\\vio_200\\\\violence1\\\\reallife_2_V44.mp4_frame1445.txt', 'D:\\\\4\\\\real\\\\vio_200\\\\violence1\\\\reallife_2_V44.mp4_frame1452.txt', 'D:\\\\4\\\\real\\\\vio_200\\\\violence1\\\\reallife_2_V48.mp4_frame1575.txt', 'D:\\\\4\\\\real\\\\vio_200\\\\violence1\\\\reallife_2_V51.mp4_frame1652.txt', 'D:\\\\4\\\\real\\\\vio_200\\\\violence1\\\\reallife_2_V53.mp4_frame1712.txt', 'D:\\\\4\\\\real\\\\vio_200\\\\violence1\\\\reallife_2_V53.mp4_frame1715.txt', 'D:\\\\4\\\\real\\\\vio_200\\\\violence1\\\\reallife_2_V55.mp4_frame1767.txt', 'D:\\\\4\\\\real\\\\vio_200\\\\violence1\\\\reallife_2_V55.mp4_frame1778.txt', 'D:\\\\4\\\\real\\\\vio_200\\\\violence1\\\\reallife_2_V55.mp4_frame1781.txt', 'D:\\\\4\\\\real\\\\vio_200\\\\violence1\\\\reallife_2_V55.mp4_frame1790.txt', 'D:\\\\4\\\\real\\\\vio_200\\\\violence1\\\\reallife_2_V6.mp4_frame1933.txt', 'D:\\\\4\\\\real\\\\vio_200\\\\violence1\\\\reallife_2_V61.mp4_frame1985.txt', 'D:\\\\4\\\\real\\\\vio_200\\\\violence1\\\\reallife_2_V61.mp4_frame1996.txt', 'D:\\\\4\\\\real\\\\vio_200\\\\violence1\\\\reallife_2_V63.mp4_frame2049.txt', 'D:\\\\4\\\\real\\\\vio_200\\\\violence1\\\\reallife_2_V65.mp4_frame2088.txt', 'D:\\\\4\\\\real\\\\vio_200\\\\violence1\\\\reallife_2_V65.mp4_frame2090.txt', 'D:\\\\4\\\\real\\\\vio_200\\\\violence1\\\\reallife_2_V65.mp4_frame2094.txt', 'D:\\\\4\\\\real\\\\vio_200\\\\violence1\\\\reallife_2_V65.mp4_frame2096.txt', 'D:\\\\4\\\\real\\\\vio_200\\\\violence1\\\\reallife_2_V65.mp4_frame2106.txt', 'D:\\\\4\\\\real\\\\vio_200\\\\violence1\\\\reallife_2_V65.mp4_frame2109.txt', 'D:\\\\4\\\\real\\\\vio_200\\\\violence1\\\\reallife_2_V66.mp4_frame2133.txt', 'D:\\\\4\\\\real\\\\vio_200\\\\violence1\\\\reallife_2_V66.mp4_frame2142.txt', 'D:\\\\4\\\\real\\\\vio_200\\\\violence1\\\\reallife_2_V68.mp4_frame2178.txt', 'D:\\\\4\\\\real\\\\vio_200\\\\violence1\\\\reallife_2_V68.mp4_frame2184.txt', 'D:\\\\4\\\\real\\\\vio_200\\\\violence1\\\\reallife_2_V68.mp4_frame2187.txt', 'D:\\\\4\\\\real\\\\vio_200\\\\violence1\\\\reallife_2_V72.mp4_frame2309.txt', 'D:\\\\4\\\\real\\\\vio_200\\\\violence1\\\\reallife_2_V77.mp4_frame2428.txt', 'D:\\\\4\\\\real\\\\vio_200\\\\violence1\\\\reallife_2_V77.mp4_frame2429.txt', 'D:\\\\4\\\\real\\\\vio_200\\\\violence1\\\\reallife_2_V80.mp4_frame2542.txt', 'D:\\\\4\\\\real\\\\vio_200\\\\violence1\\\\reallife_2_V80.mp4_frame2543.txt', 'D:\\\\4\\\\real\\\\vio_200\\\\violence1\\\\reallife_2_V80.mp4_frame2553.txt', 'D:\\\\4\\\\real\\\\vio_200\\\\violence1\\\\reallife_2_V80.mp4_frame2562.txt', 'D:\\\\4\\\\real\\\\vio_200\\\\violence1\\\\reallife_2_V83.mp4_frame2643.txt', 'D:\\\\4\\\\real\\\\vio_200\\\\violence1\\\\reallife_2_V85.mp4_frame2718.txt', 'D:\\\\4\\\\real\\\\vio_200\\\\violence1\\\\reallife_2_V86.mp4_frame2727.txt', 'D:\\\\4\\\\real\\\\vio_200\\\\violence1\\\\reallife_2_V86.mp4_frame2730.txt', 'D:\\\\4\\\\real\\\\vio_200\\\\violence1\\\\reallife_2_V91.mp4_frame2914.txt', 'D:\\\\4\\\\real\\\\vio_200\\\\violence1\\\\reallife_2_V92.mp4_frame2946.txt', 'D:\\\\4\\\\real\\\\vio_200\\\\violence1\\\\reallife_2_V92.mp4_frame2948.txt', 'D:\\\\4\\\\real\\\\vio_200\\\\violence1\\\\reallife_2_V97.mp4_frame3087.txt', 'D:\\\\4\\\\real\\\\vio_200\\\\violence1\\\\reallife_2_V97.mp4_frame3090.txt']\n"
     ]
    }
   ],
   "source": [
    "from glob import glob\n",
    "import os\n",
    "\n",
    "path = r'D:\\4\\real\\vio_200\\violence1/'\n",
    "file_list = glob(path + '*.txt')\n",
    "\n",
    "arr = [0] * 6\n",
    "cnt = 0\n",
    "\n",
    "print(file_list)\n"
   ]
  },
  {
   "cell_type": "markdown",
   "id": "508ab982",
   "metadata": {},
   "source": [
    "# threaten 삭제"
   ]
  },
  {
   "cell_type": "code",
   "execution_count": 6,
   "id": "5f587c0c",
   "metadata": {},
   "outputs": [],
   "source": [
    "# for file in file_list:\n",
    "#     with open(file, 'r') as f:\n",
    "#         lines = f.readlines()\n",
    "#     with open(file, 'w') as f:\n",
    "#         for line in lines:\n",
    "#             index = int(list(line.split())[0])\n",
    "#             if index != 7:\n",
    "#                 f.write(line)"
   ]
  },
  {
   "cell_type": "markdown",
   "id": "ef3a85b8",
   "metadata": {},
   "source": [
    "# pull 삭제"
   ]
  },
  {
   "cell_type": "code",
   "execution_count": 8,
   "id": "f3253a7d",
   "metadata": {},
   "outputs": [],
   "source": [
    "# for file in file_list:\n",
    "#     with open(file, 'r') as f:\n",
    "#         lines = f.readlines()\n",
    "#     with open(file, 'w') as f:\n",
    "#         for line in lines:\n",
    "#             index = int(list(line.split())[0])\n",
    "#             if index != 4:\n",
    "#                 f.write(line)"
   ]
  },
  {
   "cell_type": "markdown",
   "id": "bbf22938",
   "metadata": {},
   "source": [
    "# push falldown index 땡기기"
   ]
  },
  {
   "cell_type": "code",
   "execution_count": 18,
   "id": "7a93903d",
   "metadata": {},
   "outputs": [],
   "source": [
    "# for file in file_list:\n",
    "#     with open(file, 'r') as f:\n",
    "#         lines = f.readlines()\n",
    "#     with open(file, 'w') as f:\n",
    "#         for line in lines:\n",
    "#             tmp = list(line.split())\n",
    "#             index = int(tmp[0])\n",
    "#             if index == 5:\n",
    "#                 tmp[0] = '4'\n",
    "#                 f.write(' '.join(tmp)+'\\n')\n",
    "#             elif index == 6:\n",
    "#                 tmp[0] = '5'\n",
    "#                 f.write(' '.join(tmp) + '\\n')\n",
    "#             else:\n",
    "#                 f.write(line)\n",
    "    "
   ]
  },
  {
   "cell_type": "markdown",
   "id": "ba577915",
   "metadata": {},
   "source": [
    "# 빈 txt삭제"
   ]
  },
  {
   "cell_type": "code",
   "execution_count": 3,
   "id": "e7030496",
   "metadata": {},
   "outputs": [
    {
     "name": "stdout",
     "output_type": "stream",
     "text": [
      "D:\\4\\real\\vio_200\\violence1\\reallife_1_V_21.mp4_frame2016.txt\n",
      "D:\\4\\real\\vio_200\\violence1\\reallife_1_V_398.mp4_frame5397.txt\n",
      "D:\\4\\real\\vio_200\\violence1\\reallife_1_V_398.mp4_frame5404.txt\n",
      "D:\\4\\real\\vio_200\\violence1\\reallife_1_V_398.mp4_frame5405.txt\n",
      "D:\\4\\real\\vio_200\\violence1\\reallife_1_V_398.mp4_frame5413.txt\n",
      "D:\\4\\real\\vio_200\\violence1\\reallife_1_V_401.mp4_frame5744.txt\n",
      "D:\\4\\real\\vio_200\\violence1\\reallife_1_V_406.mp4_frame5803.txt\n",
      "D:\\4\\real\\vio_200\\violence1\\reallife_1_V_407.mp4_frame5815.txt\n",
      "D:\\4\\real\\vio_200\\violence1\\reallife_1_V_430.mp4_frame6164.txt\n",
      "D:\\4\\real\\vio_200\\violence1\\reallife_1_V_537.mp4_frame7862.txt\n",
      "D:\\4\\real\\vio_200\\violence1\\reallife_1_V_630.mp4_frame9397.txt\n",
      "D:\\4\\real\\vio_200\\violence1\\reallife_1_V_630.mp4_frame9398.txt\n",
      "D:\\4\\real\\vio_200\\violence1\\reallife_1_V_635.mp4_frame9476.txt\n",
      "D:\\4\\real\\vio_200\\violence1\\reallife_1_V_723.mp4_frame10934.txt\n",
      "D:\\4\\real\\vio_200\\violence1\\reallife_1_V_766.mp4_frame11643.txt\n",
      "D:\\4\\real\\vio_200\\violence1\\reallife_1_V_814.mp4_frame13551.txt\n",
      "D:\\4\\real\\vio_200\\violence1\\reallife_2_V31.mp4_frame1075.txt\n",
      "D:\\4\\real\\vio_200\\violence1\\reallife_2_V44.mp4_frame1445.txt\n",
      "D:\\4\\real\\vio_200\\violence1\\reallife_2_V44.mp4_frame1452.txt\n",
      "D:\\4\\real\\vio_200\\violence1\\reallife_2_V51.mp4_frame1652.txt\n",
      "D:\\4\\real\\vio_200\\violence1\\reallife_2_V53.mp4_frame1712.txt\n",
      "D:\\4\\real\\vio_200\\violence1\\reallife_2_V53.mp4_frame1715.txt\n",
      "22\n"
     ]
    }
   ],
   "source": [
    "empty_cnt = 0\n",
    "for file in file_list:\n",
    "    isempty = os.stat(file).st_size == 0\n",
    "    if isempty:\n",
    "        os.remove(file)\n",
    "        os.remove(file[:-3] + 'png')\n",
    "        print(file)\n",
    "        empty_cnt += 1\n",
    "print(empty_cnt)"
   ]
  },
  {
   "cell_type": "code",
   "execution_count": null,
   "id": "d7f70697",
   "metadata": {},
   "outputs": [],
   "source": []
  }
 ],
 "metadata": {
  "kernelspec": {
   "display_name": "Python 3 (ipykernel)",
   "language": "python",
   "name": "python3"
  },
  "language_info": {
   "codemirror_mode": {
    "name": "ipython",
    "version": 3
   },
   "file_extension": ".py",
   "mimetype": "text/x-python",
   "name": "python",
   "nbconvert_exporter": "python",
   "pygments_lexer": "ipython3",
   "version": "3.9.7"
  }
 },
 "nbformat": 4,
 "nbformat_minor": 5
}
