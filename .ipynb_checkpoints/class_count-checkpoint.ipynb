{
 "cells": [
  {
   "cell_type": "code",
   "execution_count": 35,
   "id": "e0f5a600",
   "metadata": {},
   "outputs": [
    {
     "name": "stdout",
     "output_type": "stream",
     "text": [
      "605\n",
      "[0, 0, 605, 0, 0, 0, 0, 0]\n"
     ]
    }
   ],
   "source": [
    "from glob import glob\n",
    "import os\n",
    "\n",
    "path = r'D:\\version_6\\roboflow_f_k_p\\punch.v4i.darknet\\train/'\n",
    "\n",
    "file_list = glob(path + '*.txt')\n",
    "\n",
    "classtxt = path[:-1] + '\\classes.txt'\n",
    "# print(classtxt)\n",
    "if classtxt in file_list:\n",
    "    file_list.remove(classtxt)\n",
    "\n",
    "arr = [0] * 8\n",
    "cnt = 0\n",
    "for path in file_list:\n",
    "    f = open(path, 'r')\n",
    "    lines = f.readlines()\n",
    "    for line in lines:\n",
    "        cnt += 1\n",
    "        index = int(list(line.split())[0])\n",
    "        arr[index] += 1\n",
    "    f.close()\n",
    "print(cnt)\n",
    "print(arr)\n"
   ]
  },
  {
   "cell_type": "markdown",
   "id": "01dffe2c",
   "metadata": {},
   "source": [
    "사진 가지고 상하뒤집기, 좌우뒤집기, 상하좌우뒤집기 해서 그거가지고 색 변환도했는데\n",
    "\n",
    "이게 사람이다 보니까 위아래가 있잖아 구분이 상하 뒤집기를해서 좀 고장이 났나 싶어\n",
    "\n",
    "데이터가 너무 적어\n",
    "원래가 클래스 1개에 100장 있어\n",
    "\n",
    "근데 위처럼 뒤집기하면3장이 더생기니까 400장으로했는데~ 상하를 없애버리고\n",
    "\n",
    "각도를 트는 방향으로 할까\n",
    "생각중이야 rotate 이거는 괜찮지않을까?\n",
    "완전히 뒤집히는거 아니니까"
   ]
  },
  {
   "cell_type": "code",
   "execution_count": null,
   "id": "d74a85f8",
   "metadata": {},
   "outputs": [],
   "source": []
  },
  {
   "cell_type": "code",
   "execution_count": null,
   "id": "3f436d36",
   "metadata": {},
   "outputs": [],
   "source": []
  }
 ],
 "metadata": {
  "kernelspec": {
   "display_name": "Python 3 (ipykernel)",
   "language": "python",
   "name": "python3"
  },
  "language_info": {
   "codemirror_mode": {
    "name": "ipython",
    "version": 3
   },
   "file_extension": ".py",
   "mimetype": "text/x-python",
   "name": "python",
   "nbconvert_exporter": "python",
   "pygments_lexer": "ipython3",
   "version": "3.9.7"
  }
 },
 "nbformat": 4,
 "nbformat_minor": 5
}
