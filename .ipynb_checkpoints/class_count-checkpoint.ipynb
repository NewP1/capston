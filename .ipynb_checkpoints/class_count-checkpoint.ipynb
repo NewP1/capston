{
 "cells": [
  {
   "cell_type": "code",
   "execution_count": 7,
   "id": "e0f5a600",
   "metadata": {},
   "outputs": [
    {
     "name": "stdout",
     "output_type": "stream",
     "text": [
      "1561\n",
      "[638, 75, 778, 2, 68, 0, 0, 0]\n"
     ]
    }
   ],
   "source": [
    "from glob import glob\n",
    "import os\n",
    "\n",
    "path = r'C:\\Users\\jaehy\\Desktop\\punch1_images\\punch1/'\n",
    "\n",
    "file_list = glob(path + '*.txt')\n",
    "\n",
    "arr = [0] * 8\n",
    "cnt = 0\n",
    "for path in file_list:\n",
    "    f = open(path, 'r')\n",
    "    lines = f.readlines()\n",
    "    for line in lines:\n",
    "        cnt += 1\n",
    "        index = int(list(line.split())[0])\n",
    "        arr[index] += 1\n",
    "    f.close()\n",
    "print(cnt)\n",
    "print(arr)\n"
   ]
  },
  {
   "cell_type": "code",
   "execution_count": null,
   "id": "a51fa13c",
   "metadata": {},
   "outputs": [],
   "source": []
  }
 ],
 "metadata": {
  "kernelspec": {
   "display_name": "Python 3 (ipykernel)",
   "language": "python",
   "name": "python3"
  },
  "language_info": {
   "codemirror_mode": {
    "name": "ipython",
    "version": 3
   },
   "file_extension": ".py",
   "mimetype": "text/x-python",
   "name": "python",
   "nbconvert_exporter": "python",
   "pygments_lexer": "ipython3",
   "version": "3.9.13"
  }
 },
 "nbformat": 4,
 "nbformat_minor": 5
}
