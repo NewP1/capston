{
 "cells": [
  {
   "cell_type": "code",
   "execution_count": 1,
   "id": "8090f72b",
   "metadata": {},
   "outputs": [
    {
     "name": "stdout",
     "output_type": "stream",
     "text": [
      "['boxingyoga-the-boxers-lunge-ii.webp', 'business-man-punching-someone-side-view-young-threatening-to-punch-isolated-white-background-30516037.jpg', 'businessman-acting-like-he-is-punching-someone-on-a-white-background-2A4GMRR.jpg', 'businessman-punch-side-view-portrait-39390879.jpg', 'outside_11_1_frame1.png', 'outside_11_1_frame1.xml', 'outside_11_3_frame3.png', 'outside_11_3_frame3.xml', 'pose-01.jpg', 'pose-31.jpg']\n",
      "['outside_11_1_frame1.xml', 'outside_11_3_frame3.xml']\n"
     ]
    }
   ],
   "source": [
    "import os\n",
    "from xml.etree.ElementTree import parse\n",
    "from bs4 import BeautifulSoup\n",
    "from glob import glob\n",
    "\n",
    "# 영상의 의미지를 연속적으로 캡쳐할 수 있게 하는 class\n",
    "# 영상이 있는 경로\n",
    "\n",
    "path = r'E:\\ai\\frame_image\\pushing\\croki/'\n",
    "file_names = os.listdir(path)\n",
    "xml_files = []\n",
    "print(file_names)\n",
    "for file_name in file_names:\n",
    "    if file_name[-4:] == \".xml\":\n",
    "        xml_files.append(file_name)\n",
    "print(xml_files)\n",
    "\n",
    "act = {'Violence1' : 0, 'Violence2':1, 'Punch':2, 'Kick':3,\n",
    "       'Pull':4, 'Push':5, 'Falldown':6, 'Threaten':7}\n"
   ]
  },
  {
   "cell_type": "markdown",
   "id": "4348b2a7",
   "metadata": {},
   "source": [
    "## xml -> txt ( Yolo로 변경 )"
   ]
  },
  {
   "cell_type": "code",
   "execution_count": 2,
   "id": "dc1c6d34",
   "metadata": {},
   "outputs": [],
   "source": [
    "for_junk_image = ['classes']\n",
    "for xml_file in xml_files:\n",
    "    file_name = xml_file[:-4]\n",
    "    for_junk_image.append(file_name)\n",
    "    xml_path = os.path.join(path, xml_file)\n",
    "    \n",
    "    xml = open(xml_path, 'r')\n",
    "    soup = BeautifulSoup(xml.read(), 'xml')\n",
    "    f = open(path + file_name + '.txt', 'w')\n",
    "    \n",
    "    \n",
    "    # 프레임 사이즈\n",
    "    frame_size = soup.find('size')\n",
    "    width = int(frame_size.find('width').text)\n",
    "    height = int(frame_size.find('height').text)\n",
    "    \n",
    "    object = soup.find_all('object')\n",
    "    \n",
    "    for obj in object:\n",
    "        \n",
    "        act_name = obj.find('name').text\n",
    "        idx = str(act[act_name])    # index 값\n",
    "        \n",
    "        box = obj.find('bndbox')\n",
    "        box_location_x = (float(obj.find('xmin').text) + float(obj.find('xmax').text)) / 2\n",
    "        x_length = (float(obj.find('xmax').text) - float(obj.find('xmin').text)) \n",
    "        box_location_y = (float(obj.find('ymin').text) + float(obj.find('ymax').text)) / 2\n",
    "        y_length = (float(obj.find('ymax').text) - float(obj.find('ymin').text))\n",
    "#         print(box_location_x, box_location_y)\n",
    "#         print(x_length, y_length)\n",
    "        \n",
    "        per_box_loc_x = str(box_location_x / width)\n",
    "        per_box_loc_y = str(box_location_y / height)\n",
    "#         print(per_box_loc_x, per_box_loc_y)\n",
    "        \n",
    "        per_x_length = str(x_length / width)\n",
    "        per_y_length = str(y_length / height)\n",
    "        \n",
    "#         print(per_x_length, per_y_length)\n",
    "        \n",
    "        \n",
    "        data = idx + ' ' + per_box_loc_x + ' ' + per_box_loc_y + ' ' + per_x_length + ' ' + per_y_length + '\\n'\n",
    "        \n",
    "        f.write(data)\n",
    "        \n",
    "    f.close()\n",
    "    xml.close()"
   ]
  },
  {
   "cell_type": "markdown",
   "id": "a7e1cce7",
   "metadata": {},
   "source": [
    "## 폴더 경로 확인"
   ]
  },
  {
   "cell_type": "code",
   "execution_count": 3,
   "id": "47d5366b",
   "metadata": {},
   "outputs": [
    {
     "data": {
      "text/plain": [
       "'C:\\\\Users\\\\jaehy\\\\capston\\\\xml_to_txt\\\\test_frame_xml/'"
      ]
     },
     "execution_count": 3,
     "metadata": {},
     "output_type": "execute_result"
    }
   ],
   "source": [
    "path"
   ]
  },
  {
   "cell_type": "markdown",
   "id": "39053d8b",
   "metadata": {},
   "source": [
    "## xml 파일 있던거 삭제"
   ]
  },
  {
   "cell_type": "code",
   "execution_count": 4,
   "id": "8d8f6575",
   "metadata": {},
   "outputs": [
    {
     "name": "stdout",
     "output_type": "stream",
     "text": [
      "C:\\Users\\jaehy\\capston\\xml_to_txt\\test_frame_xml/outside_11_1_frame1.xml\n",
      "C:\\Users\\jaehy\\capston\\xml_to_txt\\test_frame_xml/outside_11_3_frame3.xml\n"
     ]
    }
   ],
   "source": [
    "# for name in xml_files:\n",
    "#     xml_path = os.path.join(path, name)\n",
    "#     print(xml_path)\n",
    "    \n",
    "#     if os.path.isfile(xml_path):\n",
    "#         os.remove(xml_path)"
   ]
  },
  {
   "cell_type": "markdown",
   "id": "80b351cc",
   "metadata": {},
   "source": [
    "## labeling 개수 확인"
   ]
  },
  {
   "cell_type": "code",
   "execution_count": 5,
   "id": "faf34568",
   "metadata": {},
   "outputs": [
    {
     "name": "stdout",
     "output_type": "stream",
     "text": [
      "2\n"
     ]
    }
   ],
   "source": [
    "from glob import glob\n",
    "print(len(glob(path + '*.txt')))"
   ]
  },
  {
   "cell_type": "markdown",
   "id": "95b43d32",
   "metadata": {},
   "source": [
    "# 여기 아래있는 코드는 라벨링 안한 사진들 삭제하는 부분 👇👇👇👇👇"
   ]
  },
  {
   "cell_type": "markdown",
   "id": "4633d72f",
   "metadata": {},
   "source": [
    "# 굉장히 조심히 다룰 것, labeling 끝나면 주석 풀어서 돌려야댐 \n",
    "\n",
    "# 진짜!!!!!!!!!!!!!!!!!!!!!!!!!!!!!!!!!!!!!!!!!!!!!!!!!!!!!!!!!!!!!!!!!\n",
    "\n",
    "# 사진 없어졌다 하면 진짜 슬픔"
   ]
  },
  {
   "cell_type": "code",
   "execution_count": 7,
   "id": "326f711f",
   "metadata": {},
   "outputs": [],
   "source": [
    "# for junk in file_names:\n",
    "#     png_path = os.path.join(path, junk)\n",
    "#     if junk[:-4] not in for_junk_image:\n",
    "#         os.remove(png_path)"
   ]
  },
  {
   "cell_type": "markdown",
   "id": "e7327946",
   "metadata": {},
   "source": [
    "## 누르면 걍 없어짐  ㅋ ㅋㅋ ㅋㅋㅋ "
   ]
  }
 ],
 "metadata": {
  "kernelspec": {
   "display_name": "Python 3 (ipykernel)",
   "language": "python",
   "name": "python3"
  },
  "language_info": {
   "codemirror_mode": {
    "name": "ipython",
    "version": 3
   },
   "file_extension": ".py",
   "mimetype": "text/x-python",
   "name": "python",
   "nbconvert_exporter": "python",
   "pygments_lexer": "ipython3",
   "version": "3.9.13"
  }
 },
 "nbformat": 4,
 "nbformat_minor": 5
}
