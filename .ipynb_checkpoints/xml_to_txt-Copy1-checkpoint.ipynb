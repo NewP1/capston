{
 "cells": [
  {
   "cell_type": "code",
   "execution_count": 1,
   "id": "8090f72b",
   "metadata": {},
   "outputs": [
    {
     "name": "stdout",
     "output_type": "stream",
     "text": [
      "['20230321_172531_010_saved.png', '20230321_172531_010_saved.xml', '20230321_172531_018_saved.png', '20230321_172531_018_saved.xml', '20230321_172551_018_saved.png', '20230321_172551_018_saved.xml', '20230321_172551_034_saved.png', '20230321_172551_034_saved.xml', '20230321_172609_014_saved.png', '20230321_172609_014_saved.xml', '20230321_172609_035_saved.png', '20230321_172609_035_saved.xml', '20230321_172648_034_saved.png', '20230321_172648_034_saved.xml', '20230321_172648_044_saved.png', '20230321_172648_044_saved.xml', '20230321_172731_002_saved.png', '20230321_172731_002_saved.xml', '20230321_172731_011_saved.png', '20230321_172731_011_saved.xml', '20230321_172813_020_saved.png', '20230321_172813_020_saved.xml', '20230321_172813_034_saved.png', '20230321_172813_034_saved.xml', '20230321_172911_015_saved.png', '20230321_172911_015_saved.xml', '20230321_172911_024_saved.png', '20230321_172911_024_saved.xml', '20230321_172927_004_saved.png', '20230321_172927_004_saved.xml', '20230321_172927_010_saved.png', '20230321_172927_010_saved.xml', '20230321_173021_026_saved.png', '20230321_173021_026_saved.xml', '20230321_173021_049_saved.png', '20230321_173021_049_saved.xml', 'punch_0.png', 'punch_0.xml', 'punch_1.png', 'punch_1.xml', 'punch_10.png', 'punch_10.xml', 'punch_11.png', 'punch_11.xml', 'punch_13.png', 'punch_13.xml', 'punch_14.png', 'punch_14.xml', 'punch_15.png', 'punch_15.xml', 'punch_16.png', 'punch_16.xml', 'punch_17.png', 'punch_17.xml', 'punch_18.png', 'punch_18.xml', 'punch_19.png', 'punch_19.xml', 'punch_20.png', 'punch_20.xml', 'punch_21.png', 'punch_21.xml', 'punch_22.png', 'punch_22.xml', 'punch_24.png', 'punch_24.xml', 'punch_25.png', 'punch_25.xml', 'punch_26.png', 'punch_26.xml', 'punch_27.png', 'punch_27.xml', 'punch_28.png', 'punch_28.xml', 'punch_29.png', 'punch_29.xml', 'punch_3.png', 'punch_3.xml', 'punch_30.png', 'punch_30.xml', 'punch_31.png', 'punch_31.xml', 'punch_32.png', 'punch_32.xml', 'punch_33.png', 'punch_33.xml', 'punch_34.png', 'punch_34.xml', 'punch_35.png', 'punch_35.xml', 'punch_36.png', 'punch_36.xml', 'punch_37.png', 'punch_37.xml', 'punch_38.png', 'punch_38.xml', 'punch_39.png', 'punch_39.xml', 'punch_4.png', 'punch_4.xml', 'punch_41.png', 'punch_41.xml', 'punch_42.png', 'punch_42.xml', 'punch_43.png', 'punch_43.xml', 'punch_44.png', 'punch_44.xml', 'punch_46.png', 'punch_46.xml', 'punch_47.png', 'punch_47.xml', 'punch_5.png', 'punch_5.xml', 'punch_7.png', 'punch_7.xml', 'punch_8.png', 'punch_8.xml', 'punch_9.png', 'punch_9.xml']\n",
      "['20230321_172531_010_saved.xml', '20230321_172531_018_saved.xml', '20230321_172551_018_saved.xml', '20230321_172551_034_saved.xml', '20230321_172609_014_saved.xml', '20230321_172609_035_saved.xml', '20230321_172648_034_saved.xml', '20230321_172648_044_saved.xml', '20230321_172731_002_saved.xml', '20230321_172731_011_saved.xml', '20230321_172813_020_saved.xml', '20230321_172813_034_saved.xml', '20230321_172911_015_saved.xml', '20230321_172911_024_saved.xml', '20230321_172927_004_saved.xml', '20230321_172927_010_saved.xml', '20230321_173021_026_saved.xml', '20230321_173021_049_saved.xml', 'punch_0.xml', 'punch_1.xml', 'punch_10.xml', 'punch_11.xml', 'punch_13.xml', 'punch_14.xml', 'punch_15.xml', 'punch_16.xml', 'punch_17.xml', 'punch_18.xml', 'punch_19.xml', 'punch_20.xml', 'punch_21.xml', 'punch_22.xml', 'punch_24.xml', 'punch_25.xml', 'punch_26.xml', 'punch_27.xml', 'punch_28.xml', 'punch_29.xml', 'punch_3.xml', 'punch_30.xml', 'punch_31.xml', 'punch_32.xml', 'punch_33.xml', 'punch_34.xml', 'punch_35.xml', 'punch_36.xml', 'punch_37.xml', 'punch_38.xml', 'punch_39.xml', 'punch_4.xml', 'punch_41.xml', 'punch_42.xml', 'punch_43.xml', 'punch_44.xml', 'punch_46.xml', 'punch_47.xml', 'punch_5.xml', 'punch_7.xml', 'punch_8.xml', 'punch_9.xml']\n"
     ]
    }
   ],
   "source": [
    "import os\n",
    "from xml.etree.ElementTree import parse\n",
    "from bs4 import BeautifulSoup\n",
    "from glob import glob\n",
    "\n",
    "# 영상의 의미지를 연속적으로 캡쳐할 수 있게 하는 class\n",
    "# 영상이 있는 경로\n",
    "\n",
    "path = r'E:\\4\\my_data\\punch_png/'\n",
    "file_names = os.listdir(path)\n",
    "xml_files = []\n",
    "print(file_names)\n",
    "for file_name in file_names:\n",
    "    if file_name[-4:] == \".xml\":\n",
    "        xml_files.append(file_name)\n",
    "print(xml_files)\n",
    "\n",
    "act = {'Violence1' : 0, 'Violence2':1, 'Punch':2, 'Kick':3,\n",
    "       'Falldown':4, 'Non_violence':7}\n"
   ]
  },
  {
   "cell_type": "markdown",
   "id": "4348b2a7",
   "metadata": {},
   "source": [
    "## xml -> txt ( Yolo로 변경 )"
   ]
  },
  {
   "cell_type": "code",
   "execution_count": 2,
   "id": "dc1c6d34",
   "metadata": {},
   "outputs": [],
   "source": [
    "for_junk_image = ['classes']\n",
    "for xml_file in xml_files:\n",
    "    file_name = xml_file[:-4]\n",
    "    for_junk_image.append(file_name)\n",
    "    xml_path = os.path.join(path, xml_file)\n",
    "    \n",
    "    xml = open(xml_path, 'r')\n",
    "    soup = BeautifulSoup(xml.read(), 'xml')\n",
    "    f = open(path + file_name + '.txt', 'w')\n",
    "    \n",
    "    \n",
    "    # 프레임 사이즈\n",
    "    frame_size = soup.find('size')\n",
    "    width = int(frame_size.find('width').text)\n",
    "    height = int(frame_size.find('height').text)\n",
    "    \n",
    "    object = soup.find_all('object')\n",
    "    \n",
    "    for obj in object:\n",
    "        \n",
    "        act_name = obj.find('name').text\n",
    "        idx = str(act[act_name])    # index 값\n",
    "        \n",
    "        box = obj.find('bndbox')\n",
    "        box_location_x = (float(obj.find('xmin').text) + float(obj.find('xmax').text)) / 2\n",
    "        x_length = (float(obj.find('xmax').text) - float(obj.find('xmin').text)) \n",
    "        box_location_y = (float(obj.find('ymin').text) + float(obj.find('ymax').text)) / 2\n",
    "        y_length = (float(obj.find('ymax').text) - float(obj.find('ymin').text))\n",
    "#         print(box_location_x, box_location_y)\n",
    "#         print(x_length, y_length)\n",
    "        \n",
    "        per_box_loc_x = str(box_location_x / width)\n",
    "        per_box_loc_y = str(box_location_y / height)\n",
    "#         print(per_box_loc_x, per_box_loc_y)\n",
    "        \n",
    "        per_x_length = str(x_length / width)\n",
    "        per_y_length = str(y_length / height)\n",
    "        \n",
    "#         print(per_x_length, per_y_length)\n",
    "        \n",
    "        \n",
    "        data = idx + ' ' + per_box_loc_x + ' ' + per_box_loc_y + ' ' + per_x_length + ' ' + per_y_length + '\\n'\n",
    "        \n",
    "        f.write(data)\n",
    "        \n",
    "    f.close()\n",
    "    xml.close()"
   ]
  },
  {
   "cell_type": "markdown",
   "id": "a7e1cce7",
   "metadata": {},
   "source": [
    "## 폴더 경로 확인"
   ]
  },
  {
   "cell_type": "code",
   "execution_count": 3,
   "id": "47d5366b",
   "metadata": {},
   "outputs": [
    {
     "data": {
      "text/plain": [
       "'C:\\\\Users\\\\jaehy\\\\capston\\\\xml_to_txt\\\\test_frame_xml/'"
      ]
     },
     "execution_count": 3,
     "metadata": {},
     "output_type": "execute_result"
    }
   ],
   "source": [
    "path"
   ]
  },
  {
   "cell_type": "markdown",
   "id": "39053d8b",
   "metadata": {},
   "source": [
    "## xml 파일 있던거 삭제"
   ]
  },
  {
   "cell_type": "code",
   "execution_count": 3,
   "id": "8d8f6575",
   "metadata": {},
   "outputs": [
    {
     "name": "stdout",
     "output_type": "stream",
     "text": [
      "E:\\4\\my_data\\punch_png/20230321_172531_010_saved.xml\n",
      "E:\\4\\my_data\\punch_png/20230321_172531_018_saved.xml\n",
      "E:\\4\\my_data\\punch_png/20230321_172551_018_saved.xml\n",
      "E:\\4\\my_data\\punch_png/20230321_172551_034_saved.xml\n",
      "E:\\4\\my_data\\punch_png/20230321_172609_014_saved.xml\n",
      "E:\\4\\my_data\\punch_png/20230321_172609_035_saved.xml\n",
      "E:\\4\\my_data\\punch_png/20230321_172648_034_saved.xml\n",
      "E:\\4\\my_data\\punch_png/20230321_172648_044_saved.xml\n",
      "E:\\4\\my_data\\punch_png/20230321_172731_002_saved.xml\n",
      "E:\\4\\my_data\\punch_png/20230321_172731_011_saved.xml\n",
      "E:\\4\\my_data\\punch_png/20230321_172813_020_saved.xml\n",
      "E:\\4\\my_data\\punch_png/20230321_172813_034_saved.xml\n",
      "E:\\4\\my_data\\punch_png/20230321_172911_015_saved.xml\n",
      "E:\\4\\my_data\\punch_png/20230321_172911_024_saved.xml\n",
      "E:\\4\\my_data\\punch_png/20230321_172927_004_saved.xml\n",
      "E:\\4\\my_data\\punch_png/20230321_172927_010_saved.xml\n",
      "E:\\4\\my_data\\punch_png/20230321_173021_026_saved.xml\n",
      "E:\\4\\my_data\\punch_png/20230321_173021_049_saved.xml\n",
      "E:\\4\\my_data\\punch_png/punch_0.xml\n",
      "E:\\4\\my_data\\punch_png/punch_1.xml\n",
      "E:\\4\\my_data\\punch_png/punch_10.xml\n",
      "E:\\4\\my_data\\punch_png/punch_11.xml\n",
      "E:\\4\\my_data\\punch_png/punch_13.xml\n",
      "E:\\4\\my_data\\punch_png/punch_14.xml\n",
      "E:\\4\\my_data\\punch_png/punch_15.xml\n",
      "E:\\4\\my_data\\punch_png/punch_16.xml\n",
      "E:\\4\\my_data\\punch_png/punch_17.xml\n",
      "E:\\4\\my_data\\punch_png/punch_18.xml\n",
      "E:\\4\\my_data\\punch_png/punch_19.xml\n",
      "E:\\4\\my_data\\punch_png/punch_20.xml\n",
      "E:\\4\\my_data\\punch_png/punch_21.xml\n",
      "E:\\4\\my_data\\punch_png/punch_22.xml\n",
      "E:\\4\\my_data\\punch_png/punch_24.xml\n",
      "E:\\4\\my_data\\punch_png/punch_25.xml\n",
      "E:\\4\\my_data\\punch_png/punch_26.xml\n",
      "E:\\4\\my_data\\punch_png/punch_27.xml\n",
      "E:\\4\\my_data\\punch_png/punch_28.xml\n",
      "E:\\4\\my_data\\punch_png/punch_29.xml\n",
      "E:\\4\\my_data\\punch_png/punch_3.xml\n",
      "E:\\4\\my_data\\punch_png/punch_30.xml\n",
      "E:\\4\\my_data\\punch_png/punch_31.xml\n",
      "E:\\4\\my_data\\punch_png/punch_32.xml\n",
      "E:\\4\\my_data\\punch_png/punch_33.xml\n",
      "E:\\4\\my_data\\punch_png/punch_34.xml\n",
      "E:\\4\\my_data\\punch_png/punch_35.xml\n",
      "E:\\4\\my_data\\punch_png/punch_36.xml\n",
      "E:\\4\\my_data\\punch_png/punch_37.xml\n",
      "E:\\4\\my_data\\punch_png/punch_38.xml\n",
      "E:\\4\\my_data\\punch_png/punch_39.xml\n",
      "E:\\4\\my_data\\punch_png/punch_4.xml\n",
      "E:\\4\\my_data\\punch_png/punch_41.xml\n",
      "E:\\4\\my_data\\punch_png/punch_42.xml\n",
      "E:\\4\\my_data\\punch_png/punch_43.xml\n",
      "E:\\4\\my_data\\punch_png/punch_44.xml\n",
      "E:\\4\\my_data\\punch_png/punch_46.xml\n",
      "E:\\4\\my_data\\punch_png/punch_47.xml\n",
      "E:\\4\\my_data\\punch_png/punch_5.xml\n",
      "E:\\4\\my_data\\punch_png/punch_7.xml\n",
      "E:\\4\\my_data\\punch_png/punch_8.xml\n",
      "E:\\4\\my_data\\punch_png/punch_9.xml\n"
     ]
    }
   ],
   "source": [
    "for name in xml_files:\n",
    "    xml_path = os.path.join(path, name)\n",
    "    print(xml_path)\n",
    "    \n",
    "    if os.path.isfile(xml_path):\n",
    "        os.remove(xml_path)"
   ]
  },
  {
   "cell_type": "markdown",
   "id": "80b351cc",
   "metadata": {},
   "source": [
    "## labeling 개수 확인"
   ]
  },
  {
   "cell_type": "code",
   "execution_count": 3,
   "id": "faf34568",
   "metadata": {},
   "outputs": [
    {
     "name": "stdout",
     "output_type": "stream",
     "text": [
      "9701\n"
     ]
    }
   ],
   "source": [
    "from glob import glob\n",
    "print(len(glob(path + '*.png')))"
   ]
  },
  {
   "cell_type": "markdown",
   "id": "95b43d32",
   "metadata": {},
   "source": [
    "# 여기 아래있는 코드는 라벨링 안한 사진들 삭제하는 부분 👇👇👇👇👇"
   ]
  },
  {
   "cell_type": "markdown",
   "id": "4633d72f",
   "metadata": {},
   "source": [
    "# 굉장히 조심히 다룰 것, labeling 끝나면 주석 풀어서 돌려야댐 \n",
    "\n",
    "# 진짜!!!!!!!!!!!!!!!!!!!!!!!!!!!!!!!!!!!!!!!!!!!!!!!!!!!!!!!!!!!!!!!!!\n",
    "\n",
    "# 사진 없어졌다 하면 진짜 슬픔"
   ]
  },
  {
   "cell_type": "code",
   "execution_count": 7,
   "id": "326f711f",
   "metadata": {},
   "outputs": [],
   "source": [
    "# for junk in file_names:\n",
    "#     png_path = os.path.join(path, junk)\n",
    "#     if junk[:-4] not in for_junk_image:\n",
    "#         os.remove(png_path)"
   ]
  },
  {
   "cell_type": "markdown",
   "id": "e7327946",
   "metadata": {},
   "source": [
    "## 누르면 걍 없어짐  ㅋ ㅋㅋ ㅋㅋㅋ "
   ]
  }
 ],
 "metadata": {
  "kernelspec": {
   "display_name": "Python 3 (ipykernel)",
   "language": "python",
   "name": "python3"
  },
  "language_info": {
   "codemirror_mode": {
    "name": "ipython",
    "version": 3
   },
   "file_extension": ".py",
   "mimetype": "text/x-python",
   "name": "python",
   "nbconvert_exporter": "python",
   "pygments_lexer": "ipython3",
   "version": "3.9.13"
  }
 },
 "nbformat": 4,
 "nbformat_minor": 5
}
