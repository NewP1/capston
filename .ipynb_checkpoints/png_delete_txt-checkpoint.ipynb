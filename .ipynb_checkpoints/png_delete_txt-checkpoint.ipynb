{
 "cells": [
  {
   "cell_type": "code",
   "execution_count": 16,
   "id": "8090f72b",
   "metadata": {
    "scrolled": true
   },
   "outputs": [
    {
     "name": "stdout",
     "output_type": "stream",
     "text": [
      "['1_frame0.png', '1_frame0.txt', '1_frame105.png', '1_frame105.txt', '1_frame107.png', '1_frame107.txt', '1_frame25.png', '1_frame25.txt', 'classes.txt', 'pull_outside_20_3_frame14.png', 'pull_outside_20_3_frame14.txt', 'pull_outside_24_3_frame62.png', 'pull_outside_24_3_frame62.txt', 'pull_outside_87_0_frame140.png', 'pull_outside_87_0_frame140.txt', 'punch_croki_24_3_frame12.png', 'punch_croki_24_3_frame12.txt', 'punch_croki_24_6_frame9.png', 'punch_croki_24_6_frame9.txt', 'punch_croki_26_1_frame7.png', 'punch_croki_26_1_frame7.txt', 'punch_croki_29_6_frame57.png', 'punch_croki_29_6_frame57.txt', 'punch_croki_39_5_frame1.png', 'punch_croki_39_5_frame1.txt', 'punch_croki_39_6_frame1.png', 'punch_croki_39_6_frame1.txt', 'punch_croki_41_5_frame2.png', 'punch_croki_41_5_frame2.txt', 'punch_croki_51_2_frame1.png', 'punch_croki_51_2_frame1.txt', 'punch_outside_90_0_frame50.png', 'punch_outside_90_0_frame50.txt', 'punch_outside_90_1_frame8.png', 'punch_outside_90_1_frame8.txt', 'reallife_1_V_119.mp4_frame371.png', 'reallife_1_V_119.mp4_frame371.txt', 'reallife_1_V_119.mp4_frame383.png', 'reallife_1_V_119.mp4_frame383.txt', 'reallife_1_V_147.mp4_frame904.png', 'reallife_1_V_147.mp4_frame904.txt', 'reallife_1_V_204.mp4_frame1916.png', 'reallife_1_V_204.mp4_frame1916.txt', 'reallife_1_V_213.mp4_frame2076.png', 'reallife_1_V_213.mp4_frame2076.txt', 'reallife_1_V_229.mp4_frame2336.png', 'reallife_1_V_229.mp4_frame2336.txt', 'reallife_1_V_232.mp4_frame2402.png', 'reallife_1_V_232.mp4_frame2402.txt', 'reallife_1_V_234.mp4_frame2420.png', 'reallife_1_V_234.mp4_frame2420.txt', 'reallife_1_V_309.mp4_frame3669.png', 'reallife_1_V_309.mp4_frame3669.txt', 'reallife_1_V_377.mp4_frame4927.png', 'reallife_1_V_377.mp4_frame4927.txt', 'reallife_1_V_398.mp4_frame5397.png', 'reallife_1_V_398.mp4_frame5397.txt', 'reallife_1_V_407.mp4_frame5820.png', 'reallife_1_V_407.mp4_frame5820.txt', 'reallife_1_V_413.mp4_frame5913.png', 'reallife_1_V_413.mp4_frame5913.txt', 'reallife_1_V_433.mp4_frame6199.png', 'reallife_1_V_433.mp4_frame6199.txt', 'reallife_1_V_464.mp4_frame6662.png', 'reallife_1_V_464.mp4_frame6662.txt', 'reallife_1_V_509.mp4_frame7406.png', 'reallife_1_V_509.mp4_frame7406.txt', 'reallife_1_V_636.mp4_frame9487.png', 'reallife_1_V_636.mp4_frame9487.txt', 'reallife_1_V_751.mp4_frame11424.png', 'reallife_1_V_751.mp4_frame11424.txt', 'reallife_1_V_754.mp4_frame11465.png', 'reallife_1_V_754.mp4_frame11465.txt', 'reallife_1_V_754.mp4_frame11467.png', 'reallife_1_V_754.mp4_frame11467.txt', 'reallife_1_V_844.mp4_frame14045.png', 'reallife_1_V_844.mp4_frame14045.txt', 'reallife_2_V55.mp4_frame1781.png', 'reallife_2_V55.mp4_frame1781.txt', 'reallife_2_V61.mp4_frame1985.png', 'reallife_2_V61.mp4_frame1985.txt']\n"
     ]
    }
   ],
   "source": [
    "import os\n",
    "from xml.etree.ElementTree import parse\n",
    "from bs4 import BeautifulSoup\n",
    "from glob import glob\n",
    "\n",
    "# 영상의 의미지를 연속적으로 캡쳐할 수 있게 하는 class\n",
    "# 영상이 있는 경로\n",
    "\n",
    "path = r'D:\\4\\punch_clear/'\n",
    "file_names = os.listdir(path)\n",
    "xml_files = []\n",
    "print(file_names)\n",
    "\n"
   ]
  },
  {
   "cell_type": "markdown",
   "id": "a7e1cce7",
   "metadata": {},
   "source": [
    "## 폴더 경로 확인"
   ]
  },
  {
   "cell_type": "code",
   "execution_count": 18,
   "id": "47d5366b",
   "metadata": {},
   "outputs": [
    {
     "data": {
      "text/plain": [
       "'E:\\\\ai\\\\frame_image\\\\pushing\\\\croki/'"
      ]
     },
     "execution_count": 18,
     "metadata": {},
     "output_type": "execute_result"
    }
   ],
   "source": [
    "path"
   ]
  },
  {
   "cell_type": "markdown",
   "id": "80b351cc",
   "metadata": {},
   "source": [
    "## labeling 개수 확인"
   ]
  },
  {
   "cell_type": "code",
   "execution_count": 17,
   "id": "faf34568",
   "metadata": {},
   "outputs": [
    {
     "name": "stdout",
     "output_type": "stream",
     "text": [
      "40\n"
     ]
    }
   ],
   "source": [
    "from glob import glob\n",
    "print(len(glob(path + '*.txt')) - 1)"
   ]
  },
  {
   "cell_type": "markdown",
   "id": "e7327946",
   "metadata": {},
   "source": [
    "## 누르면 걍 없어짐  ㅋ ㅋㅋ ㅋㅋㅋ "
   ]
  },
  {
   "cell_type": "code",
   "execution_count": 6,
   "id": "c02e835b",
   "metadata": {},
   "outputs": [],
   "source": [
    "# arr = []\n",
    "# for name in file_names:\n",
    "#     if name[-4:] == \".txt\":\n",
    "#         arr.append(name[:-4])\n",
    "        \n",
    "# for junk in file_names:\n",
    "#     png_path = os.path.join(path, junk)\n",
    "#     if junk[:-4] not in arr:\n",
    "#         os.remove(png_path)"
   ]
  },
  {
   "cell_type": "code",
   "execution_count": null,
   "id": "572bbc3c",
   "metadata": {},
   "outputs": [],
   "source": []
  }
 ],
 "metadata": {
  "kernelspec": {
   "display_name": "Python 3 (ipykernel)",
   "language": "python",
   "name": "python3"
  },
  "language_info": {
   "codemirror_mode": {
    "name": "ipython",
    "version": 3
   },
   "file_extension": ".py",
   "mimetype": "text/x-python",
   "name": "python",
   "nbconvert_exporter": "python",
   "pygments_lexer": "ipython3",
   "version": "3.9.7"
  }
 },
 "nbformat": 4,
 "nbformat_minor": 5
}
