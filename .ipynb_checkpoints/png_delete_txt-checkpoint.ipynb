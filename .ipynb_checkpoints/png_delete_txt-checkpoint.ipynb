{
 "cells": [
  {
   "cell_type": "code",
   "execution_count": 1,
   "id": "8090f72b",
   "metadata": {
    "scrolled": true
   },
   "outputs": [
    {
     "name": "stdout",
     "output_type": "stream",
     "text": [
      "['reallife_1_V_126.mp4_frame513.png', 'reallife_1_V_126.mp4_frame513.txt', 'reallife_1_V_138.mp4_frame724.png', 'reallife_1_V_138.mp4_frame724.txt', 'reallife_1_V_147.mp4_frame904.png', 'reallife_1_V_147.mp4_frame904.txt', 'reallife_1_V_173.mp4_frame1368.png', 'reallife_1_V_173.mp4_frame1368.txt', 'reallife_1_V_173.mp4_frame1371.png', 'reallife_1_V_173.mp4_frame1371.txt', 'reallife_1_V_185.mp4_frame1547.png', 'reallife_1_V_185.mp4_frame1547.txt', 'reallife_1_V_188.mp4_frame1609.png', 'reallife_1_V_188.mp4_frame1609.txt', 'reallife_1_V_188.mp4_frame1610.png', 'reallife_1_V_188.mp4_frame1610.txt', 'reallife_1_V_194.mp4_frame1713.png', 'reallife_1_V_194.mp4_frame1713.txt', 'reallife_1_V_334.mp4_frame4130.png', 'reallife_1_V_334.mp4_frame4130.txt', 'reallife_1_V_355.mp4_frame4479.png', 'reallife_1_V_355.mp4_frame4479.txt', 'reallife_1_V_363.mp4_frame4657.png', 'reallife_1_V_363.mp4_frame4657.txt', 'reallife_1_V_370.mp4_frame4793.png', 'reallife_1_V_370.mp4_frame4793.txt', 'reallife_1_V_370.mp4_frame4794.png', 'reallife_1_V_370.mp4_frame4794.txt', 'reallife_1_V_373.mp4_frame4846.png', 'reallife_1_V_373.mp4_frame4846.txt', 'reallife_1_V_373.mp4_frame4847.png', 'reallife_1_V_373.mp4_frame4847.txt', 'reallife_1_V_374.mp4_frame4853.png', 'reallife_1_V_374.mp4_frame4853.txt', 'reallife_1_V_374.mp4_frame4863.png', 'reallife_1_V_374.mp4_frame4863.txt', 'reallife_1_V_375.mp4_frame4869.png', 'reallife_1_V_375.mp4_frame4869.txt', 'reallife_1_V_377.mp4_frame4922.png', 'reallife_1_V_377.mp4_frame4922.txt', 'reallife_1_V_381.mp4_frame5006.png', 'reallife_1_V_381.mp4_frame5006.txt', 'reallife_1_V_381.mp4_frame5007.png', 'reallife_1_V_381.mp4_frame5007.txt', 'reallife_1_V_387.mp4_frame5097.png', 'reallife_1_V_387.mp4_frame5097.txt', 'reallife_1_V_390.mp4_frame5154.png', 'reallife_1_V_390.mp4_frame5154.txt', 'reallife_1_V_394.mp4_frame5224.png', 'reallife_1_V_394.mp4_frame5224.txt', 'reallife_1_V_394.mp4_frame5225.png', 'reallife_1_V_394.mp4_frame5225.txt', 'reallife_1_V_398.mp4_frame5395.png', 'reallife_1_V_398.mp4_frame5395.txt', 'reallife_1_V_406.mp4_frame5808.png', 'reallife_1_V_406.mp4_frame5808.txt', 'reallife_1_V_406.mp4_frame5809.png', 'reallife_1_V_406.mp4_frame5809.txt', 'reallife_1_V_416.mp4_frame5945.png', 'reallife_1_V_416.mp4_frame5945.txt', 'reallife_1_V_417.mp4_frame5959.png', 'reallife_1_V_417.mp4_frame5959.txt', 'reallife_1_V_419.mp4_frame5981.png', 'reallife_1_V_419.mp4_frame5981.txt', 'reallife_1_V_422.mp4_frame6049.png', 'reallife_1_V_422.mp4_frame6049.txt', 'reallife_1_V_426.mp4_frame6094.png', 'reallife_1_V_426.mp4_frame6094.txt', 'reallife_1_V_426.mp4_frame6095.png', 'reallife_1_V_426.mp4_frame6095.txt', 'reallife_1_V_426.mp4_frame6096.png', 'reallife_1_V_426.mp4_frame6096.txt', 'reallife_1_V_426.mp4_frame6097.png', 'reallife_1_V_426.mp4_frame6097.txt', 'reallife_1_V_435.mp4_frame6229.png', 'reallife_1_V_435.mp4_frame6229.txt', 'reallife_1_V_454.mp4_frame6491.png', 'reallife_1_V_454.mp4_frame6491.txt', 'reallife_1_V_455.mp4_frame6503.png', 'reallife_1_V_455.mp4_frame6503.txt', 'reallife_1_V_460.mp4_frame6584.png', 'reallife_1_V_460.mp4_frame6584.txt', 'reallife_1_V_462.mp4_frame6621.png', 'reallife_1_V_462.mp4_frame6621.txt', 'reallife_1_V_465.mp4_frame6679.png', 'reallife_1_V_465.mp4_frame6679.txt', 'reallife_1_V_475.mp4_frame6832.png', 'reallife_1_V_475.mp4_frame6832.txt', 'reallife_1_V_475.mp4_frame6838.png', 'reallife_1_V_475.mp4_frame6838.txt', 'reallife_1_V_476.mp4_frame6844.png', 'reallife_1_V_476.mp4_frame6844.txt', 'reallife_1_V_488.mp4_frame7054.png', 'reallife_1_V_488.mp4_frame7054.txt', 'reallife_1_V_489.mp4_frame7064.png', 'reallife_1_V_489.mp4_frame7064.txt', 'reallife_1_V_489.mp4_frame7066.png', 'reallife_1_V_489.mp4_frame7066.txt', 'reallife_1_V_491.mp4_frame7107.png', 'reallife_1_V_491.mp4_frame7107.txt', 'reallife_1_V_502.mp4_frame7303.png', 'reallife_1_V_502.mp4_frame7303.txt', 'reallife_1_V_502.mp4_frame7304.png', 'reallife_1_V_502.mp4_frame7304.txt', 'reallife_1_V_507.mp4_frame7372.png', 'reallife_1_V_507.mp4_frame7372.txt', 'reallife_1_V_507.mp4_frame7380.png', 'reallife_1_V_507.mp4_frame7380.txt', 'reallife_1_V_510.mp4_frame7438.png', 'reallife_1_V_510.mp4_frame7438.txt', 'reallife_1_V_513.mp4_frame7470.png', 'reallife_1_V_513.mp4_frame7470.txt', 'reallife_1_V_514.mp4_frame7483.png', 'reallife_1_V_514.mp4_frame7483.txt', 'reallife_1_V_518.mp4_frame7543.png', 'reallife_1_V_518.mp4_frame7543.txt', 'reallife_1_V_522.mp4_frame7620.png', 'reallife_1_V_522.mp4_frame7620.txt', 'reallife_1_V_522.mp4_frame7621.png', 'reallife_1_V_522.mp4_frame7621.txt', 'reallife_1_V_522.mp4_frame7622.png', 'reallife_1_V_522.mp4_frame7622.txt', 'reallife_1_V_522.mp4_frame7628.png', 'reallife_1_V_522.mp4_frame7628.txt', 'reallife_1_V_558.mp4_frame8202.png', 'reallife_1_V_558.mp4_frame8202.txt', 'reallife_1_V_571.mp4_frame8414.png', 'reallife_1_V_571.mp4_frame8414.txt', 'reallife_1_V_571.mp4_frame8425.png', 'reallife_1_V_571.mp4_frame8425.txt', 'reallife_1_V_573.mp4_frame8446.png', 'reallife_1_V_573.mp4_frame8446.txt', 'reallife_1_V_602.mp4_frame8941.png', 'reallife_1_V_602.mp4_frame8941.txt', 'reallife_1_V_602.mp4_frame8942.png', 'reallife_1_V_602.mp4_frame8942.txt', 'reallife_1_V_603.mp4_frame8959.png', 'reallife_1_V_603.mp4_frame8959.txt', 'reallife_1_V_609.mp4_frame9042.png', 'reallife_1_V_609.mp4_frame9042.txt', 'reallife_1_V_609.mp4_frame9043.png', 'reallife_1_V_609.mp4_frame9043.txt', 'reallife_1_V_610.mp4_frame9076.png', 'reallife_1_V_610.mp4_frame9076.txt', 'reallife_1_V_621.mp4_frame9244.png', 'reallife_1_V_621.mp4_frame9244.txt', 'reallife_1_V_629.mp4_frame9361.png', 'reallife_1_V_629.mp4_frame9361.txt', 'reallife_1_V_629.mp4_frame9364.png', 'reallife_1_V_629.mp4_frame9364.txt', 'reallife_1_V_632.mp4_frame9425.png', 'reallife_1_V_632.mp4_frame9425.txt', 'reallife_1_V_641.mp4_frame9583.png', 'reallife_1_V_641.mp4_frame9583.txt', 'reallife_1_V_645.mp4_frame9647.png', 'reallife_1_V_645.mp4_frame9647.txt', 'reallife_1_V_646.mp4_frame9652.png', 'reallife_1_V_646.mp4_frame9652.txt', 'reallife_1_V_665.mp4_frame9966.png', 'reallife_1_V_665.mp4_frame9966.txt', 'reallife_1_V_669.mp4_frame10020.png', 'reallife_1_V_669.mp4_frame10020.txt', 'reallife_1_V_705.mp4_frame10618.png', 'reallife_1_V_705.mp4_frame10618.txt', 'reallife_1_V_707.mp4_frame10650.png', 'reallife_1_V_707.mp4_frame10650.txt', 'reallife_1_V_723.mp4_frame10936.png', 'reallife_1_V_723.mp4_frame10936.txt', 'reallife_1_V_726.mp4_frame10981.png', 'reallife_1_V_726.mp4_frame10981.txt', 'reallife_1_V_727.mp4_frame10991.png', 'reallife_1_V_727.mp4_frame10991.txt', 'reallife_1_V_730.mp4_frame11052.png', 'reallife_1_V_730.mp4_frame11052.txt', 'reallife_1_V_737.mp4_frame11164.png', 'reallife_1_V_737.mp4_frame11164.txt', 'reallife_1_V_749.mp4_frame11378.png', 'reallife_1_V_749.mp4_frame11378.txt', 'reallife_1_V_749.mp4_frame11379.png', 'reallife_1_V_749.mp4_frame11379.txt', 'reallife_1_V_750.mp4_frame11407.png', 'reallife_1_V_750.mp4_frame11407.txt', 'reallife_1_V_750.mp4_frame11408.png', 'reallife_1_V_750.mp4_frame11408.txt', 'reallife_1_V_750.mp4_frame11409.png', 'reallife_1_V_750.mp4_frame11409.txt', 'reallife_1_V_753.mp4_frame11463.png', 'reallife_1_V_753.mp4_frame11463.txt', 'reallife_1_V_754.mp4_frame11472.png', 'reallife_1_V_754.mp4_frame11472.txt', 'reallife_1_V_754.mp4_frame11474.png', 'reallife_1_V_754.mp4_frame11474.txt', 'reallife_1_V_754.mp4_frame11477.png', 'reallife_1_V_754.mp4_frame11477.txt', 'reallife_1_V_755.mp4_frame11481.png', 'reallife_1_V_755.mp4_frame11481.txt', 'reallife_1_V_755.mp4_frame11482.png', 'reallife_1_V_755.mp4_frame11482.txt', 'reallife_1_V_755.mp4_frame11483.png', 'reallife_1_V_755.mp4_frame11483.txt', 'reallife_1_V_756.mp4_frame11495.png', 'reallife_1_V_756.mp4_frame11495.txt', 'reallife_1_V_757.mp4_frame11513.png', 'reallife_1_V_757.mp4_frame11513.txt', 'reallife_1_V_759.mp4_frame11534.png', 'reallife_1_V_759.mp4_frame11534.txt', 'reallife_1_V_759.mp4_frame11535.png', 'reallife_1_V_759.mp4_frame11535.txt', 'reallife_1_V_761.mp4_frame11581.png', 'reallife_1_V_761.mp4_frame11581.txt', 'reallife_1_V_762.mp4_frame11598.png', 'reallife_1_V_762.mp4_frame11598.txt', 'reallife_1_V_765.mp4_frame11635.png', 'reallife_1_V_765.mp4_frame11635.txt', 'reallife_1_V_765.mp4_frame11636.png', 'reallife_1_V_765.mp4_frame11636.txt', 'reallife_1_V_770.mp4_frame11720.png', 'reallife_1_V_770.mp4_frame11720.txt', 'reallife_1_V_770.mp4_frame11722.png', 'reallife_1_V_770.mp4_frame11722.txt', 'reallife_1_V_773.mp4_frame11768.png', 'reallife_1_V_773.mp4_frame11768.txt', 'reallife_1_V_774.mp4_frame11776.png', 'reallife_1_V_774.mp4_frame11776.txt', 'reallife_1_V_789.mp4_frame12079.png', 'reallife_1_V_789.mp4_frame12079.txt', 'reallife_1_V_789.mp4_frame12389.png', 'reallife_1_V_789.mp4_frame12389.txt', 'reallife_1_V_789.mp4_frame12977.png', 'reallife_1_V_789.mp4_frame12977.txt', 'reallife_1_V_789.mp4_frame12998.png', 'reallife_1_V_789.mp4_frame12998.txt', 'reallife_1_V_791.mp4_frame13162.png', 'reallife_1_V_791.mp4_frame13162.txt', 'reallife_1_V_791.mp4_frame13166.png', 'reallife_1_V_791.mp4_frame13166.txt', 'reallife_1_V_797.mp4_frame13248.png', 'reallife_1_V_797.mp4_frame13248.txt', 'reallife_1_V_800.mp4_frame13330.png', 'reallife_1_V_800.mp4_frame13330.txt', 'reallife_1_V_801.mp4_frame13348.png', 'reallife_1_V_801.mp4_frame13348.txt', 'reallife_1_V_805.mp4_frame13405.png', 'reallife_1_V_805.mp4_frame13405.txt', 'reallife_1_V_821.mp4_frame13674.png', 'reallife_1_V_821.mp4_frame13674.txt', 'reallife_1_V_822.mp4_frame13681.png', 'reallife_1_V_822.mp4_frame13681.txt', 'reallife_1_V_822.mp4_frame13684.png', 'reallife_1_V_822.mp4_frame13684.txt', 'reallife_1_V_825.mp4_frame13721.png', 'reallife_1_V_825.mp4_frame13721.txt', 'reallife_1_V_825.mp4_frame13724.png', 'reallife_1_V_825.mp4_frame13724.txt', 'reallife_1_V_830.mp4_frame13820.png', 'reallife_1_V_830.mp4_frame13820.txt', 'reallife_1_V_830.mp4_frame13821.png', 'reallife_1_V_830.mp4_frame13821.txt', 'reallife_1_V_830.mp4_frame13824.png', 'reallife_1_V_830.mp4_frame13824.txt', 'reallife_1_V_832.mp4_frame13849.png', 'reallife_1_V_832.mp4_frame13849.txt', 'reallife_1_V_832.mp4_frame13850.png', 'reallife_1_V_832.mp4_frame13850.txt', 'reallife_1_V_837.mp4_frame13926.png', 'reallife_1_V_837.mp4_frame13926.txt', 'reallife_1_V_837.mp4_frame13927.png', 'reallife_1_V_837.mp4_frame13927.txt', 'reallife_1_V_845.mp4_frame14057.png', 'reallife_1_V_845.mp4_frame14057.txt', 'reallife_1_V_853.mp4_frame14185.png', 'reallife_1_V_853.mp4_frame14185.txt', 'reallife_1_V_854.mp4_frame14195.png', 'reallife_1_V_854.mp4_frame14195.txt', 'reallife_1_V_856.mp4_frame14221.png', 'reallife_1_V_856.mp4_frame14221.txt', 'reallife_1_V_861.mp4_frame14286.png', 'reallife_1_V_861.mp4_frame14286.txt', 'reallife_1_V_861.mp4_frame14287.png', 'reallife_1_V_861.mp4_frame14287.txt', 'reallife_1_V_861.mp4_frame14292.png', 'reallife_1_V_861.mp4_frame14292.txt', 'reallife_1_V_864.mp4_frame14328.png', 'reallife_1_V_864.mp4_frame14328.txt', 'reallife_1_V_865.mp4_frame14340.png', 'reallife_1_V_865.mp4_frame14340.txt', 'reallife_1_V_865.mp4_frame14342.png', 'reallife_1_V_865.mp4_frame14342.txt', 'reallife_1_V_867.mp4_frame14368.png', 'reallife_1_V_867.mp4_frame14368.txt', 'reallife_1_V_894.mp4_frame14791.png', 'reallife_1_V_894.mp4_frame14791.txt', 'reallife_1_V_894.mp4_frame14793.png', 'reallife_1_V_894.mp4_frame14793.txt', 'reallife_1_V_894.mp4_frame14794.png', 'reallife_1_V_894.mp4_frame14794.txt', 'reallife_1_V_894.mp4_frame14795.png', 'reallife_1_V_894.mp4_frame14795.txt', 'reallife_1_V_904.mp4_frame14988.png', 'reallife_1_V_904.mp4_frame14988.txt', 'reallife_1_V_907.mp4_frame15021.png', 'reallife_1_V_907.mp4_frame15021.txt', 'reallife_1_V_919.mp4_frame15213.png', 'reallife_1_V_919.mp4_frame15213.txt', 'reallife_1_V_930.mp4_frame15403.png', 'reallife_1_V_930.mp4_frame15403.txt', 'reallife_1_V_938.mp4_frame15528.png', 'reallife_1_V_938.mp4_frame15528.txt', 'reallife_1_V_972.mp4_frame16083.png', 'reallife_1_V_972.mp4_frame16083.txt', 'reallife_1_V_972.mp4_frame16086.png', 'reallife_1_V_972.mp4_frame16086.txt', 'reallife_1_V_985.mp4_frame16286.png', 'reallife_1_V_985.mp4_frame16286.txt', 'reallife_1_V_985.mp4_frame16287.png', 'reallife_1_V_985.mp4_frame16287.txt', 'reallife_1_V_985.mp4_frame16288.png', 'reallife_1_V_985.mp4_frame16288.txt', 'reallife_2_V107.mp4_frame286.png', 'reallife_2_V107.mp4_frame286.txt', 'reallife_2_V107.mp4_frame287.png', 'reallife_2_V107.mp4_frame287.txt', 'reallife_2_V112.mp4_frame469.png', 'reallife_2_V112.mp4_frame469.txt', 'reallife_2_V26.mp4_frame917.png', 'reallife_2_V26.mp4_frame917.txt', 'reallife_2_V26.mp4_frame918.png', 'reallife_2_V26.mp4_frame918.txt', 'reallife_2_V26.mp4_frame919.png', 'reallife_2_V26.mp4_frame919.txt', 'reallife_2_V3.mp4_frame1019.png', 'reallife_2_V3.mp4_frame1019.txt', 'reallife_2_V3.mp4_frame1021.png', 'reallife_2_V3.mp4_frame1021.txt', 'reallife_2_V3.mp4_frame1022.png', 'reallife_2_V3.mp4_frame1022.txt', 'reallife_2_V3.mp4_frame1023.png', 'reallife_2_V3.mp4_frame1023.txt', 'reallife_2_V33.mp4_frame1109.png', 'reallife_2_V33.mp4_frame1109.txt', 'reallife_2_V33.mp4_frame1125.png', 'reallife_2_V33.mp4_frame1125.txt', 'reallife_2_V37.mp4_frame1213.png', 'reallife_2_V37.mp4_frame1213.txt', 'reallife_2_V37.mp4_frame1214.png', 'reallife_2_V37.mp4_frame1214.txt', 'reallife_2_V37.mp4_frame1215.png', 'reallife_2_V37.mp4_frame1215.txt', 'reallife_2_V37.mp4_frame1218.png', 'reallife_2_V37.mp4_frame1218.txt', 'reallife_2_V37.mp4_frame1219.png', 'reallife_2_V37.mp4_frame1219.txt', 'reallife_2_V38.mp4_frame1244.png', 'reallife_2_V38.mp4_frame1244.txt', 'reallife_2_V48.mp4_frame1579.png', 'reallife_2_V48.mp4_frame1579.txt', 'reallife_2_V48.mp4_frame1583.png', 'reallife_2_V48.mp4_frame1583.txt', 'reallife_2_V50.mp4_frame1633.png', 'reallife_2_V50.mp4_frame1633.txt', 'reallife_2_V51.mp4_frame1662.png', 'reallife_2_V51.mp4_frame1662.txt', 'reallife_2_V57.mp4_frame1844.png', 'reallife_2_V57.mp4_frame1844.txt', 'reallife_2_V57.mp4_frame1845.png', 'reallife_2_V57.mp4_frame1845.txt', 'reallife_2_V6.mp4_frame1937.png', 'reallife_2_V6.mp4_frame1937.txt', 'reallife_2_V65.mp4_frame2092.png', 'reallife_2_V65.mp4_frame2092.txt', 'reallife_2_V66.mp4_frame2140.png', 'reallife_2_V66.mp4_frame2140.txt', 'reallife_2_V7.mp4_frame2236.png', 'reallife_2_V7.mp4_frame2236.txt', 'reallife_2_V73.mp4_frame2340.png', 'reallife_2_V73.mp4_frame2340.txt', 'reallife_2_V77.mp4_frame2434.png', 'reallife_2_V77.mp4_frame2434.txt', 'reallife_2_V80.mp4_frame2536.png', 'reallife_2_V80.mp4_frame2536.txt', 'reallife_2_V80.mp4_frame2538.png', 'reallife_2_V80.mp4_frame2538.txt', 'reallife_2_V83.mp4_frame2646.png', 'reallife_2_V83.mp4_frame2646.txt', 'reallife_2_V85.mp4_frame2712.png', 'reallife_2_V85.mp4_frame2712.txt', 'reallife_2_V9.mp4_frame2837.png', 'reallife_2_V9.mp4_frame2837.txt', 'reallife_2_V9.mp4_frame2838.png', 'reallife_2_V9.mp4_frame2838.txt', 'reallife_2_V9.mp4_frame2839.png', 'reallife_2_V9.mp4_frame2839.txt', 'reallife_2_V93.mp4_frame2956.png', 'reallife_2_V93.mp4_frame2956.txt', 'reallife_2_V93.mp4_frame2957.png', 'reallife_2_V93.mp4_frame2957.txt', 'reallife_2_V96.mp4_frame3063.png', 'reallife_2_V96.mp4_frame3063.txt', 'reallife_2_V96.mp4_frame3068.png', 'reallife_2_V96.mp4_frame3068.txt', 'reallife_3_WV1.mp4_frame10.png', 'reallife_3_WV1.mp4_frame10.txt', 'reallife_3_WV1.mp4_frame11.png', 'reallife_3_WV1.mp4_frame11.txt', 'reallife_3_WV110.mp4_frame310.png', 'reallife_3_WV110.mp4_frame310.txt', 'reallife_3_WV110.mp4_frame311.png', 'reallife_3_WV110.mp4_frame311.txt', 'reallife_3_WV118.mp4_frame507.png', 'reallife_3_WV118.mp4_frame507.txt', 'reallife_3_WV119.mp4_frame546.png', 'reallife_3_WV119.mp4_frame546.txt', 'reallife_3_WV13.mp4_frame697.png', 'reallife_3_WV13.mp4_frame697.txt', 'reallife_3_WV14.mp4_frame717.png', 'reallife_3_WV14.mp4_frame717.txt', 'violence1', 'violence2']\n"
     ]
    }
   ],
   "source": [
    "import os\n",
    "from xml.etree.ElementTree import parse\n",
    "from bs4 import BeautifulSoup\n",
    "from glob import glob\n",
    "\n",
    "# 영상의 의미지를 연속적으로 캡쳐할 수 있게 하는 class\n",
    "# 영상이 있는 경로\n",
    "\n",
    "path = r'D:\\4\\real/'\n",
    "file_names = os.listdir(path)\n",
    "xml_files = []\n",
    "print(file_names)\n",
    "\n"
   ]
  },
  {
   "cell_type": "markdown",
   "id": "a7e1cce7",
   "metadata": {},
   "source": [
    "## 폴더 경로 확인"
   ]
  },
  {
   "cell_type": "code",
   "execution_count": 18,
   "id": "47d5366b",
   "metadata": {},
   "outputs": [
    {
     "data": {
      "text/plain": [
       "'E:\\\\ai\\\\frame_image\\\\pushing\\\\croki/'"
      ]
     },
     "execution_count": 18,
     "metadata": {},
     "output_type": "execute_result"
    }
   ],
   "source": [
    "path"
   ]
  },
  {
   "cell_type": "markdown",
   "id": "80b351cc",
   "metadata": {},
   "source": [
    "## labeling 개수 확인"
   ]
  },
  {
   "cell_type": "code",
   "execution_count": 2,
   "id": "faf34568",
   "metadata": {},
   "outputs": [
    {
     "name": "stdout",
     "output_type": "stream",
     "text": [
      "222\n"
     ]
    }
   ],
   "source": [
    "from glob import glob\n",
    "print(len(glob(path + '*.txt')) - 1)"
   ]
  },
  {
   "cell_type": "markdown",
   "id": "e7327946",
   "metadata": {},
   "source": [
    "## 누르면 걍 없어짐  ㅋ ㅋㅋ ㅋㅋㅋ "
   ]
  },
  {
   "cell_type": "code",
   "execution_count": 3,
   "id": "c02e835b",
   "metadata": {},
   "outputs": [],
   "source": [
    "arr = []\n",
    "for name in file_names:\n",
    "    if name[-4:] == \".txt\":\n",
    "        arr.append(name[:-4])\n",
    "        \n",
    "for junk in file_names:\n",
    "    png_path = os.path.join(path, junk)\n",
    "    if junk[:-4] not in arr:\n",
    "        os.remove(png_path)"
   ]
  },
  {
   "cell_type": "code",
   "execution_count": null,
   "id": "572bbc3c",
   "metadata": {},
   "outputs": [],
   "source": []
  }
 ],
 "metadata": {
  "kernelspec": {
   "display_name": "Python 3 (ipykernel)",
   "language": "python",
   "name": "python3"
  },
  "language_info": {
   "codemirror_mode": {
    "name": "ipython",
    "version": 3
   },
   "file_extension": ".py",
   "mimetype": "text/x-python",
   "name": "python",
   "nbconvert_exporter": "python",
   "pygments_lexer": "ipython3",
   "version": "3.9.7"
  }
 },
 "nbformat": 4,
 "nbformat_minor": 5
}
