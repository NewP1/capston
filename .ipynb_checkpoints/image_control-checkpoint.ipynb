{
 "cells": [
  {
   "cell_type": "code",
   "execution_count": 8,
   "id": "3ac4ca0d",
   "metadata": {},
   "outputs": [],
   "source": [
    "from glob import glob\n",
    "import cv2\n",
    "import os\n",
    "from PIL import Image, ImageEnhance, ImageChops\n",
    "import numpy as np\n",
    "import time\n",
    "from tqdm import tqdm"
   ]
  },
  {
   "cell_type": "code",
   "execution_count": 9,
   "id": "8fb865ba",
   "metadata": {},
   "outputs": [],
   "source": [
    "def makedirs(path): \n",
    "   try: \n",
    "        os.makedirs(path) \n",
    "   except OSError: \n",
    "       if not os.path.isdir(path): \n",
    "           raise"
   ]
  },
  {
   "cell_type": "markdown",
   "id": "448fbf8f",
   "metadata": {},
   "source": [
    "### jpg -> png"
   ]
  },
  {
   "cell_type": "code",
   "execution_count": 14,
   "id": "5dcf5cb1",
   "metadata": {
    "scrolled": false
   },
   "outputs": [],
   "source": [
    "path = r'E:\\4\\merge\\punch/'\n",
    "des = r'E:\\4\\merge\\punch_hv/'\n",
    "makedirs(des)\n",
    "\n",
    "# jpg_list = os.listdir(path)\n",
    "\n",
    "# for file in jpg_list:\n",
    "# #     print(file)\n",
    "#     data = path + file\n",
    "# #     print(data)\n",
    "#     image_tmp = Image.open(data).convert('RGB')\n",
    "#     des_data = des + file[:-4] + '.png'\n",
    "# #     print(des_data)\n",
    "#     image_tmp.save(des_data, 'png')\n",
    "# #     print()"
   ]
  },
  {
   "cell_type": "markdown",
   "id": "def30f3e",
   "metadata": {},
   "source": [
    "---"
   ]
  },
  {
   "cell_type": "code",
   "execution_count": 15,
   "id": "b8f1ffbf",
   "metadata": {},
   "outputs": [
    {
     "name": "stdout",
     "output_type": "stream",
     "text": [
      "['E:\\\\4\\\\merge\\\\punch\\\\punching_0.png', 'E:\\\\4\\\\merge\\\\punch\\\\punching_1.png', 'E:\\\\4\\\\merge\\\\punch\\\\punching_10.png', 'E:\\\\4\\\\merge\\\\punch\\\\punching_11.png', 'E:\\\\4\\\\merge\\\\punch\\\\punching_12.png', 'E:\\\\4\\\\merge\\\\punch\\\\punching_13.png', 'E:\\\\4\\\\merge\\\\punch\\\\punching_14.png', 'E:\\\\4\\\\merge\\\\punch\\\\punching_15.png', 'E:\\\\4\\\\merge\\\\punch\\\\punching_16.png', 'E:\\\\4\\\\merge\\\\punch\\\\punching_17.png', 'E:\\\\4\\\\merge\\\\punch\\\\punching_18.png', 'E:\\\\4\\\\merge\\\\punch\\\\punching_19.png', 'E:\\\\4\\\\merge\\\\punch\\\\punching_2.png', 'E:\\\\4\\\\merge\\\\punch\\\\punching_20.png', 'E:\\\\4\\\\merge\\\\punch\\\\punching_21.png', 'E:\\\\4\\\\merge\\\\punch\\\\punching_22.png', 'E:\\\\4\\\\merge\\\\punch\\\\punching_23.png', 'E:\\\\4\\\\merge\\\\punch\\\\punching_24.png', 'E:\\\\4\\\\merge\\\\punch\\\\punching_25.png', 'E:\\\\4\\\\merge\\\\punch\\\\punching_26.png', 'E:\\\\4\\\\merge\\\\punch\\\\punching_27.png', 'E:\\\\4\\\\merge\\\\punch\\\\punching_28.png', 'E:\\\\4\\\\merge\\\\punch\\\\punching_29.png', 'E:\\\\4\\\\merge\\\\punch\\\\punching_3.png', 'E:\\\\4\\\\merge\\\\punch\\\\punching_30.png', 'E:\\\\4\\\\merge\\\\punch\\\\punching_31.png', 'E:\\\\4\\\\merge\\\\punch\\\\punching_32.png', 'E:\\\\4\\\\merge\\\\punch\\\\punching_33.png', 'E:\\\\4\\\\merge\\\\punch\\\\punching_34.png', 'E:\\\\4\\\\merge\\\\punch\\\\punching_35.png', 'E:\\\\4\\\\merge\\\\punch\\\\punching_36.png', 'E:\\\\4\\\\merge\\\\punch\\\\punching_37.png', 'E:\\\\4\\\\merge\\\\punch\\\\punching_38.png', 'E:\\\\4\\\\merge\\\\punch\\\\punching_39.png', 'E:\\\\4\\\\merge\\\\punch\\\\punching_4.png', 'E:\\\\4\\\\merge\\\\punch\\\\punching_40.png', 'E:\\\\4\\\\merge\\\\punch\\\\punching_41.png', 'E:\\\\4\\\\merge\\\\punch\\\\punching_42.png', 'E:\\\\4\\\\merge\\\\punch\\\\punching_43.png', 'E:\\\\4\\\\merge\\\\punch\\\\punching_44.png', 'E:\\\\4\\\\merge\\\\punch\\\\punching_45.png', 'E:\\\\4\\\\merge\\\\punch\\\\punching_46.png', 'E:\\\\4\\\\merge\\\\punch\\\\punching_47.png', 'E:\\\\4\\\\merge\\\\punch\\\\punching_48.png', 'E:\\\\4\\\\merge\\\\punch\\\\punching_49.png', 'E:\\\\4\\\\merge\\\\punch\\\\punching_5.png', 'E:\\\\4\\\\merge\\\\punch\\\\punching_50.png', 'E:\\\\4\\\\merge\\\\punch\\\\punching_51.png', 'E:\\\\4\\\\merge\\\\punch\\\\punching_52.png', 'E:\\\\4\\\\merge\\\\punch\\\\punching_53.png', 'E:\\\\4\\\\merge\\\\punch\\\\punching_54.png', 'E:\\\\4\\\\merge\\\\punch\\\\punching_55.png', 'E:\\\\4\\\\merge\\\\punch\\\\punching_56.png', 'E:\\\\4\\\\merge\\\\punch\\\\punching_57.png', 'E:\\\\4\\\\merge\\\\punch\\\\punching_58.png', 'E:\\\\4\\\\merge\\\\punch\\\\punching_59.png', 'E:\\\\4\\\\merge\\\\punch\\\\punching_6.png', 'E:\\\\4\\\\merge\\\\punch\\\\punching_60.png', 'E:\\\\4\\\\merge\\\\punch\\\\punching_61.png', 'E:\\\\4\\\\merge\\\\punch\\\\punching_62.png', 'E:\\\\4\\\\merge\\\\punch\\\\punching_63.png', 'E:\\\\4\\\\merge\\\\punch\\\\punching_64.png', 'E:\\\\4\\\\merge\\\\punch\\\\punching_65.png', 'E:\\\\4\\\\merge\\\\punch\\\\punching_66.png', 'E:\\\\4\\\\merge\\\\punch\\\\punching_67.png', 'E:\\\\4\\\\merge\\\\punch\\\\punching_68.png', 'E:\\\\4\\\\merge\\\\punch\\\\punching_69.png', 'E:\\\\4\\\\merge\\\\punch\\\\punching_7.png', 'E:\\\\4\\\\merge\\\\punch\\\\punching_70.png', 'E:\\\\4\\\\merge\\\\punch\\\\punching_71.png', 'E:\\\\4\\\\merge\\\\punch\\\\punching_72.png', 'E:\\\\4\\\\merge\\\\punch\\\\punching_73.png', 'E:\\\\4\\\\merge\\\\punch\\\\punching_74.png', 'E:\\\\4\\\\merge\\\\punch\\\\punching_75.png', 'E:\\\\4\\\\merge\\\\punch\\\\punching_76.png', 'E:\\\\4\\\\merge\\\\punch\\\\punching_77.png', 'E:\\\\4\\\\merge\\\\punch\\\\punching_78.png', 'E:\\\\4\\\\merge\\\\punch\\\\punching_79.png', 'E:\\\\4\\\\merge\\\\punch\\\\punching_8.png', 'E:\\\\4\\\\merge\\\\punch\\\\punching_80.png', 'E:\\\\4\\\\merge\\\\punch\\\\punching_81.png', 'E:\\\\4\\\\merge\\\\punch\\\\punching_82.png', 'E:\\\\4\\\\merge\\\\punch\\\\punching_83.png', 'E:\\\\4\\\\merge\\\\punch\\\\punching_84.png', 'E:\\\\4\\\\merge\\\\punch\\\\punching_85.png', 'E:\\\\4\\\\merge\\\\punch\\\\punching_86.png', 'E:\\\\4\\\\merge\\\\punch\\\\punching_87.png', 'E:\\\\4\\\\merge\\\\punch\\\\punching_88.png', 'E:\\\\4\\\\merge\\\\punch\\\\punching_89.png', 'E:\\\\4\\\\merge\\\\punch\\\\punching_9.png', 'E:\\\\4\\\\merge\\\\punch\\\\punching_90.png', 'E:\\\\4\\\\merge\\\\punch\\\\punching_91.png', 'E:\\\\4\\\\merge\\\\punch\\\\punching_92.png', 'E:\\\\4\\\\merge\\\\punch\\\\punching_93.png', 'E:\\\\4\\\\merge\\\\punch\\\\punching_94.png', 'E:\\\\4\\\\merge\\\\punch\\\\punching_95.png', 'E:\\\\4\\\\merge\\\\punch\\\\punching_96.png', 'E:\\\\4\\\\merge\\\\punch\\\\punching_97.png', 'E:\\\\4\\\\merge\\\\punch\\\\punching_98.png', 'E:\\\\4\\\\merge\\\\punch\\\\punching_99.png']\n"
     ]
    }
   ],
   "source": [
    "file_list = glob(path + '*.png')\n",
    "\n",
    "print(file_list)"
   ]
  },
  {
   "cell_type": "code",
   "execution_count": 11,
   "id": "eaf32461",
   "metadata": {},
   "outputs": [],
   "source": [
    "def horizonal_flip(image, lines, name):\n",
    "    png_h = des + name + '_h.png'\n",
    "    txt_h = des + name + '_h.txt'\n",
    "    horizonal_flip_image = image.transpose(Image.FLIP_LEFT_RIGHT)\n",
    "    horizonal_flip_image.save(png_h)\n",
    "    \n",
    "    with open(txt_h, 'w') as f:\n",
    "        for line in lines:\n",
    "            target_list = list(line.split())\n",
    "            target_list[1] = str(1 - float(target_list[1]))\n",
    "            new_line = \" \".join(target_list)\n",
    "#             print(new_line)\n",
    "            f.write(new_line)\n",
    "\n",
    "def vertical_flip(image, lines, name):\n",
    "    png_v = des + name + '_v.png'\n",
    "    txt_v = des + name + '_v.txt'\n",
    "    vertical_flip_image = image.transpose(Image.FLIP_TOP_BOTTOM) \n",
    "    vertical_flip_image.save(png_v)\n",
    "    \n",
    "    with open(txt_v, 'w') as f:\n",
    "        for line in lines:\n",
    "            target_list = list(line.split())\n",
    "            target_list[2] = str(1 - float(target_list[2]))\n",
    "            new_line = \" \".join(target_list)\n",
    "#             print(new_line)\n",
    "            f.write(new_line)\n",
    "    \n",
    "def hv_flip(image, lines, name):\n",
    "    png_hv = des + name + '_hv.png'\n",
    "    txt_hv = des + name + '_hv.txt'\n",
    "    temp_flip_image = image.transpose(Image.FLIP_LEFT_RIGHT)\n",
    "    hv_flip_image = temp_flip_image.transpose(Image.FLIP_TOP_BOTTOM)\n",
    "    hv_flip_image.save(png_hv)\n",
    "    \n",
    "    with open(txt_hv, 'w') as f:\n",
    "        for line in lines:\n",
    "            target_list = list(line.split())\n",
    "            target_list[1] = str(1 - float(target_list[1]))\n",
    "            target_list[2] = str(1 - float(target_list[2]))\n",
    "            new_line = \" \".join(target_list)\n",
    "#             print(new_line)\n",
    "            f.write(new_line)"
   ]
  },
  {
   "cell_type": "markdown",
   "id": "9d1a3dfa",
   "metadata": {},
   "source": [
    "### file slicing 필요"
   ]
  },
  {
   "cell_type": "code",
   "execution_count": 18,
   "id": "bd238a45",
   "metadata": {
    "scrolled": false
   },
   "outputs": [
    {
     "name": "stderr",
     "output_type": "stream",
     "text": [
      "  0%|                                                                                          | 0/100 [00:00<?, ?it/s]C:\\Users\\jaehy\\AppData\\Local\\Temp\\ipykernel_23588\\3591357709.py:4: DeprecationWarning: FLIP_LEFT_RIGHT is deprecated and will be removed in Pillow 10 (2023-07-01). Use Transpose.FLIP_LEFT_RIGHT instead.\n",
      "  horizonal_flip_image = image.transpose(Image.FLIP_LEFT_RIGHT)\n"
     ]
    },
    {
     "name": "stdout",
     "output_type": "stream",
     "text": [
      "['E:\\\\4\\\\merge\\\\punch/punching_0.png', 'E:\\\\4\\\\merge\\\\punch/punching_0.txt']\n"
     ]
    },
    {
     "name": "stderr",
     "output_type": "stream",
     "text": [
      "C:\\Users\\jaehy\\AppData\\Local\\Temp\\ipykernel_23588\\3591357709.py:18: DeprecationWarning: FLIP_TOP_BOTTOM is deprecated and will be removed in Pillow 10 (2023-07-01). Use Transpose.FLIP_TOP_BOTTOM instead.\n",
      "  vertical_flip_image = image.transpose(Image.FLIP_TOP_BOTTOM)\n",
      "C:\\Users\\jaehy\\AppData\\Local\\Temp\\ipykernel_23588\\3591357709.py:32: DeprecationWarning: FLIP_LEFT_RIGHT is deprecated and will be removed in Pillow 10 (2023-07-01). Use Transpose.FLIP_LEFT_RIGHT instead.\n",
      "  temp_flip_image = image.transpose(Image.FLIP_LEFT_RIGHT)\n",
      "C:\\Users\\jaehy\\AppData\\Local\\Temp\\ipykernel_23588\\3591357709.py:33: DeprecationWarning: FLIP_TOP_BOTTOM is deprecated and will be removed in Pillow 10 (2023-07-01). Use Transpose.FLIP_TOP_BOTTOM instead.\n",
      "  hv_flip_image = temp_flip_image.transpose(Image.FLIP_TOP_BOTTOM)\n",
      "  1%|▊                                                                                 | 1/100 [00:01<02:43,  1.65s/it]"
     ]
    },
    {
     "name": "stdout",
     "output_type": "stream",
     "text": [
      "['E:\\\\4\\\\merge\\\\punch/punching_1.png', 'E:\\\\4\\\\merge\\\\punch/punching_1.txt']\n"
     ]
    },
    {
     "name": "stderr",
     "output_type": "stream",
     "text": [
      "\r",
      "  2%|█▋                                                                                | 2/100 [00:02<02:22,  1.45s/it]"
     ]
    },
    {
     "name": "stdout",
     "output_type": "stream",
     "text": [
      "['E:\\\\4\\\\merge\\\\punch/punching_10.png', 'E:\\\\4\\\\merge\\\\punch/punching_10.txt']\n"
     ]
    },
    {
     "name": "stderr",
     "output_type": "stream",
     "text": [
      "\r",
      "  3%|██▍                                                                               | 3/100 [00:14<09:45,  6.03s/it]"
     ]
    },
    {
     "name": "stdout",
     "output_type": "stream",
     "text": [
      "['E:\\\\4\\\\merge\\\\punch/punching_11.png', 'E:\\\\4\\\\merge\\\\punch/punching_11.txt']\n"
     ]
    },
    {
     "name": "stderr",
     "output_type": "stream",
     "text": [
      "\r",
      "  4%|███▎                                                                              | 4/100 [00:26<13:09,  8.22s/it]"
     ]
    },
    {
     "name": "stdout",
     "output_type": "stream",
     "text": [
      "['E:\\\\4\\\\merge\\\\punch/punching_12.png', 'E:\\\\4\\\\merge\\\\punch/punching_12.txt']\n"
     ]
    },
    {
     "name": "stderr",
     "output_type": "stream",
     "text": [
      "\r",
      "  5%|████                                                                              | 5/100 [00:38<15:34,  9.84s/it]"
     ]
    },
    {
     "name": "stdout",
     "output_type": "stream",
     "text": [
      "['E:\\\\4\\\\merge\\\\punch/punching_13.png', 'E:\\\\4\\\\merge\\\\punch/punching_13.txt']\n"
     ]
    },
    {
     "name": "stderr",
     "output_type": "stream",
     "text": [
      "\r",
      "  6%|████▉                                                                             | 6/100 [00:51<16:55, 10.80s/it]"
     ]
    },
    {
     "name": "stdout",
     "output_type": "stream",
     "text": [
      "['E:\\\\4\\\\merge\\\\punch/punching_14.png', 'E:\\\\4\\\\merge\\\\punch/punching_14.txt']\n"
     ]
    },
    {
     "name": "stderr",
     "output_type": "stream",
     "text": [
      "\r",
      "  7%|█████▋                                                                            | 7/100 [01:03<17:11, 11.09s/it]"
     ]
    },
    {
     "name": "stdout",
     "output_type": "stream",
     "text": [
      "['E:\\\\4\\\\merge\\\\punch/punching_15.png', 'E:\\\\4\\\\merge\\\\punch/punching_15.txt']\n"
     ]
    },
    {
     "name": "stderr",
     "output_type": "stream",
     "text": [
      "\r",
      "  8%|██████▌                                                                           | 8/100 [01:14<17:17, 11.28s/it]"
     ]
    },
    {
     "name": "stdout",
     "output_type": "stream",
     "text": [
      "['E:\\\\4\\\\merge\\\\punch/punching_16.png', 'E:\\\\4\\\\merge\\\\punch/punching_16.txt']\n"
     ]
    },
    {
     "name": "stderr",
     "output_type": "stream",
     "text": [
      "\r",
      "  9%|███████▍                                                                          | 9/100 [01:25<16:40, 10.99s/it]"
     ]
    },
    {
     "name": "stdout",
     "output_type": "stream",
     "text": [
      "['E:\\\\4\\\\merge\\\\punch/punching_17.png', 'E:\\\\4\\\\merge\\\\punch/punching_17.txt']\n"
     ]
    },
    {
     "name": "stderr",
     "output_type": "stream",
     "text": [
      "\r",
      " 10%|████████                                                                         | 10/100 [01:35<16:12, 10.81s/it]"
     ]
    },
    {
     "name": "stdout",
     "output_type": "stream",
     "text": [
      "['E:\\\\4\\\\merge\\\\punch/punching_18.png', 'E:\\\\4\\\\merge\\\\punch/punching_18.txt']\n"
     ]
    },
    {
     "name": "stderr",
     "output_type": "stream",
     "text": [
      "\r",
      " 11%|████████▉                                                                        | 11/100 [01:47<16:25, 11.07s/it]"
     ]
    },
    {
     "name": "stdout",
     "output_type": "stream",
     "text": [
      "['E:\\\\4\\\\merge\\\\punch/punching_19.png', 'E:\\\\4\\\\merge\\\\punch/punching_19.txt']\n"
     ]
    },
    {
     "name": "stderr",
     "output_type": "stream",
     "text": [
      "\r",
      " 12%|█████████▋                                                                       | 12/100 [01:58<16:22, 11.17s/it]"
     ]
    },
    {
     "name": "stdout",
     "output_type": "stream",
     "text": [
      "['E:\\\\4\\\\merge\\\\punch/punching_2.png', 'E:\\\\4\\\\merge\\\\punch/punching_2.txt']\n"
     ]
    },
    {
     "name": "stderr",
     "output_type": "stream",
     "text": [
      "\r",
      " 13%|██████████▌                                                                      | 13/100 [01:59<11:50,  8.16s/it]"
     ]
    },
    {
     "name": "stdout",
     "output_type": "stream",
     "text": [
      "['E:\\\\4\\\\merge\\\\punch/punching_20.png', 'E:\\\\4\\\\merge\\\\punch/punching_20.txt']\n"
     ]
    },
    {
     "name": "stderr",
     "output_type": "stream",
     "text": [
      "\r",
      " 14%|███████████▎                                                                     | 14/100 [02:12<13:47,  9.62s/it]"
     ]
    },
    {
     "name": "stdout",
     "output_type": "stream",
     "text": [
      "['E:\\\\4\\\\merge\\\\punch/punching_21.png', 'E:\\\\4\\\\merge\\\\punch/punching_21.txt']\n"
     ]
    },
    {
     "name": "stderr",
     "output_type": "stream",
     "text": [
      "\r",
      " 15%|████████████▏                                                                    | 15/100 [02:25<14:59, 10.59s/it]"
     ]
    },
    {
     "name": "stdout",
     "output_type": "stream",
     "text": [
      "['E:\\\\4\\\\merge\\\\punch/punching_22.png', 'E:\\\\4\\\\merge\\\\punch/punching_22.txt']\n"
     ]
    },
    {
     "name": "stderr",
     "output_type": "stream",
     "text": [
      "\r",
      " 16%|████████████▉                                                                    | 16/100 [02:26<10:47,  7.71s/it]"
     ]
    },
    {
     "name": "stdout",
     "output_type": "stream",
     "text": [
      "['E:\\\\4\\\\merge\\\\punch/punching_23.png', 'E:\\\\4\\\\merge\\\\punch/punching_23.txt']\n"
     ]
    },
    {
     "name": "stderr",
     "output_type": "stream",
     "text": [
      "\r",
      " 17%|█████████████▊                                                                   | 17/100 [02:27<07:55,  5.73s/it]"
     ]
    },
    {
     "name": "stdout",
     "output_type": "stream",
     "text": [
      "['E:\\\\4\\\\merge\\\\punch/punching_24.png', 'E:\\\\4\\\\merge\\\\punch/punching_24.txt']\n"
     ]
    },
    {
     "name": "stderr",
     "output_type": "stream",
     "text": [
      "\r",
      " 18%|██████████████▌                                                                  | 18/100 [02:28<05:54,  4.33s/it]"
     ]
    },
    {
     "name": "stdout",
     "output_type": "stream",
     "text": [
      "['E:\\\\4\\\\merge\\\\punch/punching_25.png', 'E:\\\\4\\\\merge\\\\punch/punching_25.txt']\n"
     ]
    },
    {
     "name": "stderr",
     "output_type": "stream",
     "text": [
      "\r",
      " 19%|███████████████▍                                                                 | 19/100 [02:33<06:05,  4.52s/it]"
     ]
    },
    {
     "name": "stdout",
     "output_type": "stream",
     "text": [
      "['E:\\\\4\\\\merge\\\\punch/punching_26.png', 'E:\\\\4\\\\merge\\\\punch/punching_26.txt']\n"
     ]
    },
    {
     "name": "stderr",
     "output_type": "stream",
     "text": [
      "\r",
      " 20%|████████████████▏                                                                | 20/100 [02:41<07:24,  5.56s/it]"
     ]
    },
    {
     "name": "stdout",
     "output_type": "stream",
     "text": [
      "['E:\\\\4\\\\merge\\\\punch/punching_27.png', 'E:\\\\4\\\\merge\\\\punch/punching_27.txt']\n"
     ]
    },
    {
     "name": "stderr",
     "output_type": "stream",
     "text": [
      "\r",
      " 21%|█████████████████                                                                | 21/100 [02:51<09:08,  6.95s/it]"
     ]
    },
    {
     "name": "stdout",
     "output_type": "stream",
     "text": [
      "['E:\\\\4\\\\merge\\\\punch/punching_28.png', 'E:\\\\4\\\\merge\\\\punch/punching_28.txt']\n"
     ]
    },
    {
     "name": "stderr",
     "output_type": "stream",
     "text": [
      "\r",
      " 22%|█████████████████▊                                                               | 22/100 [03:02<10:16,  7.90s/it]"
     ]
    },
    {
     "name": "stdout",
     "output_type": "stream",
     "text": [
      "['E:\\\\4\\\\merge\\\\punch/punching_29.png', 'E:\\\\4\\\\merge\\\\punch/punching_29.txt']\n"
     ]
    },
    {
     "name": "stderr",
     "output_type": "stream",
     "text": [
      "\r",
      " 23%|██████████████████▋                                                              | 23/100 [03:12<11:00,  8.58s/it]"
     ]
    },
    {
     "name": "stdout",
     "output_type": "stream",
     "text": [
      "['E:\\\\4\\\\merge\\\\punch/punching_3.png', 'E:\\\\4\\\\merge\\\\punch/punching_3.txt']\n"
     ]
    },
    {
     "name": "stderr",
     "output_type": "stream",
     "text": [
      "\r",
      " 24%|███████████████████▍                                                             | 24/100 [03:13<08:02,  6.35s/it]"
     ]
    },
    {
     "name": "stdout",
     "output_type": "stream",
     "text": [
      "['E:\\\\4\\\\merge\\\\punch/punching_30.png', 'E:\\\\4\\\\merge\\\\punch/punching_30.txt']\n"
     ]
    },
    {
     "name": "stderr",
     "output_type": "stream",
     "text": [
      "\r",
      " 25%|████████████████████▎                                                            | 25/100 [03:23<09:22,  7.51s/it]"
     ]
    },
    {
     "name": "stdout",
     "output_type": "stream",
     "text": [
      "['E:\\\\4\\\\merge\\\\punch/punching_31.png', 'E:\\\\4\\\\merge\\\\punch/punching_31.txt']\n"
     ]
    },
    {
     "name": "stderr",
     "output_type": "stream",
     "text": [
      "\r",
      " 26%|█████████████████████                                                            | 26/100 [03:37<11:36,  9.41s/it]"
     ]
    },
    {
     "name": "stdout",
     "output_type": "stream",
     "text": [
      "['E:\\\\4\\\\merge\\\\punch/punching_32.png', 'E:\\\\4\\\\merge\\\\punch/punching_32.txt']\n"
     ]
    },
    {
     "name": "stderr",
     "output_type": "stream",
     "text": [
      "\r",
      " 27%|█████████████████████▊                                                           | 27/100 [03:52<13:19, 10.95s/it]"
     ]
    },
    {
     "name": "stdout",
     "output_type": "stream",
     "text": [
      "['E:\\\\4\\\\merge\\\\punch/punching_33.png', 'E:\\\\4\\\\merge\\\\punch/punching_33.txt']\n"
     ]
    },
    {
     "name": "stderr",
     "output_type": "stream",
     "text": [
      "\r",
      " 28%|██████████████████████▋                                                          | 28/100 [04:06<14:25, 12.03s/it]"
     ]
    },
    {
     "name": "stdout",
     "output_type": "stream",
     "text": [
      "['E:\\\\4\\\\merge\\\\punch/punching_34.png', 'E:\\\\4\\\\merge\\\\punch/punching_34.txt']\n"
     ]
    },
    {
     "name": "stderr",
     "output_type": "stream",
     "text": [
      "\r",
      " 29%|███████████████████████▍                                                         | 29/100 [04:17<13:50, 11.69s/it]"
     ]
    },
    {
     "name": "stdout",
     "output_type": "stream",
     "text": [
      "['E:\\\\4\\\\merge\\\\punch/punching_35.png', 'E:\\\\4\\\\merge\\\\punch/punching_35.txt']\n"
     ]
    },
    {
     "name": "stderr",
     "output_type": "stream",
     "text": [
      "\r",
      " 30%|████████████████████████▎                                                        | 30/100 [04:28<13:17, 11.39s/it]"
     ]
    },
    {
     "name": "stdout",
     "output_type": "stream",
     "text": [
      "['E:\\\\4\\\\merge\\\\punch/punching_36.png', 'E:\\\\4\\\\merge\\\\punch/punching_36.txt']\n"
     ]
    },
    {
     "name": "stderr",
     "output_type": "stream",
     "text": [
      "\r",
      " 31%|█████████████████████████                                                        | 31/100 [04:39<12:58, 11.28s/it]"
     ]
    },
    {
     "name": "stdout",
     "output_type": "stream",
     "text": [
      "['E:\\\\4\\\\merge\\\\punch/punching_37.png', 'E:\\\\4\\\\merge\\\\punch/punching_37.txt']\n"
     ]
    },
    {
     "name": "stderr",
     "output_type": "stream",
     "text": [
      "\r",
      " 32%|█████████████████████████▉                                                       | 32/100 [04:50<12:40, 11.19s/it]"
     ]
    },
    {
     "name": "stdout",
     "output_type": "stream",
     "text": [
      "['E:\\\\4\\\\merge\\\\punch/punching_38.png', 'E:\\\\4\\\\merge\\\\punch/punching_38.txt']\n"
     ]
    },
    {
     "name": "stderr",
     "output_type": "stream",
     "text": [
      "\r",
      " 33%|██████████████████████████▋                                                      | 33/100 [05:01<12:24, 11.12s/it]"
     ]
    },
    {
     "name": "stdout",
     "output_type": "stream",
     "text": [
      "['E:\\\\4\\\\merge\\\\punch/punching_39.png', 'E:\\\\4\\\\merge\\\\punch/punching_39.txt']\n"
     ]
    },
    {
     "name": "stderr",
     "output_type": "stream",
     "text": [
      "\r",
      " 34%|███████████████████████████▌                                                     | 34/100 [05:12<12:10, 11.06s/it]"
     ]
    },
    {
     "name": "stdout",
     "output_type": "stream",
     "text": [
      "['E:\\\\4\\\\merge\\\\punch/punching_4.png', 'E:\\\\4\\\\merge\\\\punch/punching_4.txt']\n"
     ]
    },
    {
     "name": "stderr",
     "output_type": "stream",
     "text": [
      "\r",
      " 35%|████████████████████████████▎                                                    | 35/100 [05:23<12:01, 11.09s/it]"
     ]
    },
    {
     "name": "stdout",
     "output_type": "stream",
     "text": [
      "['E:\\\\4\\\\merge\\\\punch/punching_40.png', 'E:\\\\4\\\\merge\\\\punch/punching_40.txt']\n"
     ]
    },
    {
     "name": "stderr",
     "output_type": "stream",
     "text": [
      "\r",
      " 36%|█████████████████████████████▏                                                   | 36/100 [05:35<12:05, 11.33s/it]"
     ]
    },
    {
     "name": "stdout",
     "output_type": "stream",
     "text": [
      "['E:\\\\4\\\\merge\\\\punch/punching_41.png', 'E:\\\\4\\\\merge\\\\punch/punching_41.txt']\n"
     ]
    },
    {
     "name": "stderr",
     "output_type": "stream",
     "text": [
      "\r",
      " 37%|█████████████████████████████▉                                                   | 37/100 [05:47<12:07, 11.55s/it]"
     ]
    },
    {
     "name": "stdout",
     "output_type": "stream",
     "text": [
      "['E:\\\\4\\\\merge\\\\punch/punching_42.png', 'E:\\\\4\\\\merge\\\\punch/punching_42.txt']\n"
     ]
    },
    {
     "name": "stderr",
     "output_type": "stream",
     "text": [
      "\r",
      " 38%|██████████████████████████████▊                                                  | 38/100 [05:59<12:12, 11.82s/it]"
     ]
    },
    {
     "name": "stdout",
     "output_type": "stream",
     "text": [
      "['E:\\\\4\\\\merge\\\\punch/punching_43.png', 'E:\\\\4\\\\merge\\\\punch/punching_43.txt']\n"
     ]
    },
    {
     "name": "stderr",
     "output_type": "stream",
     "text": [
      "\r",
      " 39%|███████████████████████████████▌                                                 | 39/100 [06:12<12:13, 12.02s/it]"
     ]
    },
    {
     "name": "stdout",
     "output_type": "stream",
     "text": [
      "['E:\\\\4\\\\merge\\\\punch/punching_44.png', 'E:\\\\4\\\\merge\\\\punch/punching_44.txt']\n"
     ]
    },
    {
     "name": "stderr",
     "output_type": "stream",
     "text": [
      "\r",
      " 40%|████████████████████████████████▍                                                | 40/100 [06:24<12:03, 12.07s/it]"
     ]
    },
    {
     "name": "stdout",
     "output_type": "stream",
     "text": [
      "['E:\\\\4\\\\merge\\\\punch/punching_45.png', 'E:\\\\4\\\\merge\\\\punch/punching_45.txt']\n"
     ]
    },
    {
     "name": "stderr",
     "output_type": "stream",
     "text": [
      "\r",
      " 41%|█████████████████████████████████▏                                               | 41/100 [06:32<10:43, 10.91s/it]"
     ]
    },
    {
     "name": "stdout",
     "output_type": "stream",
     "text": [
      "['E:\\\\4\\\\merge\\\\punch/punching_46.png', 'E:\\\\4\\\\merge\\\\punch/punching_46.txt']\n"
     ]
    },
    {
     "name": "stderr",
     "output_type": "stream",
     "text": [
      "\r",
      " 42%|██████████████████████████████████                                               | 42/100 [06:44<10:58, 11.35s/it]"
     ]
    },
    {
     "name": "stdout",
     "output_type": "stream",
     "text": [
      "['E:\\\\4\\\\merge\\\\punch/punching_47.png', 'E:\\\\4\\\\merge\\\\punch/punching_47.txt']\n"
     ]
    },
    {
     "name": "stderr",
     "output_type": "stream",
     "text": [
      "\r",
      " 43%|██████████████████████████████████▊                                              | 43/100 [06:57<11:04, 11.65s/it]"
     ]
    },
    {
     "name": "stdout",
     "output_type": "stream",
     "text": [
      "['E:\\\\4\\\\merge\\\\punch/punching_48.png', 'E:\\\\4\\\\merge\\\\punch/punching_48.txt']\n"
     ]
    },
    {
     "name": "stderr",
     "output_type": "stream",
     "text": [
      "\r",
      " 44%|███████████████████████████████████▋                                             | 44/100 [07:09<11:05, 11.89s/it]"
     ]
    },
    {
     "name": "stdout",
     "output_type": "stream",
     "text": [
      "['E:\\\\4\\\\merge\\\\punch/punching_49.png', 'E:\\\\4\\\\merge\\\\punch/punching_49.txt']\n"
     ]
    },
    {
     "name": "stderr",
     "output_type": "stream",
     "text": [
      "\r",
      " 45%|████████████████████████████████████▍                                            | 45/100 [07:20<10:29, 11.45s/it]"
     ]
    },
    {
     "name": "stdout",
     "output_type": "stream",
     "text": [
      "['E:\\\\4\\\\merge\\\\punch/punching_5.png', 'E:\\\\4\\\\merge\\\\punch/punching_5.txt']\n"
     ]
    },
    {
     "name": "stderr",
     "output_type": "stream",
     "text": [
      "\r",
      " 46%|█████████████████████████████████████▎                                           | 46/100 [07:31<10:16, 11.42s/it]"
     ]
    },
    {
     "name": "stdout",
     "output_type": "stream",
     "text": [
      "['E:\\\\4\\\\merge\\\\punch/punching_50.png', 'E:\\\\4\\\\merge\\\\punch/punching_50.txt']\n"
     ]
    },
    {
     "name": "stderr",
     "output_type": "stream",
     "text": [
      "\r",
      " 47%|██████████████████████████████████████                                           | 47/100 [07:42<09:54, 11.22s/it]"
     ]
    },
    {
     "name": "stdout",
     "output_type": "stream",
     "text": [
      "['E:\\\\4\\\\merge\\\\punch/punching_51.png', 'E:\\\\4\\\\merge\\\\punch/punching_51.txt']\n"
     ]
    },
    {
     "name": "stderr",
     "output_type": "stream",
     "text": [
      "\r",
      " 48%|██████████████████████████████████████▉                                          | 48/100 [07:52<09:32, 11.01s/it]"
     ]
    },
    {
     "name": "stdout",
     "output_type": "stream",
     "text": [
      "['E:\\\\4\\\\merge\\\\punch/punching_52.png', 'E:\\\\4\\\\merge\\\\punch/punching_52.txt']\n"
     ]
    },
    {
     "name": "stderr",
     "output_type": "stream",
     "text": [
      "\r",
      " 49%|███████████████████████████████████████▋                                         | 49/100 [08:03<09:15, 10.88s/it]"
     ]
    },
    {
     "name": "stdout",
     "output_type": "stream",
     "text": [
      "['E:\\\\4\\\\merge\\\\punch/punching_53.png', 'E:\\\\4\\\\merge\\\\punch/punching_53.txt']\n"
     ]
    },
    {
     "name": "stderr",
     "output_type": "stream",
     "text": [
      "\r",
      " 50%|████████████████████████████████████████▌                                        | 50/100 [08:14<09:05, 10.91s/it]"
     ]
    },
    {
     "name": "stdout",
     "output_type": "stream",
     "text": [
      "['E:\\\\4\\\\merge\\\\punch/punching_54.png', 'E:\\\\4\\\\merge\\\\punch/punching_54.txt']\n"
     ]
    },
    {
     "name": "stderr",
     "output_type": "stream",
     "text": [
      "\r",
      " 51%|█████████████████████████████████████████▎                                       | 51/100 [08:25<08:56, 10.94s/it]"
     ]
    },
    {
     "name": "stdout",
     "output_type": "stream",
     "text": [
      "['E:\\\\4\\\\merge\\\\punch/punching_55.png', 'E:\\\\4\\\\merge\\\\punch/punching_55.txt']\n"
     ]
    },
    {
     "name": "stderr",
     "output_type": "stream",
     "text": [
      "\r",
      " 52%|██████████████████████████████████████████                                       | 52/100 [08:36<08:42, 10.88s/it]"
     ]
    },
    {
     "name": "stdout",
     "output_type": "stream",
     "text": [
      "['E:\\\\4\\\\merge\\\\punch/punching_56.png', 'E:\\\\4\\\\merge\\\\punch/punching_56.txt']\n"
     ]
    },
    {
     "name": "stderr",
     "output_type": "stream",
     "text": [
      "\r",
      " 53%|██████████████████████████████████████████▉                                      | 53/100 [08:44<07:54, 10.10s/it]"
     ]
    },
    {
     "name": "stdout",
     "output_type": "stream",
     "text": [
      "['E:\\\\4\\\\merge\\\\punch/punching_57.png', 'E:\\\\4\\\\merge\\\\punch/punching_57.txt']\n"
     ]
    },
    {
     "name": "stderr",
     "output_type": "stream",
     "text": [
      "\r",
      " 54%|███████████████████████████████████████████▋                                     | 54/100 [08:54<07:50, 10.24s/it]"
     ]
    },
    {
     "name": "stdout",
     "output_type": "stream",
     "text": [
      "['E:\\\\4\\\\merge\\\\punch/punching_58.png', 'E:\\\\4\\\\merge\\\\punch/punching_58.txt']\n"
     ]
    },
    {
     "name": "stderr",
     "output_type": "stream",
     "text": [
      "\r",
      " 55%|████████████████████████████████████████████▌                                    | 55/100 [09:05<07:46, 10.37s/it]"
     ]
    },
    {
     "name": "stdout",
     "output_type": "stream",
     "text": [
      "['E:\\\\4\\\\merge\\\\punch/punching_59.png', 'E:\\\\4\\\\merge\\\\punch/punching_59.txt']\n"
     ]
    },
    {
     "name": "stderr",
     "output_type": "stream",
     "text": [
      "\r",
      " 56%|█████████████████████████████████████████████▎                                   | 56/100 [09:16<07:40, 10.46s/it]"
     ]
    },
    {
     "name": "stdout",
     "output_type": "stream",
     "text": [
      "['E:\\\\4\\\\merge\\\\punch/punching_6.png', 'E:\\\\4\\\\merge\\\\punch/punching_6.txt']\n"
     ]
    },
    {
     "name": "stderr",
     "output_type": "stream",
     "text": [
      "\r",
      " 57%|██████████████████████████████████████████████▏                                  | 57/100 [09:27<07:42, 10.75s/it]"
     ]
    },
    {
     "name": "stdout",
     "output_type": "stream",
     "text": [
      "['E:\\\\4\\\\merge\\\\punch/punching_60.png', 'E:\\\\4\\\\merge\\\\punch/punching_60.txt']\n"
     ]
    },
    {
     "name": "stderr",
     "output_type": "stream",
     "text": [
      "\r",
      " 58%|██████████████████████████████████████████████▉                                  | 58/100 [09:38<07:27, 10.65s/it]"
     ]
    },
    {
     "name": "stdout",
     "output_type": "stream",
     "text": [
      "['E:\\\\4\\\\merge\\\\punch/punching_61.png', 'E:\\\\4\\\\merge\\\\punch/punching_61.txt']\n"
     ]
    },
    {
     "name": "stderr",
     "output_type": "stream",
     "text": [
      "\r",
      " 59%|███████████████████████████████████████████████▊                                 | 59/100 [09:48<07:16, 10.64s/it]"
     ]
    },
    {
     "name": "stdout",
     "output_type": "stream",
     "text": [
      "['E:\\\\4\\\\merge\\\\punch/punching_62.png', 'E:\\\\4\\\\merge\\\\punch/punching_62.txt']\n"
     ]
    },
    {
     "name": "stderr",
     "output_type": "stream",
     "text": [
      "\r",
      " 60%|████████████████████████████████████████████████▌                                | 60/100 [09:59<07:04, 10.60s/it]"
     ]
    },
    {
     "name": "stdout",
     "output_type": "stream",
     "text": [
      "['E:\\\\4\\\\merge\\\\punch/punching_63.png', 'E:\\\\4\\\\merge\\\\punch/punching_63.txt']\n"
     ]
    },
    {
     "name": "stderr",
     "output_type": "stream",
     "text": [
      "\r",
      " 61%|█████████████████████████████████████████████████▍                               | 61/100 [10:07<06:28,  9.95s/it]"
     ]
    },
    {
     "name": "stdout",
     "output_type": "stream",
     "text": [
      "['E:\\\\4\\\\merge\\\\punch/punching_64.png', 'E:\\\\4\\\\merge\\\\punch/punching_64.txt']\n"
     ]
    },
    {
     "name": "stderr",
     "output_type": "stream",
     "text": [
      "\r",
      " 62%|██████████████████████████████████████████████████▏                              | 62/100 [10:18<06:32, 10.33s/it]"
     ]
    },
    {
     "name": "stdout",
     "output_type": "stream",
     "text": [
      "['E:\\\\4\\\\merge\\\\punch/punching_65.png', 'E:\\\\4\\\\merge\\\\punch/punching_65.txt']\n"
     ]
    },
    {
     "name": "stderr",
     "output_type": "stream",
     "text": [
      "\r",
      " 63%|███████████████████████████████████████████████████                              | 63/100 [10:29<06:28, 10.49s/it]"
     ]
    },
    {
     "name": "stdout",
     "output_type": "stream",
     "text": [
      "['E:\\\\4\\\\merge\\\\punch/punching_66.png', 'E:\\\\4\\\\merge\\\\punch/punching_66.txt']\n"
     ]
    },
    {
     "name": "stderr",
     "output_type": "stream",
     "text": [
      "\r",
      " 64%|███████████████████████████████████████████████████▊                             | 64/100 [10:39<06:14, 10.39s/it]"
     ]
    },
    {
     "name": "stdout",
     "output_type": "stream",
     "text": [
      "['E:\\\\4\\\\merge\\\\punch/punching_67.png', 'E:\\\\4\\\\merge\\\\punch/punching_67.txt']\n"
     ]
    },
    {
     "name": "stderr",
     "output_type": "stream",
     "text": [
      " 66%|█████████████████████████████████████████████████████▍                           | 66/100 [10:40<02:56,  5.20s/it]"
     ]
    },
    {
     "name": "stdout",
     "output_type": "stream",
     "text": [
      "['E:\\\\4\\\\merge\\\\punch/punching_68.png', 'E:\\\\4\\\\merge\\\\punch/punching_68.txt']\n"
     ]
    },
    {
     "name": "stderr",
     "output_type": "stream",
     "text": [
      "\r",
      " 67%|██████████████████████████████████████████████████████▎                          | 67/100 [10:40<02:01,  3.69s/it]"
     ]
    },
    {
     "name": "stdout",
     "output_type": "stream",
     "text": [
      "['E:\\\\4\\\\merge\\\\punch/punching_69.png', 'E:\\\\4\\\\merge\\\\punch/punching_69.txt']\n",
      "['E:\\\\4\\\\merge\\\\punch/punching_7.png', 'E:\\\\4\\\\merge\\\\punch/punching_7.txt']\n"
     ]
    },
    {
     "name": "stderr",
     "output_type": "stream",
     "text": [
      "\r",
      " 68%|███████████████████████████████████████████████████████                          | 68/100 [10:51<03:10,  5.95s/it]"
     ]
    },
    {
     "name": "stdout",
     "output_type": "stream",
     "text": [
      "['E:\\\\4\\\\merge\\\\punch/punching_70.png', 'E:\\\\4\\\\merge\\\\punch/punching_70.txt']\n"
     ]
    },
    {
     "name": "stderr",
     "output_type": "stream",
     "text": [
      "\r",
      " 69%|███████████████████████████████████████████████████████▉                         | 69/100 [10:51<02:11,  4.23s/it]"
     ]
    },
    {
     "name": "stdout",
     "output_type": "stream",
     "text": [
      "['E:\\\\4\\\\merge\\\\punch/punching_71.png', 'E:\\\\4\\\\merge\\\\punch/punching_71.txt']\n"
     ]
    },
    {
     "name": "stderr",
     "output_type": "stream",
     "text": [
      "\r",
      " 70%|████████████████████████████████████████████████████████▋                        | 70/100 [10:52<01:31,  3.04s/it]"
     ]
    },
    {
     "name": "stdout",
     "output_type": "stream",
     "text": [
      "['E:\\\\4\\\\merge\\\\punch/punching_72.png', 'E:\\\\4\\\\merge\\\\punch/punching_72.txt']\n"
     ]
    },
    {
     "name": "stderr",
     "output_type": "stream",
     "text": [
      "\r",
      " 71%|█████████████████████████████████████████████████████████▌                       | 71/100 [10:52<01:04,  2.22s/it]"
     ]
    },
    {
     "name": "stdout",
     "output_type": "stream",
     "text": [
      "['E:\\\\4\\\\merge\\\\punch/punching_73.png', 'E:\\\\4\\\\merge\\\\punch/punching_73.txt']\n"
     ]
    },
    {
     "name": "stderr",
     "output_type": "stream",
     "text": [
      " 73%|███████████████████████████████████████████████████████████▏                     | 73/100 [10:52<00:32,  1.20s/it]"
     ]
    },
    {
     "name": "stdout",
     "output_type": "stream",
     "text": [
      "['E:\\\\4\\\\merge\\\\punch/punching_74.png', 'E:\\\\4\\\\merge\\\\punch/punching_74.txt']\n",
      "['E:\\\\4\\\\merge\\\\punch/punching_75.png', 'E:\\\\4\\\\merge\\\\punch/punching_75.txt']\n"
     ]
    },
    {
     "name": "stderr",
     "output_type": "stream",
     "text": [
      "\r",
      " 74%|███████████████████████████████████████████████████████████▉                     | 74/100 [10:53<00:28,  1.11s/it]"
     ]
    },
    {
     "name": "stdout",
     "output_type": "stream",
     "text": [
      "['E:\\\\4\\\\merge\\\\punch/punching_76.png', 'E:\\\\4\\\\merge\\\\punch/punching_76.txt']\n"
     ]
    },
    {
     "name": "stderr",
     "output_type": "stream",
     "text": [
      "\r",
      " 75%|████████████████████████████████████████████████████████████▊                    | 75/100 [10:54<00:27,  1.10s/it]"
     ]
    },
    {
     "name": "stdout",
     "output_type": "stream",
     "text": [
      "['E:\\\\4\\\\merge\\\\punch/punching_77.png', 'E:\\\\4\\\\merge\\\\punch/punching_77.txt']\n"
     ]
    },
    {
     "name": "stderr",
     "output_type": "stream",
     "text": [
      "\r",
      " 76%|█████████████████████████████████████████████████████████████▌                   | 76/100 [10:55<00:21,  1.13it/s]"
     ]
    },
    {
     "name": "stdout",
     "output_type": "stream",
     "text": [
      "['E:\\\\4\\\\merge\\\\punch/punching_78.png', 'E:\\\\4\\\\merge\\\\punch/punching_78.txt']\n"
     ]
    },
    {
     "name": "stderr",
     "output_type": "stream",
     "text": [
      "\r",
      " 77%|██████████████████████████████████████████████████████████████▎                  | 77/100 [10:55<00:17,  1.32it/s]"
     ]
    },
    {
     "name": "stdout",
     "output_type": "stream",
     "text": [
      "['E:\\\\4\\\\merge\\\\punch/punching_79.png', 'E:\\\\4\\\\merge\\\\punch/punching_79.txt']\n"
     ]
    },
    {
     "name": "stderr",
     "output_type": "stream",
     "text": [
      "\r",
      " 78%|███████████████████████████████████████████████████████████████▏                 | 78/100 [10:56<00:13,  1.65it/s]"
     ]
    },
    {
     "name": "stdout",
     "output_type": "stream",
     "text": [
      "['E:\\\\4\\\\merge\\\\punch/punching_8.png', 'E:\\\\4\\\\merge\\\\punch/punching_8.txt']\n"
     ]
    },
    {
     "name": "stderr",
     "output_type": "stream",
     "text": [
      "\r",
      " 79%|███████████████████████████████████████████████████████████████▉                 | 79/100 [11:08<01:28,  4.23s/it]"
     ]
    },
    {
     "name": "stdout",
     "output_type": "stream",
     "text": [
      "['E:\\\\4\\\\merge\\\\punch/punching_80.png', 'E:\\\\4\\\\merge\\\\punch/punching_80.txt']\n"
     ]
    },
    {
     "name": "stderr",
     "output_type": "stream",
     "text": [
      "\r",
      " 80%|████████████████████████████████████████████████████████████████▊                | 80/100 [11:09<01:01,  3.09s/it]"
     ]
    },
    {
     "name": "stdout",
     "output_type": "stream",
     "text": [
      "['E:\\\\4\\\\merge\\\\punch/punching_81.png', 'E:\\\\4\\\\merge\\\\punch/punching_81.txt']\n"
     ]
    },
    {
     "name": "stderr",
     "output_type": "stream",
     "text": [
      "\r",
      " 81%|█████████████████████████████████████████████████████████████████▌               | 81/100 [11:09<00:45,  2.42s/it]"
     ]
    },
    {
     "name": "stdout",
     "output_type": "stream",
     "text": [
      "['E:\\\\4\\\\merge\\\\punch/punching_82.png', 'E:\\\\4\\\\merge\\\\punch/punching_82.txt']\n"
     ]
    },
    {
     "name": "stderr",
     "output_type": "stream",
     "text": [
      "\r",
      " 82%|██████████████████████████████████████████████████████████████████▍              | 82/100 [11:10<00:32,  1.78s/it]"
     ]
    },
    {
     "name": "stdout",
     "output_type": "stream",
     "text": [
      "['E:\\\\4\\\\merge\\\\punch/punching_83.png', 'E:\\\\4\\\\merge\\\\punch/punching_83.txt']\n"
     ]
    },
    {
     "name": "stderr",
     "output_type": "stream",
     "text": [
      "\r",
      " 83%|███████████████████████████████████████████████████████████████████▏             | 83/100 [11:10<00:24,  1.42s/it]"
     ]
    },
    {
     "name": "stdout",
     "output_type": "stream",
     "text": [
      "['E:\\\\4\\\\merge\\\\punch/punching_84.png', 'E:\\\\4\\\\merge\\\\punch/punching_84.txt']\n"
     ]
    },
    {
     "name": "stderr",
     "output_type": "stream",
     "text": [
      "\r",
      " 84%|████████████████████████████████████████████████████████████████████             | 84/100 [11:11<00:19,  1.21s/it]"
     ]
    },
    {
     "name": "stdout",
     "output_type": "stream",
     "text": [
      "['E:\\\\4\\\\merge\\\\punch/punching_85.png', 'E:\\\\4\\\\merge\\\\punch/punching_85.txt']\n"
     ]
    },
    {
     "name": "stderr",
     "output_type": "stream",
     "text": [
      "\r",
      " 85%|████████████████████████████████████████████████████████████████████▊            | 85/100 [11:12<00:14,  1.01it/s]"
     ]
    },
    {
     "name": "stdout",
     "output_type": "stream",
     "text": [
      "['E:\\\\4\\\\merge\\\\punch/punching_86.png', 'E:\\\\4\\\\merge\\\\punch/punching_86.txt']\n"
     ]
    },
    {
     "name": "stderr",
     "output_type": "stream",
     "text": [
      "\r",
      " 86%|█████████████████████████████████████████████████████████████████████▋           | 86/100 [11:12<00:12,  1.14it/s]"
     ]
    },
    {
     "name": "stdout",
     "output_type": "stream",
     "text": [
      "['E:\\\\4\\\\merge\\\\punch/punching_87.png', 'E:\\\\4\\\\merge\\\\punch/punching_87.txt']\n"
     ]
    },
    {
     "name": "stderr",
     "output_type": "stream",
     "text": [
      "\r",
      " 87%|██████████████████████████████████████████████████████████████████████▍          | 87/100 [11:13<00:11,  1.09it/s]"
     ]
    },
    {
     "name": "stdout",
     "output_type": "stream",
     "text": [
      "['E:\\\\4\\\\merge\\\\punch/punching_88.png', 'E:\\\\4\\\\merge\\\\punch/punching_88.txt']\n"
     ]
    },
    {
     "name": "stderr",
     "output_type": "stream",
     "text": [
      "\r",
      " 88%|███████████████████████████████████████████████████████████████████████▎         | 88/100 [11:14<00:11,  1.08it/s]"
     ]
    },
    {
     "name": "stdout",
     "output_type": "stream",
     "text": [
      "['E:\\\\4\\\\merge\\\\punch/punching_89.png', 'E:\\\\4\\\\merge\\\\punch/punching_89.txt']\n"
     ]
    },
    {
     "name": "stderr",
     "output_type": "stream",
     "text": [
      "\r",
      " 89%|████████████████████████████████████████████████████████████████████████         | 89/100 [11:14<00:07,  1.38it/s]"
     ]
    },
    {
     "name": "stdout",
     "output_type": "stream",
     "text": [
      "['E:\\\\4\\\\merge\\\\punch/punching_9.png', 'E:\\\\4\\\\merge\\\\punch/punching_9.txt']\n"
     ]
    },
    {
     "name": "stderr",
     "output_type": "stream",
     "text": [
      "\r",
      " 90%|████████████████████████████████████████████████████████████████████████▉        | 90/100 [11:27<00:43,  4.32s/it]"
     ]
    },
    {
     "name": "stdout",
     "output_type": "stream",
     "text": [
      "['E:\\\\4\\\\merge\\\\punch/punching_90.png', 'E:\\\\4\\\\merge\\\\punch/punching_90.txt']\n"
     ]
    },
    {
     "name": "stderr",
     "output_type": "stream",
     "text": [
      "\r",
      " 91%|█████████████████████████████████████████████████████████████████████████▋       | 91/100 [11:28<00:28,  3.19s/it]"
     ]
    },
    {
     "name": "stdout",
     "output_type": "stream",
     "text": [
      "['E:\\\\4\\\\merge\\\\punch/punching_91.png', 'E:\\\\4\\\\merge\\\\punch/punching_91.txt']\n"
     ]
    },
    {
     "name": "stderr",
     "output_type": "stream",
     "text": [
      "\r",
      " 92%|██████████████████████████████████████████████████████████████████████████▌      | 92/100 [11:28<00:19,  2.44s/it]"
     ]
    },
    {
     "name": "stdout",
     "output_type": "stream",
     "text": [
      "['E:\\\\4\\\\merge\\\\punch/punching_92.png', 'E:\\\\4\\\\merge\\\\punch/punching_92.txt']\n"
     ]
    },
    {
     "name": "stderr",
     "output_type": "stream",
     "text": [
      "\r",
      " 93%|███████████████████████████████████████████████████████████████████████████▎     | 93/100 [11:29<00:12,  1.81s/it]"
     ]
    },
    {
     "name": "stdout",
     "output_type": "stream",
     "text": [
      "['E:\\\\4\\\\merge\\\\punch/punching_93.png', 'E:\\\\4\\\\merge\\\\punch/punching_93.txt']\n"
     ]
    },
    {
     "name": "stderr",
     "output_type": "stream",
     "text": [
      "\r",
      " 94%|████████████████████████████████████████████████████████████████████████████▏    | 94/100 [11:29<00:08,  1.35s/it]"
     ]
    },
    {
     "name": "stdout",
     "output_type": "stream",
     "text": [
      "['E:\\\\4\\\\merge\\\\punch/punching_94.png', 'E:\\\\4\\\\merge\\\\punch/punching_94.txt']\n"
     ]
    },
    {
     "name": "stderr",
     "output_type": "stream",
     "text": [
      "\r",
      " 95%|████████████████████████████████████████████████████████████████████████████▉    | 95/100 [11:30<00:06,  1.25s/it]"
     ]
    },
    {
     "name": "stdout",
     "output_type": "stream",
     "text": [
      "['E:\\\\4\\\\merge\\\\punch/punching_95.png', 'E:\\\\4\\\\merge\\\\punch/punching_95.txt']\n"
     ]
    },
    {
     "name": "stderr",
     "output_type": "stream",
     "text": [
      "\r",
      " 96%|█████████████████████████████████████████████████████████████████████████████▊   | 96/100 [11:31<00:04,  1.18s/it]"
     ]
    },
    {
     "name": "stdout",
     "output_type": "stream",
     "text": [
      "['E:\\\\4\\\\merge\\\\punch/punching_96.png', 'E:\\\\4\\\\merge\\\\punch/punching_96.txt']\n"
     ]
    },
    {
     "name": "stderr",
     "output_type": "stream",
     "text": [
      "\r",
      " 97%|██████████████████████████████████████████████████████████████████████████████▌  | 97/100 [11:32<00:03,  1.06s/it]"
     ]
    },
    {
     "name": "stdout",
     "output_type": "stream",
     "text": [
      "['E:\\\\4\\\\merge\\\\punch/punching_97.png', 'E:\\\\4\\\\merge\\\\punch/punching_97.txt']\n"
     ]
    },
    {
     "name": "stderr",
     "output_type": "stream",
     "text": [
      "\r",
      " 98%|███████████████████████████████████████████████████████████████████████████████▍ | 98/100 [11:32<00:01,  1.20it/s]"
     ]
    },
    {
     "name": "stdout",
     "output_type": "stream",
     "text": [
      "['E:\\\\4\\\\merge\\\\punch/punching_98.png', 'E:\\\\4\\\\merge\\\\punch/punching_98.txt']\n"
     ]
    },
    {
     "name": "stderr",
     "output_type": "stream",
     "text": [
      "\r",
      " 99%|████████████████████████████████████████████████████████████████████████████████▏| 99/100 [11:33<00:00,  1.21it/s]"
     ]
    },
    {
     "name": "stdout",
     "output_type": "stream",
     "text": [
      "['E:\\\\4\\\\merge\\\\punch/punching_99.png', 'E:\\\\4\\\\merge\\\\punch/punching_99.txt']\n"
     ]
    },
    {
     "name": "stderr",
     "output_type": "stream",
     "text": [
      "100%|████████████████████████████████████████████████████████████████████████████████| 100/100 [11:33<00:00,  6.94s/it]\n"
     ]
    }
   ],
   "source": [
    "for file in tqdm(file_list):\n",
    "    tmp = file[17:-4]\n",
    "    \n",
    "#     print(tmp)\n",
    "\n",
    "    change_list = [os.path.join(path, tmp + '.png'), os.path.join(path, tmp + '.txt')]\n",
    "    print(change_list)\n",
    "    with open(change_list[1], 'r') as f:\n",
    "        lines = f.readlines()\n",
    "        \n",
    "    image = Image.open(change_list[0])\n",
    "    image = image.convert('RGB') #'L': greyscale, '1': 이진화, 'RGB' , 'RGBA', 'CMYK'\n",
    "    # image = image.resize((300, 300))\n",
    "    \n",
    "    # 좌우반전\n",
    "    horizonal_flip(image, lines, tmp)\n",
    "    \n",
    "    # 상하반전\n",
    "    vertical_flip(image, lines, tmp)\n",
    "    \n",
    "    # 상하좌우반전\n",
    "    hv_flip(image, lines, tmp)\n",
    "    \n"
   ]
  },
  {
   "cell_type": "code",
   "execution_count": null,
   "id": "9e480940",
   "metadata": {},
   "outputs": [],
   "source": []
  }
 ],
 "metadata": {
  "kernelspec": {
   "display_name": "Python 3 (ipykernel)",
   "language": "python",
   "name": "python3"
  },
  "language_info": {
   "codemirror_mode": {
    "name": "ipython",
    "version": 3
   },
   "file_extension": ".py",
   "mimetype": "text/x-python",
   "name": "python",
   "nbconvert_exporter": "python",
   "pygments_lexer": "ipython3",
   "version": "3.9.13"
  }
 },
 "nbformat": 4,
 "nbformat_minor": 5
}
