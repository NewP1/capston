{
 "cells": [
  {
   "cell_type": "code",
   "execution_count": 1,
   "id": "3ac4ca0d",
   "metadata": {},
   "outputs": [],
   "source": [
    "from glob import glob\n",
    "import cv2\n",
    "import os\n",
    "from PIL import Image, ImageEnhance, ImageChops\n",
    "import numpy as np"
   ]
  },
  {
   "cell_type": "markdown",
   "id": "448fbf8f",
   "metadata": {},
   "source": [
    "### jpg -> png"
   ]
  },
  {
   "cell_type": "code",
   "execution_count": 6,
   "id": "5dcf5cb1",
   "metadata": {
    "scrolled": true
   },
   "outputs": [],
   "source": [
    "path = r'C:\\my_data\\kick/'\n",
    "des = r'C:\\my_data\\kick_png/'\n",
    "\n",
    "jpg_list = os.listdir(path)\n",
    "for file in jpg_list:\n",
    "    print(file)\n",
    "    data = path + file\n",
    "    print(data)\n",
    "#     image_tmp = Image.open(path + file).convert('RGB')\n",
    "    des_data = des + file[:-4] + '.png'\n",
    "    print(des_data)\n",
    "#     image_tmp.save(des + file[:-3] + 'png', 'png')\n",
    "    print()"
   ]
  },
  {
   "cell_type": "markdown",
   "id": "def30f3e",
   "metadata": {},
   "source": [
    "---"
   ]
  },
  {
   "cell_type": "code",
   "execution_count": 7,
   "id": "b8f1ffbf",
   "metadata": {},
   "outputs": [
    {
     "name": "stdout",
     "output_type": "stream",
     "text": [
      "['C:\\\\my_data\\\\kick_png\\\\kick_0.png', 'C:\\\\my_data\\\\kick_png\\\\kick_1.png', 'C:\\\\my_data\\\\kick_png\\\\kick_10.png', 'C:\\\\my_data\\\\kick_png\\\\kick_11.png', 'C:\\\\my_data\\\\kick_png\\\\kick_12.png', 'C:\\\\my_data\\\\kick_png\\\\kick_13.png', 'C:\\\\my_data\\\\kick_png\\\\kick_14.png', 'C:\\\\my_data\\\\kick_png\\\\kick_15.png', 'C:\\\\my_data\\\\kick_png\\\\kick_16.png', 'C:\\\\my_data\\\\kick_png\\\\kick_17.png']\n"
     ]
    }
   ],
   "source": [
    "file_list = glob(path + '*.png')\n",
    "\n",
    "print(file_list)"
   ]
  },
  {
   "cell_type": "code",
   "execution_count": 21,
   "id": "eaf32461",
   "metadata": {},
   "outputs": [],
   "source": [
    "def horizonal_flip(image, lines, name):\n",
    "    png_h = des + name + '_h.png'\n",
    "    txt_h = des + name + '_h.txt'\n",
    "    horizonal_flip_image = image.transpose(Image.FLIP_LEFT_RIGHT)\n",
    "    horizonal_flip_image.save(png_h)\n",
    "    \n",
    "    with open(txt_h, 'w') as f:\n",
    "        for line in lines:\n",
    "            target_list = list(line.split())\n",
    "            target_list[1] = str(1 - float(target_list[1]))\n",
    "            new_line = \" \".join(target_list)\n",
    "#             print(new_line)\n",
    "            f.write(new_line)\n",
    "\n",
    "def vertical_flip(image, lines, name):\n",
    "    png_v = des + name + '_v.png'\n",
    "    txt_v = des + name + '_v.txt'\n",
    "    vertical_flip_image = image.transpose(Image.FLIP_TOP_BOTTOM) \n",
    "    vertical_flip_image.save(png_v)\n",
    "    \n",
    "    with open(txt_v, 'w') as f:\n",
    "        for line in lines:\n",
    "            target_list = list(line.split())\n",
    "            target_list[2] = str(1 - float(target_list[2]))\n",
    "            new_line = \" \".join(target_list)\n",
    "#             print(new_line)\n",
    "            f.write(new_line)\n",
    "    \n",
    "def hv_flip(image, lines, name):\n",
    "    png_hv = des + name + '_hv.png'\n",
    "    txt_hv = des + name + '_hv.txt'\n",
    "    temp_flip_image = image.transpose(Image.FLIP_LEFT_RIGHT)\n",
    "    hv_flip_image = temp_flip_image.transpose(Image.FLIP_TOP_BOTTOM)\n",
    "    hv_flip_image.save(png_hv)\n",
    "    \n",
    "    with open(txt_hv, 'w') as f:\n",
    "        for line in lines:\n",
    "            target_list = list(line.split())\n",
    "            target_list[1] = str(1 - float(target_list[1]))\n",
    "            target_list[2] = str(1 - float(target_list[2]))\n",
    "            new_line = \" \".join(target_list)\n",
    "#             print(new_line)\n",
    "            f.write(new_line)"
   ]
  },
  {
   "cell_type": "markdown",
   "id": "9d1a3dfa",
   "metadata": {},
   "source": [
    "### file slicing 필요"
   ]
  },
  {
   "cell_type": "code",
   "execution_count": 22,
   "id": "bd238a45",
   "metadata": {},
   "outputs": [
    {
     "name": "stdout",
     "output_type": "stream",
     "text": [
      "['C:\\\\my_data\\\\kick_png/kick_0.png', 'C:\\\\my_data\\\\kick_png/kick_0.txt']\n",
      "0 0.127125 0.6595 0.028250 0.081667\n",
      "0 0.8728750000000001 0.6595 0.028250 0.081667\n",
      "['C:\\\\my_data\\\\kick_png/kick_1.png', 'C:\\\\my_data\\\\kick_png/kick_1.txt']\n",
      "3 0.570500 0.4305 0.273500 0.462333\n",
      "3 0.4295 0.4305 0.273500 0.462333\n",
      "['C:\\\\my_data\\\\kick_png/kick_10.png', 'C:\\\\my_data\\\\kick_png/kick_10.txt']\n",
      "3 0.515750 0.472333 0.202500 0.333333\n",
      "3 0.48424999999999996 0.472333 0.202500 0.333333\n",
      "['C:\\\\my_data\\\\kick_png/kick_11.png', 'C:\\\\my_data\\\\kick_png/kick_11.txt']\n",
      "3 0.525875 0.48683299999999996 0.174250 0.343000\n",
      "3 0.474125 0.48683299999999996 0.174250 0.343000\n",
      "['C:\\\\my_data\\\\kick_png/kick_12.png', 'C:\\\\my_data\\\\kick_png/kick_12.txt']\n",
      "3 0.556375 0.49166699999999997 0.195250 0.374000\n",
      "3 0.44362500000000005 0.49166699999999997 0.195250 0.374000\n",
      "['C:\\\\my_data\\\\kick_png/kick_13.png', 'C:\\\\my_data\\\\kick_png/kick_13.txt']\n",
      "3 0.564500 0.483167 0.205000 0.369667\n",
      "3 0.4355 0.483167 0.205000 0.369667\n",
      "['C:\\\\my_data\\\\kick_png/kick_14.png', 'C:\\\\my_data\\\\kick_png/kick_14.txt']\n",
      "3 0.555625 0.487333 0.217750 0.380667\n",
      "3 0.44437499999999996 0.487333 0.217750 0.380667\n",
      "['C:\\\\my_data\\\\kick_png/kick_15.png', 'C:\\\\my_data\\\\kick_png/kick_15.txt']\n",
      "3 0.475750 0.48466699999999996 0.184000 0.416000\n",
      "3 0.52425 0.48466699999999996 0.184000 0.416000\n",
      "['C:\\\\my_data\\\\kick_png/kick_16.png', 'C:\\\\my_data\\\\kick_png/kick_16.txt']\n",
      "3 0.435500 0.479333 0.250000 0.414000\n",
      "3 0.5645 0.479333 0.250000 0.414000\n",
      "['C:\\\\my_data\\\\kick_png/kick_17.png', 'C:\\\\my_data\\\\kick_png/kick_17.txt']\n",
      "3 0.452750 0.42400000000000004 0.188000 0.361333\n",
      "3 0.54725 0.42400000000000004 0.188000 0.361333\n"
     ]
    }
   ],
   "source": [
    "for file in file_list:\n",
    "    tmp = file[20:-4]\n",
    "    \n",
    "#     print(tmp)\n",
    "\n",
    "    change_list = [os.path.join(path, tmp + '.png'), os.path.join(path, tmp + '.txt')]\n",
    "    print(change_list)\n",
    "    with open(change_list[1], 'r') as f:\n",
    "        lines = f.readlines()\n",
    "        \n",
    "    image = Image.open(change_list[0])\n",
    "    image = image.convert('RGB') #'L': greyscale, '1': 이진화, 'RGB' , 'RGBA', 'CMYK'\n",
    "    # image = image.resize((300, 300))\n",
    "    \n",
    "    # 좌우반전\n",
    "    horizonal_flip(image, lines, tmp)\n",
    "    \n",
    "    # 상하반전\n",
    "    vertical_flip(image, lines, tmp)\n",
    "    \n",
    "    # 상하좌우반전\n",
    "    hv_flip(image, lines, tmp)\n",
    "    \n"
   ]
  },
  {
   "cell_type": "code",
   "execution_count": null,
   "id": "9e480940",
   "metadata": {},
   "outputs": [],
   "source": []
  }
 ],
 "metadata": {
  "kernelspec": {
   "display_name": "Python 3 (ipykernel)",
   "language": "python",
   "name": "python3"
  },
  "language_info": {
   "codemirror_mode": {
    "name": "ipython",
    "version": 3
   },
   "file_extension": ".py",
   "mimetype": "text/x-python",
   "name": "python",
   "nbconvert_exporter": "python",
   "pygments_lexer": "ipython3",
   "version": "3.9.7"
  }
 },
 "nbformat": 4,
 "nbformat_minor": 5
}
