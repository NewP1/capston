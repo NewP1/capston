{
 "cells": [
  {
   "cell_type": "code",
   "execution_count": 1,
   "id": "3ac4ca0d",
   "metadata": {},
   "outputs": [],
   "source": [
    "from glob import glob\n",
    "import cv2\n",
    "import os\n",
    "from PIL import Image, ImageEnhance, ImageChops\n",
    "import numpy as np\n",
    "import time\n",
    "from tqdm import tqdm\n",
    "import shutil"
   ]
  },
  {
   "cell_type": "code",
   "execution_count": 2,
   "id": "8fb865ba",
   "metadata": {},
   "outputs": [],
   "source": [
    "def makedirs(path): \n",
    "   try: \n",
    "        os.makedirs(path) \n",
    "   except OSError: \n",
    "       if not os.path.isdir(path): \n",
    "           raise"
   ]
  },
  {
   "cell_type": "markdown",
   "id": "448fbf8f",
   "metadata": {},
   "source": [
    "### jpg -> png"
   ]
  },
  {
   "cell_type": "code",
   "execution_count": 5,
   "id": "5dcf5cb1",
   "metadata": {
    "scrolled": false
   },
   "outputs": [],
   "source": [
    "path = r'C:\\Users\\jaehy\\Desktop\\punch_robo_darknet/'\n",
    "des = r'C:\\Users\\jaehy\\Desktop\\punch_robo_darknet\\부풀리기/'\n",
    "makedirs(des)\n",
    "\n",
    "# jpg_list = os.listdir(path)\n",
    "\n",
    "# for file in jpg_list:\n",
    "# #     print(file)\n",
    "#     data = path + file\n",
    "# #     print(data)\n",
    "#     image_tmp = Image.open(data).convert('RGB')\n",
    "#     des_data = des + file[:-4] + '.png'\n",
    "# #     print(des_data)\n",
    "#     image_tmp.save(des_data, 'png')\n",
    "# #     print()"
   ]
  },
  {
   "cell_type": "markdown",
   "id": "def30f3e",
   "metadata": {},
   "source": [
    "---"
   ]
  },
  {
   "cell_type": "code",
   "execution_count": 6,
   "id": "b8f1ffbf",
   "metadata": {
    "scrolled": true
   },
   "outputs": [
    {
     "name": "stdout",
     "output_type": "stream",
     "text": [
      "['C:\\\\Users\\\\jaehy\\\\Desktop\\\\punch_robo_darknet\\\\jab_113_png.rf.704460a1d93db92970bdaa2cd904265c.png', 'C:\\\\Users\\\\jaehy\\\\Desktop\\\\punch_robo_darknet\\\\jab_14_png.rf.f476d4f8d77f840343d1552771763fe2.png', 'C:\\\\Users\\\\jaehy\\\\Desktop\\\\punch_robo_darknet\\\\jab_53_png.rf.41378cbf87fe3ec5620d4abe161b0abe.png', 'C:\\\\Users\\\\jaehy\\\\Desktop\\\\punch_robo_darknet\\\\jab_62_png.rf.98ba5f40fa4a47c2be1ab3860a1536c5.png', 'C:\\\\Users\\\\jaehy\\\\Desktop\\\\punch_robo_darknet\\\\jab_71_png.rf.4be71a02982a22e798fbea6e3918dd2d.png', 'C:\\\\Users\\\\jaehy\\\\Desktop\\\\punch_robo_darknet\\\\jab_80_png.rf.293af9d265eb62a05c846dd9ad5fb6dc.png']\n"
     ]
    }
   ],
   "source": [
    "file_list = glob(path + '*.png')\n",
    "\n",
    "print(file_list)"
   ]
  },
  {
   "cell_type": "code",
   "execution_count": 7,
   "id": "eaf32461",
   "metadata": {},
   "outputs": [],
   "source": [
    "def horizonal_flip(image, lines, name):\n",
    "    png_h = des + name + '_h.png'\n",
    "    txt_h = des + name + '_h.txt'\n",
    "    horizonal_flip_image = image.transpose(Image.FLIP_LEFT_RIGHT)\n",
    "    horizonal_flip_image.save(png_h)\n",
    "    \n",
    "    with open(txt_h, 'w') as f:\n",
    "        for line in lines:\n",
    "            target_list = list(line.split())\n",
    "            target_list[1] = str(1 - float(target_list[1]))\n",
    "            new_line = \" \".join(target_list)\n",
    "#             print(new_line)\n",
    "            f.write(new_line)\n",
    "\n",
    "def vertical_flip(image, lines, name):\n",
    "    png_v = des + name + '_v.png'\n",
    "    txt_v = des + name + '_v.txt'\n",
    "    vertical_flip_image = image.transpose(Image.FLIP_TOP_BOTTOM) \n",
    "    vertical_flip_image.save(png_v)\n",
    "    \n",
    "    with open(txt_v, 'w') as f:\n",
    "        for line in lines:\n",
    "            target_list = list(line.split())\n",
    "            target_list[2] = str(1 - float(target_list[2]))\n",
    "            new_line = \" \".join(target_list)\n",
    "#             print(new_line)\n",
    "            f.write(new_line)\n",
    "    \n",
    "def hv_flip(image, lines, name):\n",
    "    png_hv = des + name + '_hv.png'\n",
    "    txt_hv = des + name + '_hv.txt'\n",
    "    temp_flip_image = image.transpose(Image.FLIP_LEFT_RIGHT)\n",
    "    hv_flip_image = temp_flip_image.transpose(Image.FLIP_TOP_BOTTOM)\n",
    "    hv_flip_image.save(png_hv)\n",
    "    \n",
    "    with open(txt_hv, 'w') as f:\n",
    "        for line in lines:\n",
    "            target_list = list(line.split())\n",
    "            target_list[1] = str(1 - float(target_list[1]))\n",
    "            target_list[2] = str(1 - float(target_list[2]))\n",
    "            new_line = \" \".join(target_list)\n",
    "#             print(new_line)\n",
    "            f.write(new_line)"
   ]
  },
  {
   "cell_type": "markdown",
   "id": "9d1a3dfa",
   "metadata": {},
   "source": [
    "### file slicing 필요"
   ]
  },
  {
   "cell_type": "code",
   "execution_count": 8,
   "id": "bd238a45",
   "metadata": {
    "scrolled": true
   },
   "outputs": [
    {
     "name": "stderr",
     "output_type": "stream",
     "text": [
      "  0%|                                                                                            | 0/6 [00:00<?, ?it/s]C:\\Users\\jaehy\\AppData\\Local\\Temp\\ipykernel_16428\\3591357709.py:4: DeprecationWarning: FLIP_LEFT_RIGHT is deprecated and will be removed in Pillow 10 (2023-07-01). Use Transpose.FLIP_LEFT_RIGHT instead.\n",
      "  horizonal_flip_image = image.transpose(Image.FLIP_LEFT_RIGHT)\n",
      "C:\\Users\\jaehy\\AppData\\Local\\Temp\\ipykernel_16428\\3591357709.py:18: DeprecationWarning: FLIP_TOP_BOTTOM is deprecated and will be removed in Pillow 10 (2023-07-01). Use Transpose.FLIP_TOP_BOTTOM instead.\n",
      "  vertical_flip_image = image.transpose(Image.FLIP_TOP_BOTTOM)\n",
      "C:\\Users\\jaehy\\AppData\\Local\\Temp\\ipykernel_16428\\3591357709.py:32: DeprecationWarning: FLIP_LEFT_RIGHT is deprecated and will be removed in Pillow 10 (2023-07-01). Use Transpose.FLIP_LEFT_RIGHT instead.\n",
      "  temp_flip_image = image.transpose(Image.FLIP_LEFT_RIGHT)\n",
      "C:\\Users\\jaehy\\AppData\\Local\\Temp\\ipykernel_16428\\3591357709.py:33: DeprecationWarning: FLIP_TOP_BOTTOM is deprecated and will be removed in Pillow 10 (2023-07-01). Use Transpose.FLIP_TOP_BOTTOM instead.\n",
      "  hv_flip_image = temp_flip_image.transpose(Image.FLIP_TOP_BOTTOM)\n"
     ]
    },
    {
     "name": "stdout",
     "output_type": "stream",
     "text": [
      "['C:\\\\Users\\\\jaehy\\\\Desktop\\\\punch_robo_darknet/jab_113_png.rf.704460a1d93db92970bdaa2cd904265c.png', 'C:\\\\Users\\\\jaehy\\\\Desktop\\\\punch_robo_darknet/jab_113_png.rf.704460a1d93db92970bdaa2cd904265c.txt']\n",
      "['C:\\\\Users\\\\jaehy\\\\Desktop\\\\punch_robo_darknet/jab_14_png.rf.f476d4f8d77f840343d1552771763fe2.png', 'C:\\\\Users\\\\jaehy\\\\Desktop\\\\punch_robo_darknet/jab_14_png.rf.f476d4f8d77f840343d1552771763fe2.txt']\n"
     ]
    },
    {
     "name": "stderr",
     "output_type": "stream",
     "text": [
      " 50%|██████████████████████████████████████████                                          | 3/6 [00:00<00:00,  8.81it/s]"
     ]
    },
    {
     "name": "stdout",
     "output_type": "stream",
     "text": [
      "['C:\\\\Users\\\\jaehy\\\\Desktop\\\\punch_robo_darknet/jab_53_png.rf.41378cbf87fe3ec5620d4abe161b0abe.png', 'C:\\\\Users\\\\jaehy\\\\Desktop\\\\punch_robo_darknet/jab_53_png.rf.41378cbf87fe3ec5620d4abe161b0abe.txt']\n",
      "['C:\\\\Users\\\\jaehy\\\\Desktop\\\\punch_robo_darknet/jab_62_png.rf.98ba5f40fa4a47c2be1ab3860a1536c5.png', 'C:\\\\Users\\\\jaehy\\\\Desktop\\\\punch_robo_darknet/jab_62_png.rf.98ba5f40fa4a47c2be1ab3860a1536c5.txt']\n"
     ]
    },
    {
     "name": "stderr",
     "output_type": "stream",
     "text": [
      " 83%|██████████████████████████████████████████████████████████████████████              | 5/6 [00:00<00:00,  8.61it/s]"
     ]
    },
    {
     "name": "stdout",
     "output_type": "stream",
     "text": [
      "['C:\\\\Users\\\\jaehy\\\\Desktop\\\\punch_robo_darknet/jab_71_png.rf.4be71a02982a22e798fbea6e3918dd2d.png', 'C:\\\\Users\\\\jaehy\\\\Desktop\\\\punch_robo_darknet/jab_71_png.rf.4be71a02982a22e798fbea6e3918dd2d.txt']\n",
      "['C:\\\\Users\\\\jaehy\\\\Desktop\\\\punch_robo_darknet/jab_80_png.rf.293af9d265eb62a05c846dd9ad5fb6dc.png', 'C:\\\\Users\\\\jaehy\\\\Desktop\\\\punch_robo_darknet/jab_80_png.rf.293af9d265eb62a05c846dd9ad5fb6dc.txt']\n"
     ]
    },
    {
     "name": "stderr",
     "output_type": "stream",
     "text": [
      "100%|████████████████████████████████████████████████████████████████████████████████████| 6/6 [00:00<00:00,  8.63it/s]\n"
     ]
    }
   ],
   "source": [
    "for file in tqdm(file_list):\n",
    "    tmp = file[len(path):-4]\n",
    "    \n",
    "#     print(tmp)\n",
    "\n",
    "    change_list = [os.path.join(path, tmp + '.png'), os.path.join(path, tmp + '.txt')]\n",
    "    des_list = [os.path.join(des, tmp + '.png'), os.path.join(des, tmp + '.txt')]\n",
    "    print(change_list)\n",
    "    with open(change_list[1], 'r') as f:\n",
    "        lines = f.readlines()\n",
    "        \n",
    "    image = Image.open(change_list[0])\n",
    "    image = image.convert('RGB') #'L': greyscale, '1': 이진화, 'RGB' , 'RGBA', 'CMYK'\n",
    "    # image = image.resize((300, 300))\n",
    "    \n",
    "    shutil.copyfile(change_list[0], des_list[0])\n",
    "    shutil.copyfile(change_list[1], des_list[1])\n",
    "\n",
    "    \n",
    "    # 좌우반전\n",
    "    horizonal_flip(image, lines, tmp)\n",
    "    \n",
    "    # 상하반전\n",
    "    vertical_flip(image, lines, tmp)\n",
    "    \n",
    "    # 상하좌우반전\n",
    "    hv_flip(image, lines, tmp)\n",
    "    \n"
   ]
  },
  {
   "cell_type": "code",
   "execution_count": null,
   "id": "9e480940",
   "metadata": {},
   "outputs": [],
   "source": []
  }
 ],
 "metadata": {
  "kernelspec": {
   "display_name": "Python 3 (ipykernel)",
   "language": "python",
   "name": "python3"
  },
  "language_info": {
   "codemirror_mode": {
    "name": "ipython",
    "version": 3
   },
   "file_extension": ".py",
   "mimetype": "text/x-python",
   "name": "python",
   "nbconvert_exporter": "python",
   "pygments_lexer": "ipython3",
   "version": "3.9.13"
  }
 },
 "nbformat": 4,
 "nbformat_minor": 5
}
