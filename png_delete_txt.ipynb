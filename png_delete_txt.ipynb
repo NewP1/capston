{
 "cells": [
  {
   "cell_type": "code",
   "execution_count": 1,
   "id": "8090f72b",
   "metadata": {
    "scrolled": true
   },
   "outputs": [
    {
     "name": "stdout",
     "output_type": "stream",
     "text": [
      "['reallife_1_V_103.mp4_frame109.png', 'reallife_1_V_103.mp4_frame109.txt', 'reallife_1_V_103.mp4_frame112.png', 'reallife_1_V_103.mp4_frame112.txt', 'reallife_1_V_119.mp4_frame371.png', 'reallife_1_V_119.mp4_frame371.txt', 'reallife_1_V_119.mp4_frame383.png', 'reallife_1_V_119.mp4_frame383.txt', 'reallife_1_V_145.mp4_frame868.png', 'reallife_1_V_145.mp4_frame868.txt', 'reallife_1_V_157.mp4_frame1084.png', 'reallife_1_V_157.mp4_frame1084.txt', 'reallife_1_V_184.mp4_frame1530.png', 'reallife_1_V_184.mp4_frame1530.txt', 'reallife_1_V_184.mp4_frame1531.png', 'reallife_1_V_184.mp4_frame1531.txt', 'reallife_1_V_203.mp4_frame1901.png', 'reallife_1_V_203.mp4_frame1901.txt', 'reallife_1_V_204.mp4_frame1916.png', 'reallife_1_V_204.mp4_frame1916.txt', 'reallife_1_V_210.mp4_frame2036.png', 'reallife_1_V_210.mp4_frame2036.txt', 'reallife_1_V_213.mp4_frame2076.png', 'reallife_1_V_213.mp4_frame2076.txt', 'reallife_1_V_223.mp4_frame2244.png', 'reallife_1_V_223.mp4_frame2244.txt', 'reallife_1_V_228.mp4_frame2327.png', 'reallife_1_V_228.mp4_frame2327.txt', 'reallife_1_V_229.mp4_frame2336.png', 'reallife_1_V_229.mp4_frame2336.txt', 'reallife_1_V_229.mp4_frame2345.png', 'reallife_1_V_229.mp4_frame2345.txt', 'reallife_1_V_234.mp4_frame2420.png', 'reallife_1_V_234.mp4_frame2420.txt', 'reallife_1_V_234.mp4_frame2426.png', 'reallife_1_V_234.mp4_frame2426.txt', 'reallife_1_V_235.mp4_frame2437.png', 'reallife_1_V_235.mp4_frame2437.txt', 'reallife_1_V_241.mp4_frame2560.png', 'reallife_1_V_241.mp4_frame2560.txt', 'reallife_1_V_249.mp4_frame2637.png', 'reallife_1_V_249.mp4_frame2637.txt', 'reallife_1_V_250.mp4_frame2666.png', 'reallife_1_V_250.mp4_frame2666.txt', 'reallife_1_V_252.mp4_frame2687.png', 'reallife_1_V_252.mp4_frame2687.txt', 'reallife_1_V_289.mp4_frame3297.png', 'reallife_1_V_289.mp4_frame3297.txt', 'reallife_1_V_365.mp4_frame4694.png', 'reallife_1_V_365.mp4_frame4694.txt', 'reallife_1_V_366.mp4_frame4713.png', 'reallife_1_V_366.mp4_frame4713.txt', 'reallife_1_V_370.mp4_frame4788.png', 'reallife_1_V_370.mp4_frame4788.txt', 'reallife_1_V_384.mp4_frame5039.png', 'reallife_1_V_384.mp4_frame5039.txt', 'reallife_1_V_384.mp4_frame5040.png', 'reallife_1_V_384.mp4_frame5040.txt', 'reallife_1_V_384.mp4_frame5043.png', 'reallife_1_V_384.mp4_frame5043.txt', 'reallife_1_V_385.mp4_frame5055.png', 'reallife_1_V_385.mp4_frame5055.txt', 'reallife_1_V_389.mp4_frame5116.png', 'reallife_1_V_389.mp4_frame5116.txt', 'reallife_1_V_390.mp4_frame5152.png', 'reallife_1_V_390.mp4_frame5152.txt', 'reallife_1_V_401.mp4_frame5745.png', 'reallife_1_V_401.mp4_frame5745.txt', 'reallife_1_V_406.mp4_frame5804.png', 'reallife_1_V_406.mp4_frame5804.txt', 'reallife_1_V_407.mp4_frame5819.png', 'reallife_1_V_407.mp4_frame5819.txt', 'reallife_1_V_407.mp4_frame5820.png', 'reallife_1_V_407.mp4_frame5820.txt', 'reallife_1_V_410.mp4_frame5876.png', 'reallife_1_V_410.mp4_frame5876.txt', 'reallife_1_V_412.mp4_frame5899.png', 'reallife_1_V_412.mp4_frame5899.txt', 'reallife_1_V_413.mp4_frame5912.png', 'reallife_1_V_413.mp4_frame5912.txt', 'reallife_1_V_413.mp4_frame5913.png', 'reallife_1_V_413.mp4_frame5913.txt', 'reallife_1_V_420.mp4_frame6007.png', 'reallife_1_V_420.mp4_frame6007.txt', 'reallife_1_V_422.mp4_frame6035.png', 'reallife_1_V_422.mp4_frame6035.txt', 'reallife_1_V_422.mp4_frame6036.png', 'reallife_1_V_422.mp4_frame6036.txt', 'reallife_1_V_422.mp4_frame6038.png', 'reallife_1_V_422.mp4_frame6038.txt', 'reallife_1_V_430.mp4_frame6165.png', 'reallife_1_V_430.mp4_frame6165.txt', 'reallife_1_V_430.mp4_frame6166.png', 'reallife_1_V_430.mp4_frame6166.txt', 'reallife_1_V_430.mp4_frame6167.png', 'reallife_1_V_430.mp4_frame6167.txt', 'reallife_1_V_433.mp4_frame6199.png', 'reallife_1_V_433.mp4_frame6199.txt', 'reallife_1_V_446.mp4_frame6383.png', 'reallife_1_V_446.mp4_frame6383.txt', 'reallife_1_V_448.mp4_frame6401.png', 'reallife_1_V_448.mp4_frame6401.txt', 'reallife_1_V_451.mp4_frame6450.png', 'reallife_1_V_451.mp4_frame6450.txt', 'reallife_1_V_452.mp4_frame6466.png', 'reallife_1_V_452.mp4_frame6466.txt', 'reallife_1_V_452.mp4_frame6470.png', 'reallife_1_V_452.mp4_frame6470.txt', 'reallife_1_V_452.mp4_frame6472.png', 'reallife_1_V_452.mp4_frame6472.txt', 'reallife_1_V_454.mp4_frame6490.png', 'reallife_1_V_454.mp4_frame6490.txt', 'reallife_1_V_454.mp4_frame6495.png', 'reallife_1_V_454.mp4_frame6495.txt', 'reallife_1_V_464.mp4_frame6651.png', 'reallife_1_V_464.mp4_frame6651.txt', 'reallife_1_V_464.mp4_frame6662.png', 'reallife_1_V_464.mp4_frame6662.txt', 'reallife_1_V_465.mp4_frame6670.png', 'reallife_1_V_465.mp4_frame6670.txt', 'reallife_1_V_483.mp4_frame6967.png', 'reallife_1_V_483.mp4_frame6967.txt', 'reallife_1_V_487.mp4_frame7027.png', 'reallife_1_V_487.mp4_frame7027.txt', 'reallife_1_V_487.mp4_frame7036.png', 'reallife_1_V_487.mp4_frame7036.txt', 'reallife_1_V_496.mp4_frame7172.png', 'reallife_1_V_496.mp4_frame7172.txt', 'reallife_1_V_507.mp4_frame7371.png', 'reallife_1_V_507.mp4_frame7371.txt', 'reallife_1_V_508.mp4_frame7387.png', 'reallife_1_V_508.mp4_frame7387.txt', 'reallife_1_V_509.mp4_frame7400.png', 'reallife_1_V_509.mp4_frame7400.txt', 'reallife_1_V_509.mp4_frame7401.png', 'reallife_1_V_509.mp4_frame7401.txt', 'reallife_1_V_509.mp4_frame7402.png', 'reallife_1_V_509.mp4_frame7402.txt', 'reallife_1_V_509.mp4_frame7406.png', 'reallife_1_V_509.mp4_frame7406.txt', 'reallife_1_V_510.mp4_frame7426.png', 'reallife_1_V_510.mp4_frame7426.txt', 'reallife_1_V_510.mp4_frame7434.png', 'reallife_1_V_510.mp4_frame7434.txt', 'reallife_1_V_518.mp4_frame7551.png', 'reallife_1_V_518.mp4_frame7551.txt', 'reallife_1_V_560.mp4_frame8252.png', 'reallife_1_V_560.mp4_frame8252.txt', 'reallife_1_V_562.mp4_frame8276.png', 'reallife_1_V_562.mp4_frame8276.txt', 'reallife_1_V_576.mp4_frame8492.png', 'reallife_1_V_576.mp4_frame8492.txt', 'reallife_1_V_584.mp4_frame8631.png', 'reallife_1_V_584.mp4_frame8631.txt', 'reallife_1_V_602.mp4_frame8934.png', 'reallife_1_V_602.mp4_frame8934.txt', 'reallife_1_V_602.mp4_frame8939.png', 'reallife_1_V_602.mp4_frame8939.txt', 'reallife_1_V_603.mp4_frame8957.png', 'reallife_1_V_603.mp4_frame8957.txt', 'reallife_1_V_618.mp4_frame9198.png', 'reallife_1_V_618.mp4_frame9198.txt', 'reallife_1_V_619.mp4_frame9211.png', 'reallife_1_V_619.mp4_frame9211.txt', 'reallife_1_V_620.mp4_frame9235.png', 'reallife_1_V_620.mp4_frame9235.txt', 'reallife_1_V_620.mp4_frame9239.png', 'reallife_1_V_620.mp4_frame9239.txt', 'reallife_1_V_630.mp4_frame9401.png', 'reallife_1_V_630.mp4_frame9401.txt', 'reallife_1_V_634.mp4_frame9460.png', 'reallife_1_V_634.mp4_frame9460.txt', 'reallife_1_V_635.mp4_frame9480.png', 'reallife_1_V_635.mp4_frame9480.txt', 'reallife_1_V_636.mp4_frame9487.png', 'reallife_1_V_636.mp4_frame9487.txt', 'reallife_1_V_638.mp4_frame9524.png', 'reallife_1_V_638.mp4_frame9524.txt', 'reallife_1_V_638.mp4_frame9527.png', 'reallife_1_V_638.mp4_frame9527.txt', 'reallife_1_V_638.mp4_frame9528.png', 'reallife_1_V_638.mp4_frame9528.txt', 'reallife_1_V_690.mp4_frame10366.png', 'reallife_1_V_690.mp4_frame10366.txt', 'reallife_1_V_720.mp4_frame10882.png', 'reallife_1_V_720.mp4_frame10882.txt', 'reallife_1_V_722.mp4_frame10913.png', 'reallife_1_V_722.mp4_frame10913.txt', 'reallife_1_V_722.mp4_frame10918.png', 'reallife_1_V_722.mp4_frame10918.txt', 'reallife_1_V_723.mp4_frame10926.png', 'reallife_1_V_723.mp4_frame10926.txt', 'reallife_1_V_723.mp4_frame10935.png', 'reallife_1_V_723.mp4_frame10935.txt', 'reallife_1_V_725.mp4_frame10957.png', 'reallife_1_V_725.mp4_frame10957.txt', 'reallife_1_V_725.mp4_frame10958.png', 'reallife_1_V_725.mp4_frame10958.txt', 'reallife_1_V_728.mp4_frame11004.png', 'reallife_1_V_728.mp4_frame11004.txt', 'reallife_1_V_728.mp4_frame11015.png', 'reallife_1_V_728.mp4_frame11015.txt', 'reallife_1_V_729.mp4_frame11028.png', 'reallife_1_V_729.mp4_frame11028.txt', 'reallife_1_V_736.mp4_frame11150.png', 'reallife_1_V_736.mp4_frame11150.txt', 'reallife_1_V_739.mp4_frame11195.png', 'reallife_1_V_739.mp4_frame11195.txt', 'reallife_1_V_740.mp4_frame11229.png', 'reallife_1_V_740.mp4_frame11229.txt', 'reallife_1_V_740.mp4_frame11231.png', 'reallife_1_V_740.mp4_frame11231.txt', 'reallife_1_V_740.mp4_frame11233.png', 'reallife_1_V_740.mp4_frame11233.txt', 'reallife_1_V_740.mp4_frame11235.png', 'reallife_1_V_740.mp4_frame11235.txt', 'reallife_1_V_749.mp4_frame11373.png', 'reallife_1_V_749.mp4_frame11373.txt', 'reallife_1_V_754.mp4_frame11465.png', 'reallife_1_V_754.mp4_frame11465.txt', 'reallife_1_V_754.mp4_frame11467.png', 'reallife_1_V_754.mp4_frame11467.txt', 'reallife_1_V_755.mp4_frame11478.png', 'reallife_1_V_755.mp4_frame11478.txt', 'reallife_1_V_756.mp4_frame11494.png', 'reallife_1_V_756.mp4_frame11494.txt', 'reallife_1_V_757.mp4_frame11505.png', 'reallife_1_V_757.mp4_frame11505.txt', 'reallife_1_V_758.mp4_frame11518.png', 'reallife_1_V_758.mp4_frame11518.txt', 'reallife_1_V_759.mp4_frame11532.png', 'reallife_1_V_759.mp4_frame11532.txt', 'reallife_1_V_761.mp4_frame11577.png', 'reallife_1_V_761.mp4_frame11577.txt', 'reallife_1_V_764.mp4_frame11615.png', 'reallife_1_V_764.mp4_frame11615.txt', 'reallife_1_V_765.mp4_frame11631.png', 'reallife_1_V_765.mp4_frame11631.txt', 'reallife_1_V_766.mp4_frame11640.png', 'reallife_1_V_766.mp4_frame11640.txt', 'reallife_1_V_766.mp4_frame11644.png', 'reallife_1_V_766.mp4_frame11644.txt', 'reallife_1_V_766.mp4_frame11648.png', 'reallife_1_V_766.mp4_frame11648.txt', 'reallife_1_V_766.mp4_frame11651.png', 'reallife_1_V_766.mp4_frame11651.txt', 'reallife_1_V_766.mp4_frame11652.png', 'reallife_1_V_766.mp4_frame11652.txt', 'reallife_1_V_767.mp4_frame11659.png', 'reallife_1_V_767.mp4_frame11659.txt', 'reallife_1_V_767.mp4_frame11660.png', 'reallife_1_V_767.mp4_frame11660.txt', 'reallife_1_V_767.mp4_frame11663.png', 'reallife_1_V_767.mp4_frame11663.txt', 'reallife_1_V_772.mp4_frame11754.png', 'reallife_1_V_772.mp4_frame11754.txt', 'reallife_1_V_774.mp4_frame11774.png', 'reallife_1_V_774.mp4_frame11774.txt', 'reallife_1_V_784.mp4_frame11930.png', 'reallife_1_V_784.mp4_frame11930.txt', 'reallife_1_V_789.mp4_frame12150.png', 'reallife_1_V_789.mp4_frame12150.txt', 'reallife_1_V_789.mp4_frame12808.png', 'reallife_1_V_789.mp4_frame12808.txt', 'reallife_1_V_789.mp4_frame12913.png', 'reallife_1_V_789.mp4_frame12913.txt', 'reallife_1_V_789.mp4_frame12933.png', 'reallife_1_V_789.mp4_frame12933.txt', 'reallife_1_V_790.mp4_frame13147.png', 'reallife_1_V_790.mp4_frame13147.txt', 'reallife_1_V_790.mp4_frame13148.png', 'reallife_1_V_790.mp4_frame13148.txt', 'reallife_1_V_792.mp4_frame13179.png', 'reallife_1_V_792.mp4_frame13179.txt', 'reallife_1_V_793.mp4_frame13187.png', 'reallife_1_V_793.mp4_frame13187.txt', 'reallife_1_V_818.mp4_frame13614.png', 'reallife_1_V_818.mp4_frame13614.txt', 'reallife_1_V_819.mp4_frame13621.png', 'reallife_1_V_819.mp4_frame13621.txt', 'reallife_1_V_819.mp4_frame13623.png', 'reallife_1_V_819.mp4_frame13623.txt', 'reallife_1_V_819.mp4_frame13631.png', 'reallife_1_V_819.mp4_frame13631.txt', 'reallife_1_V_824.mp4_frame13709.png', 'reallife_1_V_824.mp4_frame13709.txt', 'reallife_1_V_831.mp4_frame13837.png', 'reallife_1_V_831.mp4_frame13837.txt', 'reallife_1_V_832.mp4_frame13853.png', 'reallife_1_V_832.mp4_frame13853.txt', 'reallife_1_V_832.mp4_frame13855.png', 'reallife_1_V_832.mp4_frame13855.txt', 'reallife_1_V_833.mp4_frame13859.png', 'reallife_1_V_833.mp4_frame13859.txt', 'reallife_1_V_837.mp4_frame13924.png', 'reallife_1_V_837.mp4_frame13924.txt', 'reallife_1_V_844.mp4_frame14044.png', 'reallife_1_V_844.mp4_frame14044.txt', 'reallife_1_V_844.mp4_frame14045.png', 'reallife_1_V_844.mp4_frame14045.txt', 'reallife_1_V_844.mp4_frame14046.png', 'reallife_1_V_844.mp4_frame14046.txt', 'reallife_1_V_845.mp4_frame14047.png', 'reallife_1_V_845.mp4_frame14047.txt', 'reallife_1_V_845.mp4_frame14053.png', 'reallife_1_V_845.mp4_frame14053.txt', 'reallife_1_V_845.mp4_frame14054.png', 'reallife_1_V_845.mp4_frame14054.txt', 'reallife_1_V_845.mp4_frame14060.png', 'reallife_1_V_845.mp4_frame14060.txt', 'reallife_1_V_850.mp4_frame14137.png', 'reallife_1_V_850.mp4_frame14137.txt', 'reallife_1_V_853.mp4_frame14182.png', 'reallife_1_V_853.mp4_frame14182.txt', 'reallife_1_V_853.mp4_frame14183.png', 'reallife_1_V_853.mp4_frame14183.txt', 'reallife_1_V_854.mp4_frame14187.png', 'reallife_1_V_854.mp4_frame14187.txt', 'reallife_1_V_858.mp4_frame14241.png', 'reallife_1_V_858.mp4_frame14241.txt', 'reallife_1_V_862.mp4_frame14304.png', 'reallife_1_V_862.mp4_frame14304.txt', 'reallife_1_V_862.mp4_frame14305.png', 'reallife_1_V_862.mp4_frame14305.txt', 'reallife_1_V_870.mp4_frame14409.png', 'reallife_1_V_870.mp4_frame14409.txt', 'reallife_1_V_904.mp4_frame14977.png', 'reallife_1_V_904.mp4_frame14977.txt', 'reallife_1_V_904.mp4_frame14986.png', 'reallife_1_V_904.mp4_frame14986.txt', 'reallife_1_V_917.mp4_frame15179.png', 'reallife_1_V_917.mp4_frame15179.txt', 'reallife_1_V_917.mp4_frame15183.png', 'reallife_1_V_917.mp4_frame15183.txt', 'reallife_1_V_918.mp4_frame15193.png', 'reallife_1_V_918.mp4_frame15193.txt', 'reallife_1_V_926.mp4_frame15322.png', 'reallife_1_V_926.mp4_frame15322.txt', 'reallife_1_V_926.mp4_frame15329.png', 'reallife_1_V_926.mp4_frame15329.txt', 'reallife_1_V_939.mp4_frame15538.png', 'reallife_1_V_939.mp4_frame15538.txt', 'reallife_1_V_957.mp4_frame15827.png', 'reallife_1_V_957.mp4_frame15827.txt', 'reallife_1_V_957.mp4_frame15831.png', 'reallife_1_V_957.mp4_frame15831.txt', 'reallife_2_V102.mp4_frame117.png', 'reallife_2_V102.mp4_frame117.txt', 'reallife_2_V102.mp4_frame118.png', 'reallife_2_V102.mp4_frame118.txt', 'reallife_2_V102.mp4_frame121.png', 'reallife_2_V102.mp4_frame121.txt', 'reallife_2_V108.mp4_frame310.png', 'reallife_2_V108.mp4_frame310.txt', 'reallife_2_V11.mp4_frame366.png', 'reallife_2_V11.mp4_frame366.txt', 'reallife_2_V20.mp4_frame724.png', 'reallife_2_V20.mp4_frame724.txt', 'reallife_2_V20.mp4_frame725.png', 'reallife_2_V20.mp4_frame725.txt', 'reallife_2_V21.mp4_frame740.png', 'reallife_2_V21.mp4_frame740.txt', 'reallife_2_V27.mp4_frame927.png', 'reallife_2_V27.mp4_frame927.txt', 'reallife_2_V27.mp4_frame929.png', 'reallife_2_V27.mp4_frame929.txt', 'reallife_2_V30.mp4_frame1042.png', 'reallife_2_V30.mp4_frame1042.txt', 'reallife_2_V30.mp4_frame1043.png', 'reallife_2_V30.mp4_frame1043.txt', 'reallife_2_V32.mp4_frame1103.png', 'reallife_2_V32.mp4_frame1103.txt', 'reallife_2_V32.mp4_frame1104.png', 'reallife_2_V32.mp4_frame1104.txt', 'reallife_2_V4.mp4_frame1325.png', 'reallife_2_V4.mp4_frame1325.txt', 'reallife_2_V4.mp4_frame1327.png', 'reallife_2_V4.mp4_frame1327.txt', 'reallife_2_V48.mp4_frame1575.png', 'reallife_2_V48.mp4_frame1575.txt', 'reallife_2_V55.mp4_frame1767.png', 'reallife_2_V55.mp4_frame1767.txt', 'reallife_2_V55.mp4_frame1778.png', 'reallife_2_V55.mp4_frame1778.txt', 'reallife_2_V55.mp4_frame1781.png', 'reallife_2_V55.mp4_frame1781.txt', 'reallife_2_V55.mp4_frame1790.png', 'reallife_2_V55.mp4_frame1790.txt', 'reallife_2_V6.mp4_frame1933.png', 'reallife_2_V6.mp4_frame1933.txt', 'reallife_2_V61.mp4_frame1985.png', 'reallife_2_V61.mp4_frame1985.txt', 'reallife_2_V61.mp4_frame1996.png', 'reallife_2_V61.mp4_frame1996.txt', 'reallife_2_V66.mp4_frame2133.png', 'reallife_2_V66.mp4_frame2133.txt', 'reallife_2_V66.mp4_frame2142.png', 'reallife_2_V66.mp4_frame2142.txt', 'reallife_2_V68.mp4_frame2178.png', 'reallife_2_V68.mp4_frame2178.txt', 'reallife_2_V68.mp4_frame2184.png', 'reallife_2_V68.mp4_frame2184.txt', 'reallife_2_V68.mp4_frame2187.png', 'reallife_2_V68.mp4_frame2187.txt', 'reallife_2_V72.mp4_frame2309.png', 'reallife_2_V72.mp4_frame2309.txt', 'reallife_2_V77.mp4_frame2428.png', 'reallife_2_V77.mp4_frame2428.txt', 'reallife_2_V77.mp4_frame2429.png', 'reallife_2_V77.mp4_frame2429.txt', 'reallife_2_V80.mp4_frame2542.png', 'reallife_2_V80.mp4_frame2542.txt', 'reallife_2_V80.mp4_frame2543.png', 'reallife_2_V80.mp4_frame2543.txt', 'reallife_2_V80.mp4_frame2553.png', 'reallife_2_V80.mp4_frame2553.txt', 'reallife_2_V80.mp4_frame2562.png', 'reallife_2_V80.mp4_frame2562.txt', 'reallife_2_V83.mp4_frame2643.png', 'reallife_2_V83.mp4_frame2643.txt', 'reallife_2_V85.mp4_frame2718.png', 'reallife_2_V85.mp4_frame2718.txt', 'reallife_2_V86.mp4_frame2727.png', 'reallife_2_V86.mp4_frame2727.txt', 'reallife_2_V86.mp4_frame2730.png', 'reallife_2_V86.mp4_frame2730.txt', 'reallife_2_V91.mp4_frame2914.png', 'reallife_2_V91.mp4_frame2914.txt', 'reallife_2_V92.mp4_frame2946.png', 'reallife_2_V92.mp4_frame2946.txt', 'reallife_2_V92.mp4_frame2948.png', 'reallife_2_V92.mp4_frame2948.txt', 'reallife_2_V97.mp4_frame3087.png', 'reallife_2_V97.mp4_frame3087.txt', 'reallife_2_V97.mp4_frame3090.png', 'reallife_2_V97.mp4_frame3090.txt']\n"
     ]
    }
   ],
   "source": [
    "import os\n",
    "from xml.etree.ElementTree import parse\n",
    "from bs4 import BeautifulSoup\n",
    "from glob import glob\n",
    "\n",
    "# 영상의 의미지를 연속적으로 캡쳐할 수 있게 하는 class\n",
    "# 영상이 있는 경로\n",
    "\n",
    "path = r'D:\\4\\real\\vio_200\\violence1/'\n",
    "file_names = os.listdir(path)\n",
    "xml_files = []\n",
    "print(file_names)\n",
    "\n"
   ]
  },
  {
   "cell_type": "markdown",
   "id": "a7e1cce7",
   "metadata": {},
   "source": [
    "## 폴더 경로 확인"
   ]
  },
  {
   "cell_type": "code",
   "execution_count": 18,
   "id": "47d5366b",
   "metadata": {},
   "outputs": [
    {
     "data": {
      "text/plain": [
       "'E:\\\\ai\\\\frame_image\\\\pushing\\\\croki/'"
      ]
     },
     "execution_count": 18,
     "metadata": {},
     "output_type": "execute_result"
    }
   ],
   "source": [
    "path"
   ]
  },
  {
   "cell_type": "markdown",
   "id": "80b351cc",
   "metadata": {},
   "source": [
    "## labeling 개수 확인"
   ]
  },
  {
   "cell_type": "code",
   "execution_count": 2,
   "id": "faf34568",
   "metadata": {},
   "outputs": [
    {
     "name": "stdout",
     "output_type": "stream",
     "text": [
      "217\n"
     ]
    }
   ],
   "source": [
    "from glob import glob\n",
    "print(len(glob(path + '*.txt')) - 1)"
   ]
  },
  {
   "cell_type": "markdown",
   "id": "e7327946",
   "metadata": {},
   "source": [
    "## 누르면 걍 없어짐  ㅋ ㅋㅋ ㅋㅋㅋ "
   ]
  },
  {
   "cell_type": "code",
   "execution_count": 3,
   "id": "c02e835b",
   "metadata": {},
   "outputs": [],
   "source": [
    "arr = []\n",
    "for name in file_names:\n",
    "    if name[-4:] == \".txt\":\n",
    "        arr.append(name[:-4])\n",
    "        \n",
    "for junk in file_names:\n",
    "    png_path = os.path.join(path, junk)\n",
    "    if junk[:-4] not in arr:\n",
    "        os.remove(png_path)"
   ]
  },
  {
   "cell_type": "code",
   "execution_count": null,
   "id": "572bbc3c",
   "metadata": {},
   "outputs": [],
   "source": []
  }
 ],
 "metadata": {
  "kernelspec": {
   "display_name": "Python 3 (ipykernel)",
   "language": "python",
   "name": "python3"
  },
  "language_info": {
   "codemirror_mode": {
    "name": "ipython",
    "version": 3
   },
   "file_extension": ".py",
   "mimetype": "text/x-python",
   "name": "python",
   "nbconvert_exporter": "python",
   "pygments_lexer": "ipython3",
   "version": "3.9.7"
  }
 },
 "nbformat": 4,
 "nbformat_minor": 5
}
