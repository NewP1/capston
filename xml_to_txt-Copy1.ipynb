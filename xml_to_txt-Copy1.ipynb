{
 "cells": [
  {
   "cell_type": "code",
   "execution_count": 6,
   "id": "8090f72b",
   "metadata": {},
   "outputs": [
    {
     "name": "stdout",
     "output_type": "stream",
     "text": [
      "['punching_0.png', 'punching_0.xml', 'punching_1.png', 'punching_1.xml', 'punching_10.png', 'punching_10.xml', 'punching_11.png', 'punching_11.xml', 'punching_12.png', 'punching_12.xml', 'punching_13.png', 'punching_13.xml', 'punching_14.png', 'punching_14.xml', 'punching_15.png', 'punching_15.xml', 'punching_16.png', 'punching_16.xml', 'punching_17.png', 'punching_17.xml', 'punching_18.png', 'punching_18.xml', 'punching_19.png', 'punching_19.xml', 'punching_2.png', 'punching_2.xml', 'punching_20.png', 'punching_20.xml', 'punching_21.png', 'punching_21.xml', 'punching_22.png', 'punching_22.xml', 'punching_23.png', 'punching_23.xml', 'punching_24.png', 'punching_24.xml', 'punching_25.png', 'punching_25.xml', 'punching_26.png', 'punching_26.xml', 'punching_27.png', 'punching_27.xml', 'punching_28.png', 'punching_28.xml', 'punching_29.png', 'punching_29.xml', 'punching_3.png', 'punching_3.xml', 'punching_30.png', 'punching_30.xml', 'punching_31.png', 'punching_31.xml', 'punching_32.png', 'punching_32.xml', 'punching_33.png', 'punching_33.xml', 'punching_34.png', 'punching_34.xml', 'punching_35.png', 'punching_35.xml', 'punching_36.png', 'punching_36.xml', 'punching_37.png', 'punching_37.xml', 'punching_38.png', 'punching_38.xml', 'punching_39.png', 'punching_39.xml', 'punching_4.png', 'punching_4.xml', 'punching_40.png', 'punching_40.xml', 'punching_41.png', 'punching_41.xml', 'punching_42.png', 'punching_42.xml', 'punching_43.png', 'punching_43.xml', 'punching_44.png', 'punching_44.xml', 'punching_45.png', 'punching_45.xml', 'punching_46.png', 'punching_46.xml', 'punching_47.png', 'punching_47.xml', 'punching_48.png', 'punching_48.xml', 'punching_49.png', 'punching_49.xml', 'punching_5.png', 'punching_5.xml', 'punching_50.png', 'punching_50.xml', 'punching_51.png', 'punching_51.xml', 'punching_52.png', 'punching_52.xml', 'punching_53.png', 'punching_53.xml', 'punching_54.png', 'punching_54.xml', 'punching_55.png', 'punching_55.xml', 'punching_56.png', 'punching_56.xml', 'punching_57.png', 'punching_57.xml', 'punching_58.png', 'punching_58.xml', 'punching_59.png', 'punching_59.xml', 'punching_6.png', 'punching_6.xml', 'punching_60.png', 'punching_60.xml', 'punching_61.png', 'punching_61.xml', 'punching_62.png', 'punching_62.xml', 'punching_63.png', 'punching_63.xml', 'punching_64.png', 'punching_64.xml', 'punching_65.png', 'punching_65.xml', 'punching_66.png', 'punching_66.xml', 'punching_67.png', 'punching_67.xml', 'punching_68.png', 'punching_68.xml', 'punching_69.png', 'punching_69.xml', 'punching_7.png', 'punching_7.xml', 'punching_70.png', 'punching_70.xml', 'punching_71.png', 'punching_71.xml', 'punching_72.png', 'punching_72.xml', 'punching_73.png', 'punching_73.xml', 'punching_74.png', 'punching_74.xml', 'punching_75.png', 'punching_75.xml', 'punching_76.png', 'punching_76.xml', 'punching_77.png', 'punching_77.xml', 'punching_78.png', 'punching_78.xml', 'punching_79.png', 'punching_79.xml', 'punching_8.png', 'punching_8.xml', 'punching_80.png', 'punching_80.xml', 'punching_81.png', 'punching_81.xml', 'punching_82.png', 'punching_82.xml', 'punching_83.png', 'punching_83.xml', 'punching_84.png', 'punching_84.xml', 'punching_85.png', 'punching_85.xml', 'punching_86.png', 'punching_86.xml', 'punching_87.png', 'punching_87.xml', 'punching_88.png', 'punching_88.xml', 'punching_89.png', 'punching_89.xml', 'punching_9.png', 'punching_9.xml', 'punching_90.png', 'punching_90.xml', 'punching_91.png', 'punching_91.xml', 'punching_92.png', 'punching_92.xml', 'punching_93.png', 'punching_93.xml', 'punching_94.png', 'punching_94.xml', 'punching_95.png', 'punching_95.xml', 'punching_96.png', 'punching_96.xml', 'punching_97.png', 'punching_97.xml', 'punching_98.png', 'punching_98.xml', 'punching_99.png', 'punching_99.xml']\n",
      "['punching_0.xml', 'punching_1.xml', 'punching_10.xml', 'punching_11.xml', 'punching_12.xml', 'punching_13.xml', 'punching_14.xml', 'punching_15.xml', 'punching_16.xml', 'punching_17.xml', 'punching_18.xml', 'punching_19.xml', 'punching_2.xml', 'punching_20.xml', 'punching_21.xml', 'punching_22.xml', 'punching_23.xml', 'punching_24.xml', 'punching_25.xml', 'punching_26.xml', 'punching_27.xml', 'punching_28.xml', 'punching_29.xml', 'punching_3.xml', 'punching_30.xml', 'punching_31.xml', 'punching_32.xml', 'punching_33.xml', 'punching_34.xml', 'punching_35.xml', 'punching_36.xml', 'punching_37.xml', 'punching_38.xml', 'punching_39.xml', 'punching_4.xml', 'punching_40.xml', 'punching_41.xml', 'punching_42.xml', 'punching_43.xml', 'punching_44.xml', 'punching_45.xml', 'punching_46.xml', 'punching_47.xml', 'punching_48.xml', 'punching_49.xml', 'punching_5.xml', 'punching_50.xml', 'punching_51.xml', 'punching_52.xml', 'punching_53.xml', 'punching_54.xml', 'punching_55.xml', 'punching_56.xml', 'punching_57.xml', 'punching_58.xml', 'punching_59.xml', 'punching_6.xml', 'punching_60.xml', 'punching_61.xml', 'punching_62.xml', 'punching_63.xml', 'punching_64.xml', 'punching_65.xml', 'punching_66.xml', 'punching_67.xml', 'punching_68.xml', 'punching_69.xml', 'punching_7.xml', 'punching_70.xml', 'punching_71.xml', 'punching_72.xml', 'punching_73.xml', 'punching_74.xml', 'punching_75.xml', 'punching_76.xml', 'punching_77.xml', 'punching_78.xml', 'punching_79.xml', 'punching_8.xml', 'punching_80.xml', 'punching_81.xml', 'punching_82.xml', 'punching_83.xml', 'punching_84.xml', 'punching_85.xml', 'punching_86.xml', 'punching_87.xml', 'punching_88.xml', 'punching_89.xml', 'punching_9.xml', 'punching_90.xml', 'punching_91.xml', 'punching_92.xml', 'punching_93.xml', 'punching_94.xml', 'punching_95.xml', 'punching_96.xml', 'punching_97.xml', 'punching_98.xml', 'punching_99.xml']\n"
     ]
    }
   ],
   "source": [
    "import os\n",
    "from xml.etree.ElementTree import parse\n",
    "from bs4 import BeautifulSoup\n",
    "from glob import glob\n",
    "\n",
    "# 영상의 의미지를 연속적으로 캡쳐할 수 있게 하는 class\n",
    "# 영상이 있는 경로\n",
    "\n",
    "path = r'C:\\Users\\jaehy\\Desktop\\5\\punch_416/'\n",
    "file_names = os.listdir(path)\n",
    "xml_files = []\n",
    "print(file_names)\n",
    "for file_name in file_names:\n",
    "    if file_name[-4:] == \".xml\":\n",
    "        xml_files.append(file_name)\n",
    "print(xml_files)\n",
    "\n",
    "act = {'Violence1' : 0, 'Violence2':1, 'Punch':2, 'Kick':3,\n",
    "       'Falldown':4}\n"
   ]
  },
  {
   "cell_type": "markdown",
   "id": "4348b2a7",
   "metadata": {},
   "source": [
    "## xml -> txt ( Yolo로 변경 )"
   ]
  },
  {
   "cell_type": "code",
   "execution_count": 7,
   "id": "dc1c6d34",
   "metadata": {},
   "outputs": [],
   "source": [
    "for_junk_image = ['classes']\n",
    "for xml_file in xml_files:\n",
    "    file_name = xml_file[:-4]\n",
    "    for_junk_image.append(file_name)\n",
    "    xml_path = os.path.join(path, xml_file)\n",
    "    \n",
    "    xml = open(xml_path, 'r')\n",
    "    soup = BeautifulSoup(xml.read(), 'xml')\n",
    "    f = open(path + file_name + '.txt', 'w')\n",
    "    \n",
    "    \n",
    "    # 프레임 사이즈\n",
    "    frame_size = soup.find('size')\n",
    "    width = int(frame_size.find('width').text)\n",
    "    height = int(frame_size.find('height').text)\n",
    "    \n",
    "    object = soup.find_all('object')\n",
    "    \n",
    "    for obj in object:\n",
    "        \n",
    "        act_name = obj.find('name').text\n",
    "        idx = str(act[act_name])    # index 값\n",
    "        \n",
    "        box = obj.find('bndbox')\n",
    "        box_location_x = (float(obj.find('xmin').text) + float(obj.find('xmax').text)) / 2\n",
    "        x_length = (float(obj.find('xmax').text) - float(obj.find('xmin').text)) \n",
    "        box_location_y = (float(obj.find('ymin').text) + float(obj.find('ymax').text)) / 2\n",
    "        y_length = (float(obj.find('ymax').text) - float(obj.find('ymin').text))\n",
    "#         print(box_location_x, box_location_y)\n",
    "#         print(x_length, y_length)\n",
    "        \n",
    "        per_box_loc_x = str(box_location_x / width)\n",
    "        per_box_loc_y = str(box_location_y / height)\n",
    "#         print(per_box_loc_x, per_box_loc_y)\n",
    "        \n",
    "        per_x_length = str(x_length / width)\n",
    "        per_y_length = str(y_length / height)\n",
    "        \n",
    "#         print(per_x_length, per_y_length)\n",
    "        \n",
    "        \n",
    "        data = idx + ' ' + per_box_loc_x + ' ' + per_box_loc_y + ' ' + per_x_length + ' ' + per_y_length + '\\n'\n",
    "        \n",
    "        f.write(data)\n",
    "        \n",
    "    f.close()\n",
    "    xml.close()"
   ]
  },
  {
   "cell_type": "markdown",
   "id": "a7e1cce7",
   "metadata": {},
   "source": [
    "## 폴더 경로 확인"
   ]
  },
  {
   "cell_type": "code",
   "execution_count": 8,
   "id": "47d5366b",
   "metadata": {},
   "outputs": [
    {
     "data": {
      "text/plain": [
       "'C:\\\\Users\\\\jaehy\\\\Desktop\\\\5\\\\punch_416/'"
      ]
     },
     "execution_count": 8,
     "metadata": {},
     "output_type": "execute_result"
    }
   ],
   "source": [
    "path"
   ]
  },
  {
   "cell_type": "markdown",
   "id": "39053d8b",
   "metadata": {},
   "source": [
    "## xml 파일 있던거 삭제"
   ]
  },
  {
   "cell_type": "code",
   "execution_count": 9,
   "id": "8d8f6575",
   "metadata": {},
   "outputs": [
    {
     "name": "stdout",
     "output_type": "stream",
     "text": [
      "C:\\Users\\jaehy\\Desktop\\5\\punch_416/punching_0.xml\n",
      "C:\\Users\\jaehy\\Desktop\\5\\punch_416/punching_1.xml\n",
      "C:\\Users\\jaehy\\Desktop\\5\\punch_416/punching_10.xml\n",
      "C:\\Users\\jaehy\\Desktop\\5\\punch_416/punching_11.xml\n",
      "C:\\Users\\jaehy\\Desktop\\5\\punch_416/punching_12.xml\n",
      "C:\\Users\\jaehy\\Desktop\\5\\punch_416/punching_13.xml\n",
      "C:\\Users\\jaehy\\Desktop\\5\\punch_416/punching_14.xml\n",
      "C:\\Users\\jaehy\\Desktop\\5\\punch_416/punching_15.xml\n",
      "C:\\Users\\jaehy\\Desktop\\5\\punch_416/punching_16.xml\n",
      "C:\\Users\\jaehy\\Desktop\\5\\punch_416/punching_17.xml\n",
      "C:\\Users\\jaehy\\Desktop\\5\\punch_416/punching_18.xml\n",
      "C:\\Users\\jaehy\\Desktop\\5\\punch_416/punching_19.xml\n",
      "C:\\Users\\jaehy\\Desktop\\5\\punch_416/punching_2.xml\n",
      "C:\\Users\\jaehy\\Desktop\\5\\punch_416/punching_20.xml\n",
      "C:\\Users\\jaehy\\Desktop\\5\\punch_416/punching_21.xml\n",
      "C:\\Users\\jaehy\\Desktop\\5\\punch_416/punching_22.xml\n",
      "C:\\Users\\jaehy\\Desktop\\5\\punch_416/punching_23.xml\n",
      "C:\\Users\\jaehy\\Desktop\\5\\punch_416/punching_24.xml\n",
      "C:\\Users\\jaehy\\Desktop\\5\\punch_416/punching_25.xml\n",
      "C:\\Users\\jaehy\\Desktop\\5\\punch_416/punching_26.xml\n",
      "C:\\Users\\jaehy\\Desktop\\5\\punch_416/punching_27.xml\n",
      "C:\\Users\\jaehy\\Desktop\\5\\punch_416/punching_28.xml\n",
      "C:\\Users\\jaehy\\Desktop\\5\\punch_416/punching_29.xml\n",
      "C:\\Users\\jaehy\\Desktop\\5\\punch_416/punching_3.xml\n",
      "C:\\Users\\jaehy\\Desktop\\5\\punch_416/punching_30.xml\n",
      "C:\\Users\\jaehy\\Desktop\\5\\punch_416/punching_31.xml\n",
      "C:\\Users\\jaehy\\Desktop\\5\\punch_416/punching_32.xml\n",
      "C:\\Users\\jaehy\\Desktop\\5\\punch_416/punching_33.xml\n",
      "C:\\Users\\jaehy\\Desktop\\5\\punch_416/punching_34.xml\n",
      "C:\\Users\\jaehy\\Desktop\\5\\punch_416/punching_35.xml\n",
      "C:\\Users\\jaehy\\Desktop\\5\\punch_416/punching_36.xml\n",
      "C:\\Users\\jaehy\\Desktop\\5\\punch_416/punching_37.xml\n",
      "C:\\Users\\jaehy\\Desktop\\5\\punch_416/punching_38.xml\n",
      "C:\\Users\\jaehy\\Desktop\\5\\punch_416/punching_39.xml\n",
      "C:\\Users\\jaehy\\Desktop\\5\\punch_416/punching_4.xml\n",
      "C:\\Users\\jaehy\\Desktop\\5\\punch_416/punching_40.xml\n",
      "C:\\Users\\jaehy\\Desktop\\5\\punch_416/punching_41.xml\n",
      "C:\\Users\\jaehy\\Desktop\\5\\punch_416/punching_42.xml\n",
      "C:\\Users\\jaehy\\Desktop\\5\\punch_416/punching_43.xml\n",
      "C:\\Users\\jaehy\\Desktop\\5\\punch_416/punching_44.xml\n",
      "C:\\Users\\jaehy\\Desktop\\5\\punch_416/punching_45.xml\n",
      "C:\\Users\\jaehy\\Desktop\\5\\punch_416/punching_46.xml\n",
      "C:\\Users\\jaehy\\Desktop\\5\\punch_416/punching_47.xml\n",
      "C:\\Users\\jaehy\\Desktop\\5\\punch_416/punching_48.xml\n",
      "C:\\Users\\jaehy\\Desktop\\5\\punch_416/punching_49.xml\n",
      "C:\\Users\\jaehy\\Desktop\\5\\punch_416/punching_5.xml\n",
      "C:\\Users\\jaehy\\Desktop\\5\\punch_416/punching_50.xml\n",
      "C:\\Users\\jaehy\\Desktop\\5\\punch_416/punching_51.xml\n",
      "C:\\Users\\jaehy\\Desktop\\5\\punch_416/punching_52.xml\n",
      "C:\\Users\\jaehy\\Desktop\\5\\punch_416/punching_53.xml\n",
      "C:\\Users\\jaehy\\Desktop\\5\\punch_416/punching_54.xml\n",
      "C:\\Users\\jaehy\\Desktop\\5\\punch_416/punching_55.xml\n",
      "C:\\Users\\jaehy\\Desktop\\5\\punch_416/punching_56.xml\n",
      "C:\\Users\\jaehy\\Desktop\\5\\punch_416/punching_57.xml\n",
      "C:\\Users\\jaehy\\Desktop\\5\\punch_416/punching_58.xml\n",
      "C:\\Users\\jaehy\\Desktop\\5\\punch_416/punching_59.xml\n",
      "C:\\Users\\jaehy\\Desktop\\5\\punch_416/punching_6.xml\n",
      "C:\\Users\\jaehy\\Desktop\\5\\punch_416/punching_60.xml\n",
      "C:\\Users\\jaehy\\Desktop\\5\\punch_416/punching_61.xml\n",
      "C:\\Users\\jaehy\\Desktop\\5\\punch_416/punching_62.xml\n",
      "C:\\Users\\jaehy\\Desktop\\5\\punch_416/punching_63.xml\n",
      "C:\\Users\\jaehy\\Desktop\\5\\punch_416/punching_64.xml\n",
      "C:\\Users\\jaehy\\Desktop\\5\\punch_416/punching_65.xml\n",
      "C:\\Users\\jaehy\\Desktop\\5\\punch_416/punching_66.xml\n",
      "C:\\Users\\jaehy\\Desktop\\5\\punch_416/punching_67.xml\n",
      "C:\\Users\\jaehy\\Desktop\\5\\punch_416/punching_68.xml\n",
      "C:\\Users\\jaehy\\Desktop\\5\\punch_416/punching_69.xml\n",
      "C:\\Users\\jaehy\\Desktop\\5\\punch_416/punching_7.xml\n",
      "C:\\Users\\jaehy\\Desktop\\5\\punch_416/punching_70.xml\n",
      "C:\\Users\\jaehy\\Desktop\\5\\punch_416/punching_71.xml\n",
      "C:\\Users\\jaehy\\Desktop\\5\\punch_416/punching_72.xml\n",
      "C:\\Users\\jaehy\\Desktop\\5\\punch_416/punching_73.xml\n",
      "C:\\Users\\jaehy\\Desktop\\5\\punch_416/punching_74.xml\n",
      "C:\\Users\\jaehy\\Desktop\\5\\punch_416/punching_75.xml\n",
      "C:\\Users\\jaehy\\Desktop\\5\\punch_416/punching_76.xml\n",
      "C:\\Users\\jaehy\\Desktop\\5\\punch_416/punching_77.xml\n",
      "C:\\Users\\jaehy\\Desktop\\5\\punch_416/punching_78.xml\n",
      "C:\\Users\\jaehy\\Desktop\\5\\punch_416/punching_79.xml\n",
      "C:\\Users\\jaehy\\Desktop\\5\\punch_416/punching_8.xml\n",
      "C:\\Users\\jaehy\\Desktop\\5\\punch_416/punching_80.xml\n",
      "C:\\Users\\jaehy\\Desktop\\5\\punch_416/punching_81.xml\n",
      "C:\\Users\\jaehy\\Desktop\\5\\punch_416/punching_82.xml\n",
      "C:\\Users\\jaehy\\Desktop\\5\\punch_416/punching_83.xml\n",
      "C:\\Users\\jaehy\\Desktop\\5\\punch_416/punching_84.xml\n",
      "C:\\Users\\jaehy\\Desktop\\5\\punch_416/punching_85.xml\n",
      "C:\\Users\\jaehy\\Desktop\\5\\punch_416/punching_86.xml\n",
      "C:\\Users\\jaehy\\Desktop\\5\\punch_416/punching_87.xml\n",
      "C:\\Users\\jaehy\\Desktop\\5\\punch_416/punching_88.xml\n",
      "C:\\Users\\jaehy\\Desktop\\5\\punch_416/punching_89.xml\n",
      "C:\\Users\\jaehy\\Desktop\\5\\punch_416/punching_9.xml\n",
      "C:\\Users\\jaehy\\Desktop\\5\\punch_416/punching_90.xml\n",
      "C:\\Users\\jaehy\\Desktop\\5\\punch_416/punching_91.xml\n",
      "C:\\Users\\jaehy\\Desktop\\5\\punch_416/punching_92.xml\n",
      "C:\\Users\\jaehy\\Desktop\\5\\punch_416/punching_93.xml\n",
      "C:\\Users\\jaehy\\Desktop\\5\\punch_416/punching_94.xml\n",
      "C:\\Users\\jaehy\\Desktop\\5\\punch_416/punching_95.xml\n",
      "C:\\Users\\jaehy\\Desktop\\5\\punch_416/punching_96.xml\n",
      "C:\\Users\\jaehy\\Desktop\\5\\punch_416/punching_97.xml\n",
      "C:\\Users\\jaehy\\Desktop\\5\\punch_416/punching_98.xml\n",
      "C:\\Users\\jaehy\\Desktop\\5\\punch_416/punching_99.xml\n"
     ]
    }
   ],
   "source": [
    "for name in xml_files:\n",
    "    xml_path = os.path.join(path, name)\n",
    "    print(xml_path)\n",
    "    \n",
    "    if os.path.isfile(xml_path):\n",
    "        os.remove(xml_path)"
   ]
  },
  {
   "cell_type": "markdown",
   "id": "80b351cc",
   "metadata": {},
   "source": [
    "## labeling 개수 확인"
   ]
  },
  {
   "cell_type": "code",
   "execution_count": 5,
   "id": "faf34568",
   "metadata": {},
   "outputs": [
    {
     "name": "stdout",
     "output_type": "stream",
     "text": [
      "200\n"
     ]
    }
   ],
   "source": [
    "from glob import glob\n",
    "print(len(glob(path + '*.png')))"
   ]
  },
  {
   "cell_type": "markdown",
   "id": "95b43d32",
   "metadata": {},
   "source": [
    "# 여기 아래있는 코드는 라벨링 안한 사진들 삭제하는 부분 👇👇👇👇👇"
   ]
  },
  {
   "cell_type": "markdown",
   "id": "4633d72f",
   "metadata": {},
   "source": [
    "# 굉장히 조심히 다룰 것, labeling 끝나면 주석 풀어서 돌려야댐 \n",
    "\n",
    "# 진짜!!!!!!!!!!!!!!!!!!!!!!!!!!!!!!!!!!!!!!!!!!!!!!!!!!!!!!!!!!!!!!!!!\n",
    "\n",
    "# 사진 없어졌다 하면 진짜 슬픔"
   ]
  },
  {
   "cell_type": "code",
   "execution_count": 7,
   "id": "326f711f",
   "metadata": {},
   "outputs": [],
   "source": [
    "# for junk in file_names:\n",
    "#     png_path = os.path.join(path, junk)\n",
    "#     if junk[:-4] not in for_junk_image:\n",
    "#         os.remove(png_path)"
   ]
  },
  {
   "cell_type": "markdown",
   "id": "e7327946",
   "metadata": {},
   "source": [
    "## 누르면 걍 없어짐  ㅋ ㅋㅋ ㅋㅋㅋ "
   ]
  }
 ],
 "metadata": {
  "kernelspec": {
   "display_name": "Python 3 (ipykernel)",
   "language": "python",
   "name": "python3"
  },
  "language_info": {
   "codemirror_mode": {
    "name": "ipython",
    "version": 3
   },
   "file_extension": ".py",
   "mimetype": "text/x-python",
   "name": "python",
   "nbconvert_exporter": "python",
   "pygments_lexer": "ipython3",
   "version": "3.9.13"
  }
 },
 "nbformat": 4,
 "nbformat_minor": 5
}
