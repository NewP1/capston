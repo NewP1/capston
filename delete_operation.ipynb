{
 "cells": [
  {
   "cell_type": "code",
   "execution_count": 8,
   "id": "46d04a9e",
   "metadata": {},
   "outputs": [
    {
     "name": "stdout",
     "output_type": "stream",
     "text": [
      "['D:\\\\4\\\\real\\\\vio_200\\\\violence1\\\\violence1_0.txt', 'D:\\\\4\\\\real\\\\vio_200\\\\violence1\\\\violence1_1.txt', 'D:\\\\4\\\\real\\\\vio_200\\\\violence1\\\\violence1_10.txt', 'D:\\\\4\\\\real\\\\vio_200\\\\violence1\\\\violence1_100.txt', 'D:\\\\4\\\\real\\\\vio_200\\\\violence1\\\\violence1_101.txt', 'D:\\\\4\\\\real\\\\vio_200\\\\violence1\\\\violence1_102.txt', 'D:\\\\4\\\\real\\\\vio_200\\\\violence1\\\\violence1_103.txt', 'D:\\\\4\\\\real\\\\vio_200\\\\violence1\\\\violence1_104.txt', 'D:\\\\4\\\\real\\\\vio_200\\\\violence1\\\\violence1_105.txt', 'D:\\\\4\\\\real\\\\vio_200\\\\violence1\\\\violence1_106.txt', 'D:\\\\4\\\\real\\\\vio_200\\\\violence1\\\\violence1_107.txt', 'D:\\\\4\\\\real\\\\vio_200\\\\violence1\\\\violence1_108.txt', 'D:\\\\4\\\\real\\\\vio_200\\\\violence1\\\\violence1_109.txt', 'D:\\\\4\\\\real\\\\vio_200\\\\violence1\\\\violence1_11.txt', 'D:\\\\4\\\\real\\\\vio_200\\\\violence1\\\\violence1_110.txt', 'D:\\\\4\\\\real\\\\vio_200\\\\violence1\\\\violence1_111.txt', 'D:\\\\4\\\\real\\\\vio_200\\\\violence1\\\\violence1_112.txt', 'D:\\\\4\\\\real\\\\vio_200\\\\violence1\\\\violence1_113.txt', 'D:\\\\4\\\\real\\\\vio_200\\\\violence1\\\\violence1_114.txt', 'D:\\\\4\\\\real\\\\vio_200\\\\violence1\\\\violence1_115.txt', 'D:\\\\4\\\\real\\\\vio_200\\\\violence1\\\\violence1_116.txt', 'D:\\\\4\\\\real\\\\vio_200\\\\violence1\\\\violence1_117.txt', 'D:\\\\4\\\\real\\\\vio_200\\\\violence1\\\\violence1_118.txt', 'D:\\\\4\\\\real\\\\vio_200\\\\violence1\\\\violence1_119.txt', 'D:\\\\4\\\\real\\\\vio_200\\\\violence1\\\\violence1_12.txt', 'D:\\\\4\\\\real\\\\vio_200\\\\violence1\\\\violence1_120.txt', 'D:\\\\4\\\\real\\\\vio_200\\\\violence1\\\\violence1_121.txt', 'D:\\\\4\\\\real\\\\vio_200\\\\violence1\\\\violence1_122.txt', 'D:\\\\4\\\\real\\\\vio_200\\\\violence1\\\\violence1_123.txt', 'D:\\\\4\\\\real\\\\vio_200\\\\violence1\\\\violence1_124.txt', 'D:\\\\4\\\\real\\\\vio_200\\\\violence1\\\\violence1_125.txt', 'D:\\\\4\\\\real\\\\vio_200\\\\violence1\\\\violence1_126.txt', 'D:\\\\4\\\\real\\\\vio_200\\\\violence1\\\\violence1_127.txt', 'D:\\\\4\\\\real\\\\vio_200\\\\violence1\\\\violence1_128.txt', 'D:\\\\4\\\\real\\\\vio_200\\\\violence1\\\\violence1_129.txt', 'D:\\\\4\\\\real\\\\vio_200\\\\violence1\\\\violence1_13.txt', 'D:\\\\4\\\\real\\\\vio_200\\\\violence1\\\\violence1_130.txt', 'D:\\\\4\\\\real\\\\vio_200\\\\violence1\\\\violence1_131.txt', 'D:\\\\4\\\\real\\\\vio_200\\\\violence1\\\\violence1_132.txt', 'D:\\\\4\\\\real\\\\vio_200\\\\violence1\\\\violence1_133.txt', 'D:\\\\4\\\\real\\\\vio_200\\\\violence1\\\\violence1_134.txt', 'D:\\\\4\\\\real\\\\vio_200\\\\violence1\\\\violence1_135.txt', 'D:\\\\4\\\\real\\\\vio_200\\\\violence1\\\\violence1_136.txt', 'D:\\\\4\\\\real\\\\vio_200\\\\violence1\\\\violence1_137.txt', 'D:\\\\4\\\\real\\\\vio_200\\\\violence1\\\\violence1_138.txt', 'D:\\\\4\\\\real\\\\vio_200\\\\violence1\\\\violence1_139.txt', 'D:\\\\4\\\\real\\\\vio_200\\\\violence1\\\\violence1_14.txt', 'D:\\\\4\\\\real\\\\vio_200\\\\violence1\\\\violence1_140.txt', 'D:\\\\4\\\\real\\\\vio_200\\\\violence1\\\\violence1_141.txt', 'D:\\\\4\\\\real\\\\vio_200\\\\violence1\\\\violence1_142.txt', 'D:\\\\4\\\\real\\\\vio_200\\\\violence1\\\\violence1_143.txt', 'D:\\\\4\\\\real\\\\vio_200\\\\violence1\\\\violence1_144.txt', 'D:\\\\4\\\\real\\\\vio_200\\\\violence1\\\\violence1_145.txt', 'D:\\\\4\\\\real\\\\vio_200\\\\violence1\\\\violence1_146.txt', 'D:\\\\4\\\\real\\\\vio_200\\\\violence1\\\\violence1_147.txt', 'D:\\\\4\\\\real\\\\vio_200\\\\violence1\\\\violence1_148.txt', 'D:\\\\4\\\\real\\\\vio_200\\\\violence1\\\\violence1_149.txt', 'D:\\\\4\\\\real\\\\vio_200\\\\violence1\\\\violence1_15.txt', 'D:\\\\4\\\\real\\\\vio_200\\\\violence1\\\\violence1_150.txt', 'D:\\\\4\\\\real\\\\vio_200\\\\violence1\\\\violence1_151.txt', 'D:\\\\4\\\\real\\\\vio_200\\\\violence1\\\\violence1_152.txt', 'D:\\\\4\\\\real\\\\vio_200\\\\violence1\\\\violence1_153.txt', 'D:\\\\4\\\\real\\\\vio_200\\\\violence1\\\\violence1_154.txt', 'D:\\\\4\\\\real\\\\vio_200\\\\violence1\\\\violence1_155.txt', 'D:\\\\4\\\\real\\\\vio_200\\\\violence1\\\\violence1_156.txt', 'D:\\\\4\\\\real\\\\vio_200\\\\violence1\\\\violence1_157.txt', 'D:\\\\4\\\\real\\\\vio_200\\\\violence1\\\\violence1_158.txt', 'D:\\\\4\\\\real\\\\vio_200\\\\violence1\\\\violence1_159.txt', 'D:\\\\4\\\\real\\\\vio_200\\\\violence1\\\\violence1_16.txt', 'D:\\\\4\\\\real\\\\vio_200\\\\violence1\\\\violence1_160.txt', 'D:\\\\4\\\\real\\\\vio_200\\\\violence1\\\\violence1_161.txt', 'D:\\\\4\\\\real\\\\vio_200\\\\violence1\\\\violence1_162.txt', 'D:\\\\4\\\\real\\\\vio_200\\\\violence1\\\\violence1_163.txt', 'D:\\\\4\\\\real\\\\vio_200\\\\violence1\\\\violence1_164.txt', 'D:\\\\4\\\\real\\\\vio_200\\\\violence1\\\\violence1_165.txt', 'D:\\\\4\\\\real\\\\vio_200\\\\violence1\\\\violence1_166.txt', 'D:\\\\4\\\\real\\\\vio_200\\\\violence1\\\\violence1_167.txt', 'D:\\\\4\\\\real\\\\vio_200\\\\violence1\\\\violence1_168.txt', 'D:\\\\4\\\\real\\\\vio_200\\\\violence1\\\\violence1_169.txt', 'D:\\\\4\\\\real\\\\vio_200\\\\violence1\\\\violence1_17.txt', 'D:\\\\4\\\\real\\\\vio_200\\\\violence1\\\\violence1_170.txt', 'D:\\\\4\\\\real\\\\vio_200\\\\violence1\\\\violence1_171.txt', 'D:\\\\4\\\\real\\\\vio_200\\\\violence1\\\\violence1_172.txt', 'D:\\\\4\\\\real\\\\vio_200\\\\violence1\\\\violence1_173.txt', 'D:\\\\4\\\\real\\\\vio_200\\\\violence1\\\\violence1_174.txt', 'D:\\\\4\\\\real\\\\vio_200\\\\violence1\\\\violence1_175.txt', 'D:\\\\4\\\\real\\\\vio_200\\\\violence1\\\\violence1_176.txt', 'D:\\\\4\\\\real\\\\vio_200\\\\violence1\\\\violence1_177.txt', 'D:\\\\4\\\\real\\\\vio_200\\\\violence1\\\\violence1_178.txt', 'D:\\\\4\\\\real\\\\vio_200\\\\violence1\\\\violence1_179.txt', 'D:\\\\4\\\\real\\\\vio_200\\\\violence1\\\\violence1_18.txt', 'D:\\\\4\\\\real\\\\vio_200\\\\violence1\\\\violence1_180.txt', 'D:\\\\4\\\\real\\\\vio_200\\\\violence1\\\\violence1_181.txt', 'D:\\\\4\\\\real\\\\vio_200\\\\violence1\\\\violence1_182.txt', 'D:\\\\4\\\\real\\\\vio_200\\\\violence1\\\\violence1_183.txt', 'D:\\\\4\\\\real\\\\vio_200\\\\violence1\\\\violence1_184.txt', 'D:\\\\4\\\\real\\\\vio_200\\\\violence1\\\\violence1_185.txt', 'D:\\\\4\\\\real\\\\vio_200\\\\violence1\\\\violence1_186.txt', 'D:\\\\4\\\\real\\\\vio_200\\\\violence1\\\\violence1_187.txt', 'D:\\\\4\\\\real\\\\vio_200\\\\violence1\\\\violence1_188.txt', 'D:\\\\4\\\\real\\\\vio_200\\\\violence1\\\\violence1_189.txt', 'D:\\\\4\\\\real\\\\vio_200\\\\violence1\\\\violence1_19.txt', 'D:\\\\4\\\\real\\\\vio_200\\\\violence1\\\\violence1_190.txt', 'D:\\\\4\\\\real\\\\vio_200\\\\violence1\\\\violence1_191.txt', 'D:\\\\4\\\\real\\\\vio_200\\\\violence1\\\\violence1_192.txt', 'D:\\\\4\\\\real\\\\vio_200\\\\violence1\\\\violence1_193.txt', 'D:\\\\4\\\\real\\\\vio_200\\\\violence1\\\\violence1_194.txt', 'D:\\\\4\\\\real\\\\vio_200\\\\violence1\\\\violence1_195.txt', 'D:\\\\4\\\\real\\\\vio_200\\\\violence1\\\\violence1_196.txt', 'D:\\\\4\\\\real\\\\vio_200\\\\violence1\\\\violence1_197.txt', 'D:\\\\4\\\\real\\\\vio_200\\\\violence1\\\\violence1_2.txt', 'D:\\\\4\\\\real\\\\vio_200\\\\violence1\\\\violence1_20.txt', 'D:\\\\4\\\\real\\\\vio_200\\\\violence1\\\\violence1_21.txt', 'D:\\\\4\\\\real\\\\vio_200\\\\violence1\\\\violence1_22.txt', 'D:\\\\4\\\\real\\\\vio_200\\\\violence1\\\\violence1_23.txt', 'D:\\\\4\\\\real\\\\vio_200\\\\violence1\\\\violence1_24.txt', 'D:\\\\4\\\\real\\\\vio_200\\\\violence1\\\\violence1_25.txt', 'D:\\\\4\\\\real\\\\vio_200\\\\violence1\\\\violence1_26.txt', 'D:\\\\4\\\\real\\\\vio_200\\\\violence1\\\\violence1_27.txt', 'D:\\\\4\\\\real\\\\vio_200\\\\violence1\\\\violence1_28.txt', 'D:\\\\4\\\\real\\\\vio_200\\\\violence1\\\\violence1_29.txt', 'D:\\\\4\\\\real\\\\vio_200\\\\violence1\\\\violence1_3.txt', 'D:\\\\4\\\\real\\\\vio_200\\\\violence1\\\\violence1_30.txt', 'D:\\\\4\\\\real\\\\vio_200\\\\violence1\\\\violence1_31.txt', 'D:\\\\4\\\\real\\\\vio_200\\\\violence1\\\\violence1_32.txt', 'D:\\\\4\\\\real\\\\vio_200\\\\violence1\\\\violence1_33.txt', 'D:\\\\4\\\\real\\\\vio_200\\\\violence1\\\\violence1_34.txt', 'D:\\\\4\\\\real\\\\vio_200\\\\violence1\\\\violence1_35.txt', 'D:\\\\4\\\\real\\\\vio_200\\\\violence1\\\\violence1_36.txt', 'D:\\\\4\\\\real\\\\vio_200\\\\violence1\\\\violence1_37.txt', 'D:\\\\4\\\\real\\\\vio_200\\\\violence1\\\\violence1_38.txt', 'D:\\\\4\\\\real\\\\vio_200\\\\violence1\\\\violence1_39.txt', 'D:\\\\4\\\\real\\\\vio_200\\\\violence1\\\\violence1_4.txt', 'D:\\\\4\\\\real\\\\vio_200\\\\violence1\\\\violence1_40.txt', 'D:\\\\4\\\\real\\\\vio_200\\\\violence1\\\\violence1_41.txt', 'D:\\\\4\\\\real\\\\vio_200\\\\violence1\\\\violence1_42.txt', 'D:\\\\4\\\\real\\\\vio_200\\\\violence1\\\\violence1_43.txt', 'D:\\\\4\\\\real\\\\vio_200\\\\violence1\\\\violence1_44.txt', 'D:\\\\4\\\\real\\\\vio_200\\\\violence1\\\\violence1_45.txt', 'D:\\\\4\\\\real\\\\vio_200\\\\violence1\\\\violence1_46.txt', 'D:\\\\4\\\\real\\\\vio_200\\\\violence1\\\\violence1_47.txt', 'D:\\\\4\\\\real\\\\vio_200\\\\violence1\\\\violence1_48.txt', 'D:\\\\4\\\\real\\\\vio_200\\\\violence1\\\\violence1_49.txt', 'D:\\\\4\\\\real\\\\vio_200\\\\violence1\\\\violence1_5.txt', 'D:\\\\4\\\\real\\\\vio_200\\\\violence1\\\\violence1_50.txt', 'D:\\\\4\\\\real\\\\vio_200\\\\violence1\\\\violence1_51.txt', 'D:\\\\4\\\\real\\\\vio_200\\\\violence1\\\\violence1_52.txt', 'D:\\\\4\\\\real\\\\vio_200\\\\violence1\\\\violence1_53.txt', 'D:\\\\4\\\\real\\\\vio_200\\\\violence1\\\\violence1_54.txt', 'D:\\\\4\\\\real\\\\vio_200\\\\violence1\\\\violence1_55.txt', 'D:\\\\4\\\\real\\\\vio_200\\\\violence1\\\\violence1_56.txt', 'D:\\\\4\\\\real\\\\vio_200\\\\violence1\\\\violence1_57.txt', 'D:\\\\4\\\\real\\\\vio_200\\\\violence1\\\\violence1_58.txt', 'D:\\\\4\\\\real\\\\vio_200\\\\violence1\\\\violence1_59.txt', 'D:\\\\4\\\\real\\\\vio_200\\\\violence1\\\\violence1_6.txt', 'D:\\\\4\\\\real\\\\vio_200\\\\violence1\\\\violence1_60.txt', 'D:\\\\4\\\\real\\\\vio_200\\\\violence1\\\\violence1_61.txt', 'D:\\\\4\\\\real\\\\vio_200\\\\violence1\\\\violence1_62.txt', 'D:\\\\4\\\\real\\\\vio_200\\\\violence1\\\\violence1_63.txt', 'D:\\\\4\\\\real\\\\vio_200\\\\violence1\\\\violence1_64.txt', 'D:\\\\4\\\\real\\\\vio_200\\\\violence1\\\\violence1_65.txt', 'D:\\\\4\\\\real\\\\vio_200\\\\violence1\\\\violence1_66.txt', 'D:\\\\4\\\\real\\\\vio_200\\\\violence1\\\\violence1_67.txt', 'D:\\\\4\\\\real\\\\vio_200\\\\violence1\\\\violence1_68.txt', 'D:\\\\4\\\\real\\\\vio_200\\\\violence1\\\\violence1_69.txt', 'D:\\\\4\\\\real\\\\vio_200\\\\violence1\\\\violence1_7.txt', 'D:\\\\4\\\\real\\\\vio_200\\\\violence1\\\\violence1_70.txt', 'D:\\\\4\\\\real\\\\vio_200\\\\violence1\\\\violence1_71.txt', 'D:\\\\4\\\\real\\\\vio_200\\\\violence1\\\\violence1_72.txt', 'D:\\\\4\\\\real\\\\vio_200\\\\violence1\\\\violence1_73.txt', 'D:\\\\4\\\\real\\\\vio_200\\\\violence1\\\\violence1_74.txt', 'D:\\\\4\\\\real\\\\vio_200\\\\violence1\\\\violence1_75.txt', 'D:\\\\4\\\\real\\\\vio_200\\\\violence1\\\\violence1_76.txt', 'D:\\\\4\\\\real\\\\vio_200\\\\violence1\\\\violence1_77.txt', 'D:\\\\4\\\\real\\\\vio_200\\\\violence1\\\\violence1_78.txt', 'D:\\\\4\\\\real\\\\vio_200\\\\violence1\\\\violence1_79.txt', 'D:\\\\4\\\\real\\\\vio_200\\\\violence1\\\\violence1_8.txt', 'D:\\\\4\\\\real\\\\vio_200\\\\violence1\\\\violence1_80.txt', 'D:\\\\4\\\\real\\\\vio_200\\\\violence1\\\\violence1_81.txt', 'D:\\\\4\\\\real\\\\vio_200\\\\violence1\\\\violence1_82.txt', 'D:\\\\4\\\\real\\\\vio_200\\\\violence1\\\\violence1_83.txt', 'D:\\\\4\\\\real\\\\vio_200\\\\violence1\\\\violence1_84.txt', 'D:\\\\4\\\\real\\\\vio_200\\\\violence1\\\\violence1_85.txt', 'D:\\\\4\\\\real\\\\vio_200\\\\violence1\\\\violence1_86.txt', 'D:\\\\4\\\\real\\\\vio_200\\\\violence1\\\\violence1_87.txt', 'D:\\\\4\\\\real\\\\vio_200\\\\violence1\\\\violence1_88.txt', 'D:\\\\4\\\\real\\\\vio_200\\\\violence1\\\\violence1_89.txt', 'D:\\\\4\\\\real\\\\vio_200\\\\violence1\\\\violence1_9.txt', 'D:\\\\4\\\\real\\\\vio_200\\\\violence1\\\\violence1_90.txt', 'D:\\\\4\\\\real\\\\vio_200\\\\violence1\\\\violence1_91.txt', 'D:\\\\4\\\\real\\\\vio_200\\\\violence1\\\\violence1_92.txt', 'D:\\\\4\\\\real\\\\vio_200\\\\violence1\\\\violence1_93.txt', 'D:\\\\4\\\\real\\\\vio_200\\\\violence1\\\\violence1_94.txt', 'D:\\\\4\\\\real\\\\vio_200\\\\violence1\\\\violence1_95.txt', 'D:\\\\4\\\\real\\\\vio_200\\\\violence1\\\\violence1_96.txt', 'D:\\\\4\\\\real\\\\vio_200\\\\violence1\\\\violence1_97.txt', 'D:\\\\4\\\\real\\\\vio_200\\\\violence1\\\\violence1_98.txt', 'D:\\\\4\\\\real\\\\vio_200\\\\violence1\\\\violence1_99.txt']\n"
     ]
    }
   ],
   "source": [
    "from glob import glob\n",
    "import os\n",
    "\n",
    "path = r'D:\\4\\real\\vio_200\\violence1/'\n",
    "file_list = glob(path + '*.txt')\n",
    "\n",
    "arr = [0] * 6\n",
    "cnt = 0\n",
    "\n",
    "print(file_list)\n"
   ]
  },
  {
   "cell_type": "markdown",
   "id": "508ab982",
   "metadata": {},
   "source": [
    "# threaten 삭제"
   ]
  },
  {
   "cell_type": "code",
   "execution_count": 6,
   "id": "5f587c0c",
   "metadata": {},
   "outputs": [],
   "source": [
    "# for file in file_list:\n",
    "#     with open(file, 'r') as f:\n",
    "#         lines = f.readlines()\n",
    "#     with open(file, 'w') as f:\n",
    "#         for line in lines:\n",
    "#             index = int(list(line.split())[0])\n",
    "#             if index != 7:\n",
    "#                 f.write(line)"
   ]
  },
  {
   "cell_type": "markdown",
   "id": "ef3a85b8",
   "metadata": {},
   "source": [
    "# pull 삭제"
   ]
  },
  {
   "cell_type": "code",
   "execution_count": 8,
   "id": "f3253a7d",
   "metadata": {},
   "outputs": [],
   "source": [
    "# for file in file_list:\n",
    "#     with open(file, 'r') as f:\n",
    "#         lines = f.readlines()\n",
    "#     with open(file, 'w') as f:\n",
    "#         for line in lines:\n",
    "#             index = int(list(line.split())[0])\n",
    "#             if index != 4:\n",
    "#                 f.write(line)"
   ]
  },
  {
   "cell_type": "markdown",
   "id": "bbf22938",
   "metadata": {},
   "source": [
    "# push falldown index 땡기기"
   ]
  },
  {
   "cell_type": "code",
   "execution_count": 18,
   "id": "7a93903d",
   "metadata": {},
   "outputs": [],
   "source": [
    "# for file in file_list:\n",
    "#     with open(file, 'r') as f:\n",
    "#         lines = f.readlines()\n",
    "#     with open(file, 'w') as f:\n",
    "#         for line in lines:\n",
    "#             tmp = list(line.split())\n",
    "#             index = int(tmp[0])\n",
    "#             if index == 5:\n",
    "#                 tmp[0] = '4'\n",
    "#                 f.write(' '.join(tmp)+'\\n')\n",
    "#             elif index == 6:\n",
    "#                 tmp[0] = '5'\n",
    "#                 f.write(' '.join(tmp) + '\\n')\n",
    "#             else:\n",
    "#                 f.write(line)\n",
    "    "
   ]
  },
  {
   "cell_type": "markdown",
   "id": "ba577915",
   "metadata": {},
   "source": [
    "# 빈 txt삭제"
   ]
  },
  {
   "cell_type": "code",
   "execution_count": 9,
   "id": "e7030496",
   "metadata": {},
   "outputs": [
    {
     "name": "stdout",
     "output_type": "stream",
     "text": [
      "0\n"
     ]
    }
   ],
   "source": [
    "empty_cnt = 0\n",
    "for file in file_list:\n",
    "    isempty = os.stat(file).st_size == 0\n",
    "    if isempty:\n",
    "#         os.remove(file)\n",
    "#         os.remove(file[:-3] + 'png')\n",
    "        print(file)\n",
    "        empty_cnt += 1\n",
    "print(empty_cnt)"
   ]
  },
  {
   "cell_type": "code",
   "execution_count": null,
   "id": "d7f70697",
   "metadata": {},
   "outputs": [],
   "source": []
  }
 ],
 "metadata": {
  "kernelspec": {
   "display_name": "Python 3 (ipykernel)",
   "language": "python",
   "name": "python3"
  },
  "language_info": {
   "codemirror_mode": {
    "name": "ipython",
    "version": 3
   },
   "file_extension": ".py",
   "mimetype": "text/x-python",
   "name": "python",
   "nbconvert_exporter": "python",
   "pygments_lexer": "ipython3",
   "version": "3.9.7"
  }
 },
 "nbformat": 4,
 "nbformat_minor": 5
}
