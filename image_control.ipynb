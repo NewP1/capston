{
 "cells": [
  {
   "cell_type": "code",
   "execution_count": 14,
   "id": "3ac4ca0d",
   "metadata": {},
   "outputs": [
    {
     "name": "stdout",
     "output_type": "stream",
     "text": [
      "['E:\\\\test\\\\0_frame0.png']\n",
      "8\n",
      "0_frame0.png\n"
     ]
    }
   ],
   "source": [
    "from glob import glob\n",
    "import cv2\n",
    "import os\n",
    "\n",
    "\n",
    "path = r'E:\\test/'\n",
    "result_path = r'E:\\test\\result/'\n",
    "file_list = glob(path + '*.png')\n",
    "\n",
    "for file in file_list:\n",
    "    img = cv2.imread(file)\n",
    "    for k in range(90, 360, 90):\n",
    "        \n",
    "        "
   ]
  },
  {
   "cell_type": "code",
   "execution_count": null,
   "id": "bd238a45",
   "metadata": {},
   "outputs": [],
   "source": []
  }
 ],
 "metadata": {
  "kernelspec": {
   "display_name": "Python 3 (ipykernel)",
   "language": "python",
   "name": "python3"
  },
  "language_info": {
   "codemirror_mode": {
    "name": "ipython",
    "version": 3
   },
   "file_extension": ".py",
   "mimetype": "text/x-python",
   "name": "python",
   "nbconvert_exporter": "python",
   "pygments_lexer": "ipython3",
   "version": "3.9.13"
  }
 },
 "nbformat": 4,
 "nbformat_minor": 5
}
