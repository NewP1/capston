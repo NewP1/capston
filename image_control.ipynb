{
 "cells": [
  {
   "cell_type": "code",
   "execution_count": 1,
   "id": "3ac4ca0d",
   "metadata": {},
   "outputs": [],
   "source": [
    "from glob import glob\n",
    "import cv2\n",
    "import os\n",
    "from PIL import Image, ImageEnhance, ImageChops\n",
    "import numpy as np\n",
    "import time\n",
    "from tqdm import tqdm\n",
    "import shutil"
   ]
  },
  {
   "cell_type": "code",
   "execution_count": 2,
   "id": "8fb865ba",
   "metadata": {},
   "outputs": [],
   "source": [
    "def makedirs(path): \n",
    "   try: \n",
    "        os.makedirs(path) \n",
    "   except OSError: \n",
    "       if not os.path.isdir(path): \n",
    "           raise"
   ]
  },
  {
   "cell_type": "markdown",
   "id": "448fbf8f",
   "metadata": {},
   "source": [
    "### jpg -> png"
   ]
  },
  {
   "cell_type": "code",
   "execution_count": 5,
   "id": "5dcf5cb1",
   "metadata": {
    "scrolled": false
   },
   "outputs": [],
   "source": [
    "path = r'D:\\version_6\\falldown/'\n",
    "des = r'D:\\version_6\\falldown/'\n",
    "makedirs(des)\n",
    "\n",
    "# jpg_list = os.listdir(path)\n",
    "\n",
    "# for file in jpg_list:\n",
    "# #     print(file)\n",
    "#     data = path + file\n",
    "# #     print(data)\n",
    "#     image_tmp = Image.open(data).convert('RGB')\n",
    "#     des_data = des + file[:-4] + '.png'\n",
    "# #     print(des_data)\n",
    "#     image_tmp.save(des_data, 'png')\n",
    "# #     print()"
   ]
  },
  {
   "cell_type": "markdown",
   "id": "def30f3e",
   "metadata": {},
   "source": [
    "---"
   ]
  },
  {
   "cell_type": "code",
   "execution_count": 6,
   "id": "b8f1ffbf",
   "metadata": {
    "scrolled": true
   },
   "outputs": [
    {
     "name": "stdout",
     "output_type": "stream",
     "text": [
      "['D:\\\\version_6\\\\falldown\\\\100_jpg.rf.0a30bdde80b2dbebd6d1fdde469dcea7.png', 'D:\\\\version_6\\\\falldown\\\\13_jpg.rf.7dd24f401e62566318bbaedb9ea148cb.png', 'D:\\\\version_6\\\\falldown\\\\14_jpg.rf.018b680151523a71cccf510660ce7dde.png', 'D:\\\\version_6\\\\falldown\\\\1_jpg.rf.46ece56bdef28926611ac0f5faa2ac67.png', 'D:\\\\version_6\\\\falldown\\\\20230321_173559.png', 'D:\\\\version_6\\\\falldown\\\\20230321_173602.png', 'D:\\\\version_6\\\\falldown\\\\20230321_173604.png', 'D:\\\\version_6\\\\falldown\\\\20230321_173605.png', 'D:\\\\version_6\\\\falldown\\\\20_jpg.rf.d11ca02598a43a3fbdab443be92f27f2.png', 'D:\\\\version_6\\\\falldown\\\\23_jpg.rf.0ccb2e6851c42fe7f8626e56a039b78a.png', 'D:\\\\version_6\\\\falldown\\\\28_jpg.rf.37db7c412a4368d76d38dc356cd85054.png', 'D:\\\\version_6\\\\falldown\\\\29_jpg.rf.381cce456247a8fee6e3bc7a04af7990.png', 'D:\\\\version_6\\\\falldown\\\\32_jpg.rf.1a23fa861309e2719de8ba70ec01db55.png', 'D:\\\\version_6\\\\falldown\\\\33_jpg.rf.724b2344782687f6850acc055df17005.png', 'D:\\\\version_6\\\\falldown\\\\3_jpg.rf.a102483e3cac7c0a5127995afbe71705.png', 'D:\\\\version_6\\\\falldown\\\\44_jpg.rf.aff9ec03d5a50dedc1c45073377b7f75.png', 'D:\\\\version_6\\\\falldown\\\\46_jpg.rf.feb2b03da2d6a83af6604bd89e1fd069.png', 'D:\\\\version_6\\\\falldown\\\\49_jpg.rf.5ec5c9ea19ac334d245c218f26122210.png', 'D:\\\\version_6\\\\falldown\\\\4_jpg.rf.1a9cf52c635b657567a68fc4369e52ec.png', 'D:\\\\version_6\\\\falldown\\\\50_jpg.rf.804b639c318956c04e3963334bb043be.png', 'D:\\\\version_6\\\\falldown\\\\52_jpg.rf.162b82908e30d0ca055d6b31f8e9cd04.png', 'D:\\\\version_6\\\\falldown\\\\5c89433b113a5018ae39fcd1_jpeg.rf.ec2fa19ed320805506d8fadb6ffff915.png', 'D:\\\\version_6\\\\falldown\\\\5_jpg.rf.a949b7d14e05795070b4a983b4c1b234.png', 'D:\\\\version_6\\\\falldown\\\\63_jpg.rf.b778b9e01c4b166bfe5621207627fd24.png', 'D:\\\\version_6\\\\falldown\\\\68_jpg.rf.4616d747fddb4dcc856232ada93cc673.png', 'D:\\\\version_6\\\\falldown\\\\76_jpg.rf.58d971a3de27c7d8f703ede1b9952170.png', 'D:\\\\version_6\\\\falldown\\\\77_jpg.rf.328a546d31eec92adfb8024d5297efa4.png', 'D:\\\\version_6\\\\falldown\\\\78_jpg.rf.e7bc296aba9e4527160ca60b37157c68.png', 'D:\\\\version_6\\\\falldown\\\\80_jpg.rf.90277dbdeb5ee341130890f99be1b966.png', 'D:\\\\version_6\\\\falldown\\\\81_jpg.rf.a7e3c4b6394252ec0382e12a6891fd51.png', 'D:\\\\version_6\\\\falldown\\\\82_jpg.rf.de2e5c702f03ddb07b87085b55b28606.png', 'D:\\\\version_6\\\\falldown\\\\83_jpg.rf.96abc6c9bf3fa79dcf58d0c459bf286b.png', 'D:\\\\version_6\\\\falldown\\\\87_jpg.rf.704c30a4e35d05ad39c4de49d433f113.png', 'D:\\\\version_6\\\\falldown\\\\96_jpg.rf.33e54f7553c3ecccb6af9cb7a3fb9268.png', 'D:\\\\version_6\\\\falldown\\\\97_jpg.rf.82f5a3809e078acd0e5234522b98b9ab.png', 'D:\\\\version_6\\\\falldown\\\\9_jpg.rf.7c513c2a16ae55ef8e2ccdc3fb3c8b39.png', 'D:\\\\version_6\\\\falldown\\\\download--1-_jpeg.rf.51621d509d474c48bfa9d5af7b69c07e.png', 'D:\\\\version_6\\\\falldown\\\\download_jpeg.rf.39f4daefb6f68f0bcefde90992931b33.png', 'D:\\\\version_6\\\\falldown\\\\fall-01-cam0-rgb-116_png.rf.b9c0c09f7afd2d03b5c438fda5ed13f4.png', 'D:\\\\version_6\\\\falldown\\\\fall-01-cam1-rgb-125_png.rf.4194d15d26a45a97a47a52bd9625e890.png', 'D:\\\\version_6\\\\falldown\\\\fall-02-cam0-rgb-073_png.rf.17b89e5ac436d1a37f1e6470053eda59.png', 'D:\\\\version_6\\\\falldown\\\\fall-02-cam1-rgb-073_png.rf.5beac3f39b1bf394f41ee9045bcb22bd.png', 'D:\\\\version_6\\\\falldown\\\\fall-02-cam1-rgb-083_png.rf.4c15c3e94aadb98b4b55df9f64ec1933.png', 'D:\\\\version_6\\\\falldown\\\\fall-03-cam0-rgb-213_png.rf.b0c95bace67d6ec1ab1762ef05ad808c.png', 'D:\\\\version_6\\\\falldown\\\\fall-03-cam1-rgb-185_png.rf.232259d48cbd34e29990e0dec8a1d71e.png', 'D:\\\\version_6\\\\falldown\\\\fall-04-cam0-rgb-053_png.rf.9df13e6f323ae90fb44180d919abb2a1.png', 'D:\\\\version_6\\\\falldown\\\\fall-04-cam1-rgb-056_png.rf.cb87b2c9321a3ce13fa334e055e98b27.png', 'D:\\\\version_6\\\\falldown\\\\fall-06-cam1-rgb-056_png.rf.4675f1ef4f90d1db611139dd7b1ddcbe.png', 'D:\\\\version_6\\\\falldown\\\\fall-07-cam1-rgb-115_png.rf.5ced2916df6eb41fe048b7c4fec65730.png', 'D:\\\\version_6\\\\falldown\\\\fall-07-cam1-rgb-132_png.rf.79fd4786be046fea558c5eded24af956.png', 'D:\\\\version_6\\\\falldown\\\\fall-08-cam0-rgb-084_png.rf.54885bc42a1a34d61c8fc9fcdd8eae47.png', 'D:\\\\version_6\\\\falldown\\\\fall-09-cam1-rgb-148_png.rf.e1047e3182cb46ad212adde54693a6c6.png', 'D:\\\\version_6\\\\falldown\\\\fall-12-cam0-rgb-059_png.rf.39ea5aa91c3976396158dbde1825b8ce.png', 'D:\\\\version_6\\\\falldown\\\\fall-14-cam0-rgb-061_png.rf.27fb29d059c8d3339e7dc5850068d26f.png', 'D:\\\\version_6\\\\falldown\\\\fall-14-cam1-rgb-049_png.rf.795d970455442ab384379e674e4aa164.png', 'D:\\\\version_6\\\\falldown\\\\fall-18-cam1-rgb-043_png.rf.ed18d4f393011a769fbae3b3a9c68d4a.png', 'D:\\\\version_6\\\\falldown\\\\fall-26-cam1-rgb-040_png.rf.44888b151fbe0bfbb7fbfd90edf398d9.png', 'D:\\\\version_6\\\\falldown\\\\fallen-man-ladder-unconcious-elderly-lying-ground-having-fell-31442045_jpg.rf.b15c04e5bad608bf6bee644eccd41b9d.png', 'D:\\\\version_6\\\\falldown\\\\full-length-young-businessman-fallen-260nw-183268364_jpg.rf.5deaf4ec81de61d2cf560e5967ee5dae.png', 'D:\\\\version_6\\\\falldown\\\\gettyimages-1183001771-612x612_jpg.rf.6d76e6e18ad1d18dadd02a4c97679e56.png', 'D:\\\\version_6\\\\falldown\\\\gettyimages-138341313-612x612_jpg.rf.0268525bd8936afad9fb52c372d8c209.png', 'D:\\\\version_6\\\\falldown\\\\images--10-_jpeg.rf.4910f96cde4db1bd6b8d3067310f8d4a.png', 'D:\\\\version_6\\\\falldown\\\\images--11-_jpeg.rf.f271ebd52beb5275540114314f4eb2d7.png', 'D:\\\\version_6\\\\falldown\\\\images--12-_jpeg.rf.7f3cccad052772407ebe958e5dc84eb2.png', 'D:\\\\version_6\\\\falldown\\\\images--13-_jpeg.rf.cc22e7c59367dd58a331b17f3d915c8a.png', 'D:\\\\version_6\\\\falldown\\\\images--14-_jpeg.rf.83e7b5e8fa52224c8c16073c240b2b66.png', 'D:\\\\version_6\\\\falldown\\\\images--20-_jpeg.rf.4bfe1e6d4a1e4a40a47855da93fc0078.png', 'D:\\\\version_6\\\\falldown\\\\images--21-_jpeg.rf.482580bddf4a968c3372c0790fb14b27.png', 'D:\\\\version_6\\\\falldown\\\\images--26-_jpeg.rf.418e814e19bc32c8870ebe9ee36bd806.png', 'D:\\\\version_6\\\\falldown\\\\images--27-_jpeg.rf.97a838503bb422fdc6d5726d0b46f60c.png', 'D:\\\\version_6\\\\falldown\\\\images--28-_jpeg.rf.07e5a17f96c74d5b6714c6f39319455a.png', 'D:\\\\version_6\\\\falldown\\\\images--30-_jpeg.rf.942c960912d38dbf5a6e5e9c2d776b6b.png', 'D:\\\\version_6\\\\falldown\\\\images--32-_jpeg.rf.bf3ca5b826e582818ab77264e346600e.png', 'D:\\\\version_6\\\\falldown\\\\images--33-_jpeg.rf.e51ff72184e95cd1bcda5d7774d286c2.png', 'D:\\\\version_6\\\\falldown\\\\images--9-_jpeg.rf.f84a3a3a104637feae2e042c6a5eb9d1.png', 'D:\\\\version_6\\\\falldown\\\\istockphoto-173556820-612x612_jpg.rf.91d3b5b9de7cd73371719411c10b07d9.png', 'D:\\\\version_6\\\\falldown\\\\man-fallen-on-floor-having-260nw-1480983821_jpg.rf.156104eae7fbadf768df2b6a0b1b0757.png', 'D:\\\\version_6\\\\falldown\\\\man-with-a-walker-falling-down-in-the-stock-photo_csp4654232_jpg.rf.52fa24af8822a768f7f2ea4628b47d77.png', 'D:\\\\version_6\\\\falldown\\\\repairman-fallen-from-ladder-X13YEJ_jpg.rf.08343f3a318c6dfa2e2ca0037b209c7c.png', 'D:\\\\version_6\\\\falldown\\\\split10_184_png.rf.c40c6574f946b7d08bf775d5ebd70ec9.png', 'D:\\\\version_6\\\\falldown\\\\split11_001_png.rf.6104c284c69424091c5644cf4480140a.png', 'D:\\\\version_6\\\\falldown\\\\split11_009_png.rf.80699cbd604960da9bd7453ff48c2023.png', 'D:\\\\version_6\\\\falldown\\\\split11_022_png.rf.c2398b34f56be2cb33eae1482d242a64.png', 'D:\\\\version_6\\\\falldown\\\\split11_030_png.rf.9395b4d270e3033f3878a97d5e0a6f58.png', 'D:\\\\version_6\\\\falldown\\\\split11_093_png.rf.ba5c05eb47a8a90be8af13a7e66748a1.png', 'D:\\\\version_6\\\\falldown\\\\split11_1004_png.rf.ef41b58bc9c94665f997a273cb2c3221.png', 'D:\\\\version_6\\\\falldown\\\\split11_1029_png.rf.ccb1110f933dcdd8e1f91fd15570d229.png', 'D:\\\\version_6\\\\falldown\\\\split11_1038_png.rf.d644a43d0f983cad3722a15afd9efc8f.png', 'D:\\\\version_6\\\\falldown\\\\split11_1064_png.rf.eda1fc911fc32420aa5bf537219816fe.png', 'D:\\\\version_6\\\\falldown\\\\split11_1203_png.rf.e8d8c271eede832c329cf2fc6e6e8864.png', 'D:\\\\version_6\\\\falldown\\\\split11_1696_png.rf.84814827cfb6fb04ea94da330f572f41.png', 'D:\\\\version_6\\\\falldown\\\\split11_175_png.rf.d73506d085f0785f4208649db5c249db.png', 'D:\\\\version_6\\\\falldown\\\\split11_2080_png.rf.80bd5f9456ec8dfa5cbcf5df5c7dfda1.png', 'D:\\\\version_6\\\\falldown\\\\split11_2082_png.rf.3d689435b9606d1b4e67b99b68aed02c.png', 'D:\\\\version_6\\\\falldown\\\\split11_530_png.rf.9a0bfe729dfd828811e8209b9db4e7fa.png', 'D:\\\\version_6\\\\falldown\\\\split11_682_png.rf.21566bd7578de19524cb0242e687b1c9.png', 'D:\\\\version_6\\\\falldown\\\\split11_959_png.rf.98bb64532526c68a71b35e333196d6fe.png', 'D:\\\\version_6\\\\falldown\\\\split11_993_png.rf.91612a4f7fbb099bb6a7a5e19b8c16f5.png', 'D:\\\\version_6\\\\falldown\\\\split2_019_png.rf.7477a1abdd5dbc0c92901bdb1554df80.png', 'D:\\\\version_6\\\\falldown\\\\young-man-dress-nightclothes-sleeping-260nw-90510538_jpg.rf.345cec0a8832c9af45a10d22f5d588b4.png']\n"
     ]
    }
   ],
   "source": [
    "file_list = glob(path + '*.png')\n",
    "\n",
    "print(file_list)"
   ]
  },
  {
   "cell_type": "code",
   "execution_count": 8,
   "id": "eaf32461",
   "metadata": {},
   "outputs": [],
   "source": [
    "def horizonal_flip(image, lines, name):\n",
    "    png_h = des + name + '_h.png'\n",
    "    txt_h = des + name + '_h.txt'\n",
    "    horizonal_flip_image = image.transpose(Image.FLIP_LEFT_RIGHT)\n",
    "    horizonal_flip_image.save(png_h)\n",
    "    \n",
    "    with open(txt_h, 'w') as f:\n",
    "        for line in lines:\n",
    "            target_list = list(line.split())\n",
    "            target_list[1] = str(1 - float(target_list[1]))\n",
    "            new_line = \" \".join(target_list)\n",
    "#             print(new_line)\n",
    "            f.write(new_line)\n",
    "\n",
    "# def vertical_flip(image, lines, name):\n",
    "#     png_v = des + name + '_v.png'\n",
    "#     txt_v = des + name + '_v.txt'\n",
    "#     vertical_flip_image = image.transpose(Image.FLIP_TOP_BOTTOM) \n",
    "#     vertical_flip_image.save(png_v)\n",
    "    \n",
    "#     with open(txt_v, 'w') as f:\n",
    "#         for line in lines:\n",
    "#             target_list = list(line.split())\n",
    "#             target_list[2] = str(1 - float(target_list[2]))\n",
    "#             new_line = \" \".join(target_list)\n",
    "# #             print(new_line)\n",
    "#             f.write(new_line)\n",
    "    \n",
    "# def hv_flip(image, lines, name):\n",
    "#     png_hv = des + name + '_hv.png'\n",
    "#     txt_hv = des + name + '_hv.txt'\n",
    "#     temp_flip_image = image.transpose(Image.FLIP_LEFT_RIGHT)\n",
    "#     hv_flip_image = temp_flip_image.transpose(Image.FLIP_TOP_BOTTOM)\n",
    "#     hv_flip_image.save(png_hv)\n",
    "    \n",
    "#     with open(txt_hv, 'w') as f:\n",
    "#         for line in lines:\n",
    "#             target_list = list(line.split())\n",
    "#             target_list[1] = str(1 - float(target_list[1]))\n",
    "#             target_list[2] = str(1 - float(target_list[2]))\n",
    "#             new_line = \" \".join(target_list)\n",
    "# #             print(new_line)\n",
    "#             f.write(new_line)"
   ]
  },
  {
   "cell_type": "markdown",
   "id": "9d1a3dfa",
   "metadata": {},
   "source": [
    "### file slicing 필요"
   ]
  },
  {
   "cell_type": "code",
   "execution_count": 9,
   "id": "bd238a45",
   "metadata": {
    "scrolled": true
   },
   "outputs": [
    {
     "name": "stderr",
     "output_type": "stream",
     "text": [
      "  2%|█▋                                                                                | 2/100 [00:00<00:07, 13.20it/s]"
     ]
    },
    {
     "name": "stdout",
     "output_type": "stream",
     "text": [
      "['D:\\\\version_6\\\\falldown/100_jpg.rf.0a30bdde80b2dbebd6d1fdde469dcea7.png', 'D:\\\\version_6\\\\falldown/100_jpg.rf.0a30bdde80b2dbebd6d1fdde469dcea7.txt']\n",
      "['D:\\\\version_6\\\\falldown/13_jpg.rf.7dd24f401e62566318bbaedb9ea148cb.png', 'D:\\\\version_6\\\\falldown/13_jpg.rf.7dd24f401e62566318bbaedb9ea148cb.txt']\n",
      "['D:\\\\version_6\\\\falldown/14_jpg.rf.018b680151523a71cccf510660ce7dde.png', 'D:\\\\version_6\\\\falldown/14_jpg.rf.018b680151523a71cccf510660ce7dde.txt']\n"
     ]
    },
    {
     "name": "stderr",
     "output_type": "stream",
     "text": [
      "\r",
      "  4%|███▎                                                                              | 4/100 [00:00<00:08, 11.75it/s]"
     ]
    },
    {
     "name": "stdout",
     "output_type": "stream",
     "text": [
      "['D:\\\\version_6\\\\falldown/1_jpg.rf.46ece56bdef28926611ac0f5faa2ac67.png', 'D:\\\\version_6\\\\falldown/1_jpg.rf.46ece56bdef28926611ac0f5faa2ac67.txt']\n",
      "['D:\\\\version_6\\\\falldown/20230321_173559.png', 'D:\\\\version_6\\\\falldown/20230321_173559.txt']\n",
      "['D:\\\\version_6\\\\falldown/20230321_173602.png', 'D:\\\\version_6\\\\falldown/20230321_173602.txt']\n"
     ]
    },
    {
     "name": "stderr",
     "output_type": "stream",
     "text": [
      "\r",
      "  6%|████▉                                                                             | 6/100 [00:00<00:08, 11.25it/s]"
     ]
    },
    {
     "name": "stdout",
     "output_type": "stream",
     "text": [
      "['D:\\\\version_6\\\\falldown/20230321_173604.png', 'D:\\\\version_6\\\\falldown/20230321_173604.txt']\n",
      "['D:\\\\version_6\\\\falldown/20230321_173605.png', 'D:\\\\version_6\\\\falldown/20230321_173605.txt']\n"
     ]
    },
    {
     "name": "stderr",
     "output_type": "stream",
     "text": [
      " 10%|████████                                                                         | 10/100 [00:00<00:07, 11.61it/s]"
     ]
    },
    {
     "name": "stdout",
     "output_type": "stream",
     "text": [
      "['D:\\\\version_6\\\\falldown/20_jpg.rf.d11ca02598a43a3fbdab443be92f27f2.png', 'D:\\\\version_6\\\\falldown/20_jpg.rf.d11ca02598a43a3fbdab443be92f27f2.txt']\n",
      "['D:\\\\version_6\\\\falldown/23_jpg.rf.0ccb2e6851c42fe7f8626e56a039b78a.png', 'D:\\\\version_6\\\\falldown/23_jpg.rf.0ccb2e6851c42fe7f8626e56a039b78a.txt']\n",
      "['D:\\\\version_6\\\\falldown/28_jpg.rf.37db7c412a4368d76d38dc356cd85054.png', 'D:\\\\version_6\\\\falldown/28_jpg.rf.37db7c412a4368d76d38dc356cd85054.txt']\n",
      "['D:\\\\version_6\\\\falldown/29_jpg.rf.381cce456247a8fee6e3bc7a04af7990.png', 'D:\\\\version_6\\\\falldown/29_jpg.rf.381cce456247a8fee6e3bc7a04af7990.txt']\n"
     ]
    },
    {
     "name": "stderr",
     "output_type": "stream",
     "text": [
      " 14%|███████████▎                                                                     | 14/100 [00:01<00:07, 11.32it/s]"
     ]
    },
    {
     "name": "stdout",
     "output_type": "stream",
     "text": [
      "['D:\\\\version_6\\\\falldown/32_jpg.rf.1a23fa861309e2719de8ba70ec01db55.png', 'D:\\\\version_6\\\\falldown/32_jpg.rf.1a23fa861309e2719de8ba70ec01db55.txt']\n",
      "['D:\\\\version_6\\\\falldown/33_jpg.rf.724b2344782687f6850acc055df17005.png', 'D:\\\\version_6\\\\falldown/33_jpg.rf.724b2344782687f6850acc055df17005.txt']\n"
     ]
    },
    {
     "name": "stderr",
     "output_type": "stream",
     "text": [
      "\r",
      " 16%|████████████▉                                                                    | 16/100 [00:01<00:07, 11.33it/s]"
     ]
    },
    {
     "name": "stdout",
     "output_type": "stream",
     "text": [
      "['D:\\\\version_6\\\\falldown/3_jpg.rf.a102483e3cac7c0a5127995afbe71705.png', 'D:\\\\version_6\\\\falldown/3_jpg.rf.a102483e3cac7c0a5127995afbe71705.txt']\n",
      "['D:\\\\version_6\\\\falldown/44_jpg.rf.aff9ec03d5a50dedc1c45073377b7f75.png', 'D:\\\\version_6\\\\falldown/44_jpg.rf.aff9ec03d5a50dedc1c45073377b7f75.txt']\n",
      "['D:\\\\version_6\\\\falldown/46_jpg.rf.feb2b03da2d6a83af6604bd89e1fd069.png', 'D:\\\\version_6\\\\falldown/46_jpg.rf.feb2b03da2d6a83af6604bd89e1fd069.txt']\n"
     ]
    },
    {
     "name": "stderr",
     "output_type": "stream",
     "text": [
      "\r",
      " 18%|██████████████▌                                                                  | 18/100 [00:01<00:06, 12.19it/s]"
     ]
    },
    {
     "name": "stdout",
     "output_type": "stream",
     "text": [
      "['D:\\\\version_6\\\\falldown/49_jpg.rf.5ec5c9ea19ac334d245c218f26122210.png', 'D:\\\\version_6\\\\falldown/49_jpg.rf.5ec5c9ea19ac334d245c218f26122210.txt']\n",
      "['D:\\\\version_6\\\\falldown/4_jpg.rf.1a9cf52c635b657567a68fc4369e52ec.png', 'D:\\\\version_6\\\\falldown/4_jpg.rf.1a9cf52c635b657567a68fc4369e52ec.txt']\n",
      "['D:\\\\version_6\\\\falldown/50_jpg.rf.804b639c318956c04e3963334bb043be.png', 'D:\\\\version_6\\\\falldown/50_jpg.rf.804b639c318956c04e3963334bb043be.txt']\n"
     ]
    },
    {
     "name": "stderr",
     "output_type": "stream",
     "text": [
      " 22%|█████████████████▊                                                               | 22/100 [00:01<00:06, 12.48it/s]"
     ]
    },
    {
     "name": "stdout",
     "output_type": "stream",
     "text": [
      "['D:\\\\version_6\\\\falldown/52_jpg.rf.162b82908e30d0ca055d6b31f8e9cd04.png', 'D:\\\\version_6\\\\falldown/52_jpg.rf.162b82908e30d0ca055d6b31f8e9cd04.txt']\n",
      "['D:\\\\version_6\\\\falldown/5c89433b113a5018ae39fcd1_jpeg.rf.ec2fa19ed320805506d8fadb6ffff915.png', 'D:\\\\version_6\\\\falldown/5c89433b113a5018ae39fcd1_jpeg.rf.ec2fa19ed320805506d8fadb6ffff915.txt']\n",
      "['D:\\\\version_6\\\\falldown/5_jpg.rf.a949b7d14e05795070b4a983b4c1b234.png', 'D:\\\\version_6\\\\falldown/5_jpg.rf.a949b7d14e05795070b4a983b4c1b234.txt']\n"
     ]
    },
    {
     "name": "stderr",
     "output_type": "stream",
     "text": [
      "\r",
      " 24%|███████████████████▍                                                             | 24/100 [00:02<00:06, 12.29it/s]"
     ]
    },
    {
     "name": "stdout",
     "output_type": "stream",
     "text": [
      "['D:\\\\version_6\\\\falldown/63_jpg.rf.b778b9e01c4b166bfe5621207627fd24.png', 'D:\\\\version_6\\\\falldown/63_jpg.rf.b778b9e01c4b166bfe5621207627fd24.txt']\n",
      "['D:\\\\version_6\\\\falldown/68_jpg.rf.4616d747fddb4dcc856232ada93cc673.png', 'D:\\\\version_6\\\\falldown/68_jpg.rf.4616d747fddb4dcc856232ada93cc673.txt']\n",
      "['D:\\\\version_6\\\\falldown/76_jpg.rf.58d971a3de27c7d8f703ede1b9952170.png', 'D:\\\\version_6\\\\falldown/76_jpg.rf.58d971a3de27c7d8f703ede1b9952170.txt']\n"
     ]
    },
    {
     "name": "stderr",
     "output_type": "stream",
     "text": [
      " 28%|██████████████████████▋                                                          | 28/100 [00:02<00:05, 12.22it/s]"
     ]
    },
    {
     "name": "stdout",
     "output_type": "stream",
     "text": [
      "['D:\\\\version_6\\\\falldown/77_jpg.rf.328a546d31eec92adfb8024d5297efa4.png', 'D:\\\\version_6\\\\falldown/77_jpg.rf.328a546d31eec92adfb8024d5297efa4.txt']\n",
      "['D:\\\\version_6\\\\falldown/78_jpg.rf.e7bc296aba9e4527160ca60b37157c68.png', 'D:\\\\version_6\\\\falldown/78_jpg.rf.e7bc296aba9e4527160ca60b37157c68.txt']\n",
      "['D:\\\\version_6\\\\falldown/80_jpg.rf.90277dbdeb5ee341130890f99be1b966.png', 'D:\\\\version_6\\\\falldown/80_jpg.rf.90277dbdeb5ee341130890f99be1b966.txt']\n"
     ]
    },
    {
     "name": "stderr",
     "output_type": "stream",
     "text": [
      "\r",
      " 30%|████████████████████████▎                                                        | 30/100 [00:02<00:05, 11.77it/s]"
     ]
    },
    {
     "name": "stdout",
     "output_type": "stream",
     "text": [
      "['D:\\\\version_6\\\\falldown/81_jpg.rf.a7e3c4b6394252ec0382e12a6891fd51.png', 'D:\\\\version_6\\\\falldown/81_jpg.rf.a7e3c4b6394252ec0382e12a6891fd51.txt']\n",
      "['D:\\\\version_6\\\\falldown/82_jpg.rf.de2e5c702f03ddb07b87085b55b28606.png', 'D:\\\\version_6\\\\falldown/82_jpg.rf.de2e5c702f03ddb07b87085b55b28606.txt']\n"
     ]
    },
    {
     "name": "stderr",
     "output_type": "stream",
     "text": [
      "\r",
      " 32%|█████████████████████████▉                                                       | 32/100 [00:02<00:06, 10.05it/s]"
     ]
    },
    {
     "name": "stdout",
     "output_type": "stream",
     "text": [
      "['D:\\\\version_6\\\\falldown/83_jpg.rf.96abc6c9bf3fa79dcf58d0c459bf286b.png', 'D:\\\\version_6\\\\falldown/83_jpg.rf.96abc6c9bf3fa79dcf58d0c459bf286b.txt']\n",
      "['D:\\\\version_6\\\\falldown/87_jpg.rf.704c30a4e35d05ad39c4de49d433f113.png', 'D:\\\\version_6\\\\falldown/87_jpg.rf.704c30a4e35d05ad39c4de49d433f113.txt']\n",
      "['D:\\\\version_6\\\\falldown/96_jpg.rf.33e54f7553c3ecccb6af9cb7a3fb9268.png', 'D:\\\\version_6\\\\falldown/96_jpg.rf.33e54f7553c3ecccb6af9cb7a3fb9268.txt']\n"
     ]
    },
    {
     "name": "stderr",
     "output_type": "stream",
     "text": [
      " 36%|█████████████████████████████▏                                                   | 36/100 [00:03<00:05, 10.95it/s]"
     ]
    },
    {
     "name": "stdout",
     "output_type": "stream",
     "text": [
      "['D:\\\\version_6\\\\falldown/97_jpg.rf.82f5a3809e078acd0e5234522b98b9ab.png', 'D:\\\\version_6\\\\falldown/97_jpg.rf.82f5a3809e078acd0e5234522b98b9ab.txt']\n",
      "['D:\\\\version_6\\\\falldown/9_jpg.rf.7c513c2a16ae55ef8e2ccdc3fb3c8b39.png', 'D:\\\\version_6\\\\falldown/9_jpg.rf.7c513c2a16ae55ef8e2ccdc3fb3c8b39.txt']\n"
     ]
    },
    {
     "name": "stderr",
     "output_type": "stream",
     "text": [
      "\r",
      " 38%|██████████████████████████████▊                                                  | 38/100 [00:03<00:05, 11.21it/s]"
     ]
    },
    {
     "name": "stdout",
     "output_type": "stream",
     "text": [
      "['D:\\\\version_6\\\\falldown/download--1-_jpeg.rf.51621d509d474c48bfa9d5af7b69c07e.png', 'D:\\\\version_6\\\\falldown/download--1-_jpeg.rf.51621d509d474c48bfa9d5af7b69c07e.txt']\n",
      "['D:\\\\version_6\\\\falldown/download_jpeg.rf.39f4daefb6f68f0bcefde90992931b33.png', 'D:\\\\version_6\\\\falldown/download_jpeg.rf.39f4daefb6f68f0bcefde90992931b33.txt']\n",
      "['D:\\\\version_6\\\\falldown/fall-01-cam0-rgb-116_png.rf.b9c0c09f7afd2d03b5c438fda5ed13f4.png', 'D:\\\\version_6\\\\falldown/fall-01-cam0-rgb-116_png.rf.b9c0c09f7afd2d03b5c438fda5ed13f4.txt']\n"
     ]
    },
    {
     "name": "stderr",
     "output_type": "stream",
     "text": [
      "\r",
      " 40%|████████████████████████████████▍                                                | 40/100 [00:03<00:05, 11.71it/s]"
     ]
    },
    {
     "name": "stdout",
     "output_type": "stream",
     "text": [
      "['D:\\\\version_6\\\\falldown/fall-01-cam1-rgb-125_png.rf.4194d15d26a45a97a47a52bd9625e890.png', 'D:\\\\version_6\\\\falldown/fall-01-cam1-rgb-125_png.rf.4194d15d26a45a97a47a52bd9625e890.txt']\n",
      "['D:\\\\version_6\\\\falldown/fall-02-cam0-rgb-073_png.rf.17b89e5ac436d1a37f1e6470053eda59.png', 'D:\\\\version_6\\\\falldown/fall-02-cam0-rgb-073_png.rf.17b89e5ac436d1a37f1e6470053eda59.txt']\n",
      "['D:\\\\version_6\\\\falldown/fall-02-cam1-rgb-073_png.rf.5beac3f39b1bf394f41ee9045bcb22bd.png', 'D:\\\\version_6\\\\falldown/fall-02-cam1-rgb-073_png.rf.5beac3f39b1bf394f41ee9045bcb22bd.txt']\n"
     ]
    },
    {
     "name": "stderr",
     "output_type": "stream",
     "text": [
      " 44%|███████████████████████████████████▋                                             | 44/100 [00:03<00:05, 11.11it/s]"
     ]
    },
    {
     "name": "stdout",
     "output_type": "stream",
     "text": [
      "['D:\\\\version_6\\\\falldown/fall-02-cam1-rgb-083_png.rf.4c15c3e94aadb98b4b55df9f64ec1933.png', 'D:\\\\version_6\\\\falldown/fall-02-cam1-rgb-083_png.rf.4c15c3e94aadb98b4b55df9f64ec1933.txt']\n",
      "['D:\\\\version_6\\\\falldown/fall-03-cam0-rgb-213_png.rf.b0c95bace67d6ec1ab1762ef05ad808c.png', 'D:\\\\version_6\\\\falldown/fall-03-cam0-rgb-213_png.rf.b0c95bace67d6ec1ab1762ef05ad808c.txt']\n"
     ]
    },
    {
     "name": "stderr",
     "output_type": "stream",
     "text": [
      "\r",
      " 46%|█████████████████████████████████████▎                                           | 46/100 [00:03<00:04, 11.33it/s]"
     ]
    },
    {
     "name": "stdout",
     "output_type": "stream",
     "text": [
      "['D:\\\\version_6\\\\falldown/fall-03-cam1-rgb-185_png.rf.232259d48cbd34e29990e0dec8a1d71e.png', 'D:\\\\version_6\\\\falldown/fall-03-cam1-rgb-185_png.rf.232259d48cbd34e29990e0dec8a1d71e.txt']\n",
      "['D:\\\\version_6\\\\falldown/fall-04-cam0-rgb-053_png.rf.9df13e6f323ae90fb44180d919abb2a1.png', 'D:\\\\version_6\\\\falldown/fall-04-cam0-rgb-053_png.rf.9df13e6f323ae90fb44180d919abb2a1.txt']\n",
      "['D:\\\\version_6\\\\falldown/fall-04-cam1-rgb-056_png.rf.cb87b2c9321a3ce13fa334e055e98b27.png', 'D:\\\\version_6\\\\falldown/fall-04-cam1-rgb-056_png.rf.cb87b2c9321a3ce13fa334e055e98b27.txt']\n"
     ]
    },
    {
     "name": "stderr",
     "output_type": "stream",
     "text": [
      "\r",
      " 48%|██████████████████████████████████████▉                                          | 48/100 [00:04<00:04, 11.51it/s]"
     ]
    },
    {
     "name": "stdout",
     "output_type": "stream",
     "text": [
      "['D:\\\\version_6\\\\falldown/fall-06-cam1-rgb-056_png.rf.4675f1ef4f90d1db611139dd7b1ddcbe.png', 'D:\\\\version_6\\\\falldown/fall-06-cam1-rgb-056_png.rf.4675f1ef4f90d1db611139dd7b1ddcbe.txt']\n",
      "['D:\\\\version_6\\\\falldown/fall-07-cam1-rgb-115_png.rf.5ced2916df6eb41fe048b7c4fec65730.png', 'D:\\\\version_6\\\\falldown/fall-07-cam1-rgb-115_png.rf.5ced2916df6eb41fe048b7c4fec65730.txt']\n",
      "['D:\\\\version_6\\\\falldown/fall-07-cam1-rgb-132_png.rf.79fd4786be046fea558c5eded24af956.png', 'D:\\\\version_6\\\\falldown/fall-07-cam1-rgb-132_png.rf.79fd4786be046fea558c5eded24af956.txt']\n"
     ]
    },
    {
     "name": "stderr",
     "output_type": "stream",
     "text": [
      " 52%|██████████████████████████████████████████                                       | 52/100 [00:04<00:03, 12.29it/s]"
     ]
    },
    {
     "name": "stdout",
     "output_type": "stream",
     "text": [
      "['D:\\\\version_6\\\\falldown/fall-08-cam0-rgb-084_png.rf.54885bc42a1a34d61c8fc9fcdd8eae47.png', 'D:\\\\version_6\\\\falldown/fall-08-cam0-rgb-084_png.rf.54885bc42a1a34d61c8fc9fcdd8eae47.txt']\n",
      "['D:\\\\version_6\\\\falldown/fall-09-cam1-rgb-148_png.rf.e1047e3182cb46ad212adde54693a6c6.png', 'D:\\\\version_6\\\\falldown/fall-09-cam1-rgb-148_png.rf.e1047e3182cb46ad212adde54693a6c6.txt']\n",
      "['D:\\\\version_6\\\\falldown/fall-12-cam0-rgb-059_png.rf.39ea5aa91c3976396158dbde1825b8ce.png', 'D:\\\\version_6\\\\falldown/fall-12-cam0-rgb-059_png.rf.39ea5aa91c3976396158dbde1825b8ce.txt']\n"
     ]
    },
    {
     "name": "stderr",
     "output_type": "stream",
     "text": [
      "\r",
      " 54%|███████████████████████████████████████████▋                                     | 54/100 [00:04<00:03, 12.72it/s]"
     ]
    },
    {
     "name": "stdout",
     "output_type": "stream",
     "text": [
      "['D:\\\\version_6\\\\falldown/fall-14-cam0-rgb-061_png.rf.27fb29d059c8d3339e7dc5850068d26f.png', 'D:\\\\version_6\\\\falldown/fall-14-cam0-rgb-061_png.rf.27fb29d059c8d3339e7dc5850068d26f.txt']\n",
      "['D:\\\\version_6\\\\falldown/fall-14-cam1-rgb-049_png.rf.795d970455442ab384379e674e4aa164.png', 'D:\\\\version_6\\\\falldown/fall-14-cam1-rgb-049_png.rf.795d970455442ab384379e674e4aa164.txt']\n",
      "['D:\\\\version_6\\\\falldown/fall-18-cam1-rgb-043_png.rf.ed18d4f393011a769fbae3b3a9c68d4a.png', 'D:\\\\version_6\\\\falldown/fall-18-cam1-rgb-043_png.rf.ed18d4f393011a769fbae3b3a9c68d4a.txt']\n"
     ]
    },
    {
     "name": "stderr",
     "output_type": "stream",
     "text": [
      " 58%|██████████████████████████████████████████████▉                                  | 58/100 [00:04<00:03, 12.85it/s]"
     ]
    },
    {
     "name": "stdout",
     "output_type": "stream",
     "text": [
      "['D:\\\\version_6\\\\falldown/fall-26-cam1-rgb-040_png.rf.44888b151fbe0bfbb7fbfd90edf398d9.png', 'D:\\\\version_6\\\\falldown/fall-26-cam1-rgb-040_png.rf.44888b151fbe0bfbb7fbfd90edf398d9.txt']\n",
      "['D:\\\\version_6\\\\falldown/fallen-man-ladder-unconcious-elderly-lying-ground-having-fell-31442045_jpg.rf.b15c04e5bad608bf6bee644eccd41b9d.png', 'D:\\\\version_6\\\\falldown/fallen-man-ladder-unconcious-elderly-lying-ground-having-fell-31442045_jpg.rf.b15c04e5bad608bf6bee644eccd41b9d.txt']\n",
      "['D:\\\\version_6\\\\falldown/full-length-young-businessman-fallen-260nw-183268364_jpg.rf.5deaf4ec81de61d2cf560e5967ee5dae.png', 'D:\\\\version_6\\\\falldown/full-length-young-businessman-fallen-260nw-183268364_jpg.rf.5deaf4ec81de61d2cf560e5967ee5dae.txt']\n",
      "['D:\\\\version_6\\\\falldown/gettyimages-1183001771-612x612_jpg.rf.6d76e6e18ad1d18dadd02a4c97679e56.png', 'D:\\\\version_6\\\\falldown/gettyimages-1183001771-612x612_jpg.rf.6d76e6e18ad1d18dadd02a4c97679e56.txt']\n"
     ]
    },
    {
     "name": "stderr",
     "output_type": "stream",
     "text": [
      " 62%|██████████████████████████████████████████████████▏                              | 62/100 [00:05<00:02, 13.47it/s]"
     ]
    },
    {
     "name": "stdout",
     "output_type": "stream",
     "text": [
      "['D:\\\\version_6\\\\falldown/gettyimages-138341313-612x612_jpg.rf.0268525bd8936afad9fb52c372d8c209.png', 'D:\\\\version_6\\\\falldown/gettyimages-138341313-612x612_jpg.rf.0268525bd8936afad9fb52c372d8c209.txt']\n",
      "['D:\\\\version_6\\\\falldown/images--10-_jpeg.rf.4910f96cde4db1bd6b8d3067310f8d4a.png', 'D:\\\\version_6\\\\falldown/images--10-_jpeg.rf.4910f96cde4db1bd6b8d3067310f8d4a.txt']\n",
      "['D:\\\\version_6\\\\falldown/images--11-_jpeg.rf.f271ebd52beb5275540114314f4eb2d7.png', 'D:\\\\version_6\\\\falldown/images--11-_jpeg.rf.f271ebd52beb5275540114314f4eb2d7.txt']\n"
     ]
    },
    {
     "name": "stderr",
     "output_type": "stream",
     "text": [
      "\r",
      " 64%|███████████████████████████████████████████████████▊                             | 64/100 [00:05<00:02, 13.14it/s]"
     ]
    },
    {
     "name": "stdout",
     "output_type": "stream",
     "text": [
      "['D:\\\\version_6\\\\falldown/images--12-_jpeg.rf.7f3cccad052772407ebe958e5dc84eb2.png', 'D:\\\\version_6\\\\falldown/images--12-_jpeg.rf.7f3cccad052772407ebe958e5dc84eb2.txt']\n",
      "['D:\\\\version_6\\\\falldown/images--13-_jpeg.rf.cc22e7c59367dd58a331b17f3d915c8a.png', 'D:\\\\version_6\\\\falldown/images--13-_jpeg.rf.cc22e7c59367dd58a331b17f3d915c8a.txt']\n",
      "['D:\\\\version_6\\\\falldown/images--14-_jpeg.rf.83e7b5e8fa52224c8c16073c240b2b66.png', 'D:\\\\version_6\\\\falldown/images--14-_jpeg.rf.83e7b5e8fa52224c8c16073c240b2b66.txt']\n"
     ]
    },
    {
     "name": "stderr",
     "output_type": "stream",
     "text": [
      " 68%|███████████████████████████████████████████████████████                          | 68/100 [00:05<00:02, 12.49it/s]"
     ]
    },
    {
     "name": "stdout",
     "output_type": "stream",
     "text": [
      "['D:\\\\version_6\\\\falldown/images--20-_jpeg.rf.4bfe1e6d4a1e4a40a47855da93fc0078.png', 'D:\\\\version_6\\\\falldown/images--20-_jpeg.rf.4bfe1e6d4a1e4a40a47855da93fc0078.txt']\n",
      "['D:\\\\version_6\\\\falldown/images--21-_jpeg.rf.482580bddf4a968c3372c0790fb14b27.png', 'D:\\\\version_6\\\\falldown/images--21-_jpeg.rf.482580bddf4a968c3372c0790fb14b27.txt']\n",
      "['D:\\\\version_6\\\\falldown/images--26-_jpeg.rf.418e814e19bc32c8870ebe9ee36bd806.png', 'D:\\\\version_6\\\\falldown/images--26-_jpeg.rf.418e814e19bc32c8870ebe9ee36bd806.txt']\n"
     ]
    },
    {
     "name": "stderr",
     "output_type": "stream",
     "text": [
      "\r",
      " 70%|████████████████████████████████████████████████████████▋                        | 70/100 [00:05<00:02, 12.67it/s]"
     ]
    },
    {
     "name": "stdout",
     "output_type": "stream",
     "text": [
      "['D:\\\\version_6\\\\falldown/images--27-_jpeg.rf.97a838503bb422fdc6d5726d0b46f60c.png', 'D:\\\\version_6\\\\falldown/images--27-_jpeg.rf.97a838503bb422fdc6d5726d0b46f60c.txt']\n",
      "['D:\\\\version_6\\\\falldown/images--28-_jpeg.rf.07e5a17f96c74d5b6714c6f39319455a.png', 'D:\\\\version_6\\\\falldown/images--28-_jpeg.rf.07e5a17f96c74d5b6714c6f39319455a.txt']\n",
      "['D:\\\\version_6\\\\falldown/images--30-_jpeg.rf.942c960912d38dbf5a6e5e9c2d776b6b.png', 'D:\\\\version_6\\\\falldown/images--30-_jpeg.rf.942c960912d38dbf5a6e5e9c2d776b6b.txt']\n"
     ]
    },
    {
     "name": "stderr",
     "output_type": "stream",
     "text": [
      " 74%|███████████████████████████████████████████████████████████▉                     | 74/100 [00:06<00:01, 13.02it/s]"
     ]
    },
    {
     "name": "stdout",
     "output_type": "stream",
     "text": [
      "['D:\\\\version_6\\\\falldown/images--32-_jpeg.rf.bf3ca5b826e582818ab77264e346600e.png', 'D:\\\\version_6\\\\falldown/images--32-_jpeg.rf.bf3ca5b826e582818ab77264e346600e.txt']\n",
      "['D:\\\\version_6\\\\falldown/images--33-_jpeg.rf.e51ff72184e95cd1bcda5d7774d286c2.png', 'D:\\\\version_6\\\\falldown/images--33-_jpeg.rf.e51ff72184e95cd1bcda5d7774d286c2.txt']\n",
      "['D:\\\\version_6\\\\falldown/images--9-_jpeg.rf.f84a3a3a104637feae2e042c6a5eb9d1.png', 'D:\\\\version_6\\\\falldown/images--9-_jpeg.rf.f84a3a3a104637feae2e042c6a5eb9d1.txt']\n"
     ]
    },
    {
     "name": "stderr",
     "output_type": "stream",
     "text": [
      " 78%|███████████████████████████████████████████████████████████████▏                 | 78/100 [00:06<00:01, 13.56it/s]"
     ]
    },
    {
     "name": "stdout",
     "output_type": "stream",
     "text": [
      "['D:\\\\version_6\\\\falldown/istockphoto-173556820-612x612_jpg.rf.91d3b5b9de7cd73371719411c10b07d9.png', 'D:\\\\version_6\\\\falldown/istockphoto-173556820-612x612_jpg.rf.91d3b5b9de7cd73371719411c10b07d9.txt']\n",
      "['D:\\\\version_6\\\\falldown/man-fallen-on-floor-having-260nw-1480983821_jpg.rf.156104eae7fbadf768df2b6a0b1b0757.png', 'D:\\\\version_6\\\\falldown/man-fallen-on-floor-having-260nw-1480983821_jpg.rf.156104eae7fbadf768df2b6a0b1b0757.txt']\n",
      "['D:\\\\version_6\\\\falldown/man-with-a-walker-falling-down-in-the-stock-photo_csp4654232_jpg.rf.52fa24af8822a768f7f2ea4628b47d77.png', 'D:\\\\version_6\\\\falldown/man-with-a-walker-falling-down-in-the-stock-photo_csp4654232_jpg.rf.52fa24af8822a768f7f2ea4628b47d77.txt']\n",
      "['D:\\\\version_6\\\\falldown/repairman-fallen-from-ladder-X13YEJ_jpg.rf.08343f3a318c6dfa2e2ca0037b209c7c.png', 'D:\\\\version_6\\\\falldown/repairman-fallen-from-ladder-X13YEJ_jpg.rf.08343f3a318c6dfa2e2ca0037b209c7c.txt']\n",
      "['D:\\\\version_6\\\\falldown/split10_184_png.rf.c40c6574f946b7d08bf775d5ebd70ec9.png', 'D:\\\\version_6\\\\falldown/split10_184_png.rf.c40c6574f946b7d08bf775d5ebd70ec9.txt']\n"
     ]
    },
    {
     "name": "stderr",
     "output_type": "stream",
     "text": [
      " 82%|██████████████████████████████████████████████████████████████████▍              | 82/100 [00:06<00:01, 11.56it/s]"
     ]
    },
    {
     "name": "stdout",
     "output_type": "stream",
     "text": [
      "['D:\\\\version_6\\\\falldown/split11_001_png.rf.6104c284c69424091c5644cf4480140a.png', 'D:\\\\version_6\\\\falldown/split11_001_png.rf.6104c284c69424091c5644cf4480140a.txt']\n",
      "['D:\\\\version_6\\\\falldown/split11_009_png.rf.80699cbd604960da9bd7453ff48c2023.png', 'D:\\\\version_6\\\\falldown/split11_009_png.rf.80699cbd604960da9bd7453ff48c2023.txt']\n",
      "['D:\\\\version_6\\\\falldown/split11_022_png.rf.c2398b34f56be2cb33eae1482d242a64.png', 'D:\\\\version_6\\\\falldown/split11_022_png.rf.c2398b34f56be2cb33eae1482d242a64.txt']\n"
     ]
    },
    {
     "name": "stderr",
     "output_type": "stream",
     "text": [
      "\r",
      " 84%|████████████████████████████████████████████████████████████████████             | 84/100 [00:07<00:01, 11.65it/s]"
     ]
    },
    {
     "name": "stdout",
     "output_type": "stream",
     "text": [
      "['D:\\\\version_6\\\\falldown/split11_030_png.rf.9395b4d270e3033f3878a97d5e0a6f58.png', 'D:\\\\version_6\\\\falldown/split11_030_png.rf.9395b4d270e3033f3878a97d5e0a6f58.txt']\n",
      "['D:\\\\version_6\\\\falldown/split11_093_png.rf.ba5c05eb47a8a90be8af13a7e66748a1.png', 'D:\\\\version_6\\\\falldown/split11_093_png.rf.ba5c05eb47a8a90be8af13a7e66748a1.txt']\n",
      "['D:\\\\version_6\\\\falldown/split11_1004_png.rf.ef41b58bc9c94665f997a273cb2c3221.png', 'D:\\\\version_6\\\\falldown/split11_1004_png.rf.ef41b58bc9c94665f997a273cb2c3221.txt']\n"
     ]
    },
    {
     "name": "stderr",
     "output_type": "stream",
     "text": [
      " 88%|███████████████████████████████████████████████████████████████████████▎         | 88/100 [00:07<00:00, 13.32it/s]"
     ]
    },
    {
     "name": "stdout",
     "output_type": "stream",
     "text": [
      "['D:\\\\version_6\\\\falldown/split11_1029_png.rf.ccb1110f933dcdd8e1f91fd15570d229.png', 'D:\\\\version_6\\\\falldown/split11_1029_png.rf.ccb1110f933dcdd8e1f91fd15570d229.txt']\n",
      "['D:\\\\version_6\\\\falldown/split11_1038_png.rf.d644a43d0f983cad3722a15afd9efc8f.png', 'D:\\\\version_6\\\\falldown/split11_1038_png.rf.d644a43d0f983cad3722a15afd9efc8f.txt']\n",
      "['D:\\\\version_6\\\\falldown/split11_1064_png.rf.eda1fc911fc32420aa5bf537219816fe.png', 'D:\\\\version_6\\\\falldown/split11_1064_png.rf.eda1fc911fc32420aa5bf537219816fe.txt']\n",
      "['D:\\\\version_6\\\\falldown/split11_1203_png.rf.e8d8c271eede832c329cf2fc6e6e8864.png', 'D:\\\\version_6\\\\falldown/split11_1203_png.rf.e8d8c271eede832c329cf2fc6e6e8864.txt']\n"
     ]
    },
    {
     "name": "stderr",
     "output_type": "stream",
     "text": [
      " 92%|██████████████████████████████████████████████████████████████████████████▌      | 92/100 [00:07<00:00, 12.58it/s]"
     ]
    },
    {
     "name": "stdout",
     "output_type": "stream",
     "text": [
      "['D:\\\\version_6\\\\falldown/split11_1696_png.rf.84814827cfb6fb04ea94da330f572f41.png', 'D:\\\\version_6\\\\falldown/split11_1696_png.rf.84814827cfb6fb04ea94da330f572f41.txt']\n",
      "['D:\\\\version_6\\\\falldown/split11_175_png.rf.d73506d085f0785f4208649db5c249db.png', 'D:\\\\version_6\\\\falldown/split11_175_png.rf.d73506d085f0785f4208649db5c249db.txt']\n",
      "['D:\\\\version_6\\\\falldown/split11_2080_png.rf.80bd5f9456ec8dfa5cbcf5df5c7dfda1.png', 'D:\\\\version_6\\\\falldown/split11_2080_png.rf.80bd5f9456ec8dfa5cbcf5df5c7dfda1.txt']\n"
     ]
    },
    {
     "name": "stderr",
     "output_type": "stream",
     "text": [
      "\r",
      " 94%|████████████████████████████████████████████████████████████████████████████▏    | 94/100 [00:07<00:00, 12.33it/s]"
     ]
    },
    {
     "name": "stdout",
     "output_type": "stream",
     "text": [
      "['D:\\\\version_6\\\\falldown/split11_2082_png.rf.3d689435b9606d1b4e67b99b68aed02c.png', 'D:\\\\version_6\\\\falldown/split11_2082_png.rf.3d689435b9606d1b4e67b99b68aed02c.txt']\n",
      "['D:\\\\version_6\\\\falldown/split11_530_png.rf.9a0bfe729dfd828811e8209b9db4e7fa.png', 'D:\\\\version_6\\\\falldown/split11_530_png.rf.9a0bfe729dfd828811e8209b9db4e7fa.txt']\n",
      "['D:\\\\version_6\\\\falldown/split11_682_png.rf.21566bd7578de19524cb0242e687b1c9.png', 'D:\\\\version_6\\\\falldown/split11_682_png.rf.21566bd7578de19524cb0242e687b1c9.txt']\n"
     ]
    },
    {
     "name": "stderr",
     "output_type": "stream",
     "text": [
      " 98%|███████████████████████████████████████████████████████████████████████████████▍ | 98/100 [00:08<00:00, 12.18it/s]"
     ]
    },
    {
     "name": "stdout",
     "output_type": "stream",
     "text": [
      "['D:\\\\version_6\\\\falldown/split11_959_png.rf.98bb64532526c68a71b35e333196d6fe.png', 'D:\\\\version_6\\\\falldown/split11_959_png.rf.98bb64532526c68a71b35e333196d6fe.txt']\n",
      "['D:\\\\version_6\\\\falldown/split11_993_png.rf.91612a4f7fbb099bb6a7a5e19b8c16f5.png', 'D:\\\\version_6\\\\falldown/split11_993_png.rf.91612a4f7fbb099bb6a7a5e19b8c16f5.txt']\n",
      "['D:\\\\version_6\\\\falldown/split2_019_png.rf.7477a1abdd5dbc0c92901bdb1554df80.png', 'D:\\\\version_6\\\\falldown/split2_019_png.rf.7477a1abdd5dbc0c92901bdb1554df80.txt']\n"
     ]
    },
    {
     "name": "stderr",
     "output_type": "stream",
     "text": [
      "100%|████████████████████████████████████████████████████████████████████████████████| 100/100 [00:08<00:00, 12.05it/s]"
     ]
    },
    {
     "name": "stdout",
     "output_type": "stream",
     "text": [
      "['D:\\\\version_6\\\\falldown/young-man-dress-nightclothes-sleeping-260nw-90510538_jpg.rf.345cec0a8832c9af45a10d22f5d588b4.png', 'D:\\\\version_6\\\\falldown/young-man-dress-nightclothes-sleeping-260nw-90510538_jpg.rf.345cec0a8832c9af45a10d22f5d588b4.txt']\n"
     ]
    },
    {
     "name": "stderr",
     "output_type": "stream",
     "text": [
      "\n"
     ]
    }
   ],
   "source": [
    "for file in tqdm(file_list):\n",
    "    tmp = file[len(path):-4]\n",
    "    \n",
    "#     print(tmp)\n",
    "\n",
    "    change_list = [os.path.join(path, tmp + '.png'), os.path.join(path, tmp + '.txt')]\n",
    "    des_list = [os.path.join(des, tmp + '.png'), os.path.join(des, tmp + '.txt')]\n",
    "    print(change_list)\n",
    "    with open(change_list[1], 'r') as f:\n",
    "        lines = f.readlines()\n",
    "        \n",
    "    image = Image.open(change_list[0])\n",
    "    image = image.convert('RGB') #'L': greyscale, '1': 이진화, 'RGB' , 'RGBA', 'CMYK'\n",
    "    # image = image.resize((300, 300))\n",
    "    \n",
    "#     shutil.copyfile(change_list[0], des_list[0])\n",
    "#     shutil.copyfile(change_list[1], des_list[1])\n",
    "\n",
    "    \n",
    "    # 좌우반전\n",
    "    horizonal_flip(image, lines, tmp)\n",
    "    \n",
    "#     # 상하반전\n",
    "#     vertical_flip(image, lines, tmp)\n",
    "    \n",
    "#     # 상하좌우반전\n",
    "#     hv_flip(image, lines, tmp)\n",
    "    \n"
   ]
  },
  {
   "cell_type": "code",
   "execution_count": null,
   "id": "9e480940",
   "metadata": {},
   "outputs": [],
   "source": []
  },
  {
   "cell_type": "code",
   "execution_count": null,
   "id": "09fad8bc",
   "metadata": {},
   "outputs": [],
   "source": []
  }
 ],
 "metadata": {
  "kernelspec": {
   "display_name": "Python 3 (ipykernel)",
   "language": "python",
   "name": "python3"
  },
  "language_info": {
   "codemirror_mode": {
    "name": "ipython",
    "version": 3
   },
   "file_extension": ".py",
   "mimetype": "text/x-python",
   "name": "python",
   "nbconvert_exporter": "python",
   "pygments_lexer": "ipython3",
   "version": "3.9.7"
  }
 },
 "nbformat": 4,
 "nbformat_minor": 5
}
