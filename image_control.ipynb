{
 "cells": [
  {
   "cell_type": "code",
   "execution_count": 21,
   "id": "3ac4ca0d",
   "metadata": {},
   "outputs": [
    {
     "name": "stdout",
     "output_type": "stream",
     "text": [
      "['C:\\\\Users\\\\jaehy\\\\Desktop\\\\test\\\\add_image\\\\1_frame0.png']\n"
     ]
    }
   ],
   "source": [
    "from glob import glob\n",
    "import cv2\n",
    "import os\n",
    "\n",
    "path = r'C:\\Users\\jaehy\\Desktop\\test\\add_image/'\n",
    "file_list = glob(path + '*.png')\n",
    "\n",
    "print(file_list)\n",
    "        \n",
    "        "
   ]
  },
  {
   "cell_type": "code",
   "execution_count": 22,
   "id": "eaf32461",
   "metadata": {},
   "outputs": [],
   "source": [
    "def horizonal_flip(image, lines):\n",
    "    horizonal_flip_image = image.transpose(Image.Transpose.FLIP_LEFT_RIGHT)\n",
    "    horizonal_flip_image.save(path + '_horizonal_flip.png')\n",
    "\n",
    "def vertical_flip(image, lines):\n",
    "    vertical_flip_image = image.transpose(Image.Transpose.FLIP_TOP_BOTTOM) \n",
    "    vertical_flip_image.save(path + '_vertical_flip.png')\n",
    "    \n",
    "def hv_flip(image, lines):\n",
    "    temp_flip_image = image.transpose(Image.Transpose.FLIP_LEFT_RIGHT)\n",
    "    hv_flip_image = temp_flip_image.transpose(Image.Transpose.FLIP_TOP_BOTTOM)\n",
    "    hv_flip_image.save(path + 'hv_flip.png')\n",
    "    \n"
   ]
  },
  {
   "cell_type": "code",
   "execution_count": 30,
   "id": "bd238a45",
   "metadata": {},
   "outputs": [
    {
     "name": "stdout",
     "output_type": "stream",
     "text": [
      "['C:\\\\Users\\\\jaehy\\\\Desktop\\\\test\\\\add_image/1_frame0.png', 'C:\\\\Users\\\\jaehy\\\\Desktop\\\\test\\\\add_image/1_frame0.txt']\n"
     ]
    }
   ],
   "source": [
    "from PIL import Image, ImageEnhance, ImageChops\n",
    "import numpy as np\n",
    "import random\n",
    "\n",
    "\n",
    "for file in file_list:\n",
    "    tmp = file[38:-4]\n",
    "    change_list = [os.path.join(path, tmp + '.png'), os.path.join(path, tmp + '.txt')]\n",
    "#     print(change_list)\n",
    "    with open(change_list[1], 'r') as f:\n",
    "        lines = f.readlines()\n",
    "    image = Image.open(change_list[0])\n",
    "    image = image.convert('RGB') #'L': greyscale, '1': 이진화, 'RGB' , 'RGBA', 'CMYK'\n",
    "\n",
    "\n",
    "# image = image.resize((300, 300))\n",
    "\n",
    "\n",
    "\n",
    "\n",
    "\n",
    "# #회전 \n",
    "# rotate_image = image.rotate(90)\n",
    "# rotate_image.save(path + '_rotate.png')\n",
    "\n"
   ]
  },
  {
   "cell_type": "code",
   "execution_count": null,
   "id": "9e480940",
   "metadata": {},
   "outputs": [],
   "source": []
  }
 ],
 "metadata": {
  "kernelspec": {
   "display_name": "Python 3 (ipykernel)",
   "language": "python",
   "name": "python3"
  },
  "language_info": {
   "codemirror_mode": {
    "name": "ipython",
    "version": 3
   },
   "file_extension": ".py",
   "mimetype": "text/x-python",
   "name": "python",
   "nbconvert_exporter": "python",
   "pygments_lexer": "ipython3",
   "version": "3.9.13"
  }
 },
 "nbformat": 4,
 "nbformat_minor": 5
}
